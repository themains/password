{
  "nbformat": 4,
  "nbformat_minor": 0,
  "metadata": {
    "colab": {
      "name": "passwordgen_rnn.ipynb",
      "provenance": []
    },
    "kernelspec": {
      "name": "python3",
      "display_name": "Python 3"
    },
    "language_info": {
      "name": "python"
    },
    "accelerator": "GPU",
    "widgets": {
      "application/vnd.jupyter.widget-state+json": {
        "1981d2921cf2403f9b407aeb15d7d8f3": {
          "model_module": "@jupyter-widgets/controls",
          "model_name": "HBoxModel",
          "model_module_version": "1.5.0",
          "state": {
            "_dom_classes": [],
            "_model_module": "@jupyter-widgets/controls",
            "_model_module_version": "1.5.0",
            "_model_name": "HBoxModel",
            "_view_count": null,
            "_view_module": "@jupyter-widgets/controls",
            "_view_module_version": "1.5.0",
            "_view_name": "HBoxView",
            "box_style": "",
            "children": [
              "IPY_MODEL_198fa4428d7d4353a566d7fb92495104",
              "IPY_MODEL_f9320318c08446309194bbccb644bff3",
              "IPY_MODEL_a915fdf70eda46fab3d6cbff7418d4b3"
            ],
            "layout": "IPY_MODEL_04e46282fd5c438699b058c6d0f856a4"
          }
        },
        "198fa4428d7d4353a566d7fb92495104": {
          "model_module": "@jupyter-widgets/controls",
          "model_name": "HTMLModel",
          "model_module_version": "1.5.0",
          "state": {
            "_dom_classes": [],
            "_model_module": "@jupyter-widgets/controls",
            "_model_module_version": "1.5.0",
            "_model_name": "HTMLModel",
            "_view_count": null,
            "_view_module": "@jupyter-widgets/controls",
            "_view_module_version": "1.5.0",
            "_view_name": "HTMLView",
            "description": "",
            "description_tooltip": null,
            "layout": "IPY_MODEL_70ec3c94341943e496faf345150e836c",
            "placeholder": "​",
            "style": "IPY_MODEL_9174153b52934414acefe6e284040d20",
            "value": "Epoch 0:   0%"
          }
        },
        "f9320318c08446309194bbccb644bff3": {
          "model_module": "@jupyter-widgets/controls",
          "model_name": "FloatProgressModel",
          "model_module_version": "1.5.0",
          "state": {
            "_dom_classes": [],
            "_model_module": "@jupyter-widgets/controls",
            "_model_module_version": "1.5.0",
            "_model_name": "FloatProgressModel",
            "_view_count": null,
            "_view_module": "@jupyter-widgets/controls",
            "_view_module_version": "1.5.0",
            "_view_name": "ProgressView",
            "bar_style": "",
            "description": "",
            "description_tooltip": null,
            "layout": "IPY_MODEL_f79deb8e3328426e9e2f3d028351c6a7",
            "max": 15013722,
            "min": 0,
            "orientation": "horizontal",
            "style": "IPY_MODEL_a8c963f944374cedb839158564f17e0e",
            "value": 17280
          }
        },
        "a915fdf70eda46fab3d6cbff7418d4b3": {
          "model_module": "@jupyter-widgets/controls",
          "model_name": "HTMLModel",
          "model_module_version": "1.5.0",
          "state": {
            "_dom_classes": [],
            "_model_module": "@jupyter-widgets/controls",
            "_model_module_version": "1.5.0",
            "_model_name": "HTMLModel",
            "_view_count": null,
            "_view_module": "@jupyter-widgets/controls",
            "_view_module_version": "1.5.0",
            "_view_name": "HTMLView",
            "description": "",
            "description_tooltip": null,
            "layout": "IPY_MODEL_6abed48d5ac841118c8d4832d90099c8",
            "placeholder": "​",
            "style": "IPY_MODEL_bef65e992ede4e2094fec5ce098f30d1",
            "value": " 17280/15013722 [05:00&lt;72:24:38, 57.53it/s, loss=2.74]"
          }
        },
        "04e46282fd5c438699b058c6d0f856a4": {
          "model_module": "@jupyter-widgets/base",
          "model_name": "LayoutModel",
          "model_module_version": "1.2.0",
          "state": {
            "_model_module": "@jupyter-widgets/base",
            "_model_module_version": "1.2.0",
            "_model_name": "LayoutModel",
            "_view_count": null,
            "_view_module": "@jupyter-widgets/base",
            "_view_module_version": "1.2.0",
            "_view_name": "LayoutView",
            "align_content": null,
            "align_items": null,
            "align_self": null,
            "border": null,
            "bottom": null,
            "display": "inline-flex",
            "flex": null,
            "flex_flow": "row wrap",
            "grid_area": null,
            "grid_auto_columns": null,
            "grid_auto_flow": null,
            "grid_auto_rows": null,
            "grid_column": null,
            "grid_gap": null,
            "grid_row": null,
            "grid_template_areas": null,
            "grid_template_columns": null,
            "grid_template_rows": null,
            "height": null,
            "justify_content": null,
            "justify_items": null,
            "left": null,
            "margin": null,
            "max_height": null,
            "max_width": null,
            "min_height": null,
            "min_width": null,
            "object_fit": null,
            "object_position": null,
            "order": null,
            "overflow": null,
            "overflow_x": null,
            "overflow_y": null,
            "padding": null,
            "right": null,
            "top": null,
            "visibility": null,
            "width": "100%"
          }
        },
        "70ec3c94341943e496faf345150e836c": {
          "model_module": "@jupyter-widgets/base",
          "model_name": "LayoutModel",
          "model_module_version": "1.2.0",
          "state": {
            "_model_module": "@jupyter-widgets/base",
            "_model_module_version": "1.2.0",
            "_model_name": "LayoutModel",
            "_view_count": null,
            "_view_module": "@jupyter-widgets/base",
            "_view_module_version": "1.2.0",
            "_view_name": "LayoutView",
            "align_content": null,
            "align_items": null,
            "align_self": null,
            "border": null,
            "bottom": null,
            "display": null,
            "flex": null,
            "flex_flow": null,
            "grid_area": null,
            "grid_auto_columns": null,
            "grid_auto_flow": null,
            "grid_auto_rows": null,
            "grid_column": null,
            "grid_gap": null,
            "grid_row": null,
            "grid_template_areas": null,
            "grid_template_columns": null,
            "grid_template_rows": null,
            "height": null,
            "justify_content": null,
            "justify_items": null,
            "left": null,
            "margin": null,
            "max_height": null,
            "max_width": null,
            "min_height": null,
            "min_width": null,
            "object_fit": null,
            "object_position": null,
            "order": null,
            "overflow": null,
            "overflow_x": null,
            "overflow_y": null,
            "padding": null,
            "right": null,
            "top": null,
            "visibility": null,
            "width": null
          }
        },
        "9174153b52934414acefe6e284040d20": {
          "model_module": "@jupyter-widgets/controls",
          "model_name": "DescriptionStyleModel",
          "model_module_version": "1.5.0",
          "state": {
            "_model_module": "@jupyter-widgets/controls",
            "_model_module_version": "1.5.0",
            "_model_name": "DescriptionStyleModel",
            "_view_count": null,
            "_view_module": "@jupyter-widgets/base",
            "_view_module_version": "1.2.0",
            "_view_name": "StyleView",
            "description_width": ""
          }
        },
        "f79deb8e3328426e9e2f3d028351c6a7": {
          "model_module": "@jupyter-widgets/base",
          "model_name": "LayoutModel",
          "model_module_version": "1.2.0",
          "state": {
            "_model_module": "@jupyter-widgets/base",
            "_model_module_version": "1.2.0",
            "_model_name": "LayoutModel",
            "_view_count": null,
            "_view_module": "@jupyter-widgets/base",
            "_view_module_version": "1.2.0",
            "_view_name": "LayoutView",
            "align_content": null,
            "align_items": null,
            "align_self": null,
            "border": null,
            "bottom": null,
            "display": null,
            "flex": "2",
            "flex_flow": null,
            "grid_area": null,
            "grid_auto_columns": null,
            "grid_auto_flow": null,
            "grid_auto_rows": null,
            "grid_column": null,
            "grid_gap": null,
            "grid_row": null,
            "grid_template_areas": null,
            "grid_template_columns": null,
            "grid_template_rows": null,
            "height": null,
            "justify_content": null,
            "justify_items": null,
            "left": null,
            "margin": null,
            "max_height": null,
            "max_width": null,
            "min_height": null,
            "min_width": null,
            "object_fit": null,
            "object_position": null,
            "order": null,
            "overflow": null,
            "overflow_x": null,
            "overflow_y": null,
            "padding": null,
            "right": null,
            "top": null,
            "visibility": null,
            "width": null
          }
        },
        "a8c963f944374cedb839158564f17e0e": {
          "model_module": "@jupyter-widgets/controls",
          "model_name": "ProgressStyleModel",
          "model_module_version": "1.5.0",
          "state": {
            "_model_module": "@jupyter-widgets/controls",
            "_model_module_version": "1.5.0",
            "_model_name": "ProgressStyleModel",
            "_view_count": null,
            "_view_module": "@jupyter-widgets/base",
            "_view_module_version": "1.2.0",
            "_view_name": "StyleView",
            "bar_color": null,
            "description_width": ""
          }
        },
        "6abed48d5ac841118c8d4832d90099c8": {
          "model_module": "@jupyter-widgets/base",
          "model_name": "LayoutModel",
          "model_module_version": "1.2.0",
          "state": {
            "_model_module": "@jupyter-widgets/base",
            "_model_module_version": "1.2.0",
            "_model_name": "LayoutModel",
            "_view_count": null,
            "_view_module": "@jupyter-widgets/base",
            "_view_module_version": "1.2.0",
            "_view_name": "LayoutView",
            "align_content": null,
            "align_items": null,
            "align_self": null,
            "border": null,
            "bottom": null,
            "display": null,
            "flex": null,
            "flex_flow": null,
            "grid_area": null,
            "grid_auto_columns": null,
            "grid_auto_flow": null,
            "grid_auto_rows": null,
            "grid_column": null,
            "grid_gap": null,
            "grid_row": null,
            "grid_template_areas": null,
            "grid_template_columns": null,
            "grid_template_rows": null,
            "height": null,
            "justify_content": null,
            "justify_items": null,
            "left": null,
            "margin": null,
            "max_height": null,
            "max_width": null,
            "min_height": null,
            "min_width": null,
            "object_fit": null,
            "object_position": null,
            "order": null,
            "overflow": null,
            "overflow_x": null,
            "overflow_y": null,
            "padding": null,
            "right": null,
            "top": null,
            "visibility": null,
            "width": null
          }
        },
        "bef65e992ede4e2094fec5ce098f30d1": {
          "model_module": "@jupyter-widgets/controls",
          "model_name": "DescriptionStyleModel",
          "model_module_version": "1.5.0",
          "state": {
            "_model_module": "@jupyter-widgets/controls",
            "_model_module_version": "1.5.0",
            "_model_name": "DescriptionStyleModel",
            "_view_count": null,
            "_view_module": "@jupyter-widgets/base",
            "_view_module_version": "1.2.0",
            "_view_name": "StyleView",
            "description_width": ""
          }
        }
      }
    }
  },
  "cells": [
    {
      "cell_type": "code",
      "execution_count": 2,
      "metadata": {
        "colab": {
          "base_uri": "https://localhost:8080/"
        },
        "id": "oKeos69LGynz",
        "outputId": "62dbe615-26d4-4bf3-c624-c54fb3c15ffe"
      },
      "outputs": [
        {
          "output_type": "stream",
          "name": "stdout",
          "text": [
            "Requirement already satisfied: pytorch-lightning in /usr/local/lib/python3.7/dist-packages (1.6.3)\n",
            "Requirement already satisfied: numpy>=1.17.2 in /usr/local/lib/python3.7/dist-packages (from pytorch-lightning) (1.21.6)\n",
            "Requirement already satisfied: packaging>=17.0 in /usr/local/lib/python3.7/dist-packages (from pytorch-lightning) (21.3)\n",
            "Requirement already satisfied: tqdm>=4.57.0 in /usr/local/lib/python3.7/dist-packages (from pytorch-lightning) (4.64.0)\n",
            "Requirement already satisfied: typing-extensions>=4.0.0 in /usr/local/lib/python3.7/dist-packages (from pytorch-lightning) (4.2.0)\n",
            "Requirement already satisfied: torchmetrics>=0.4.1 in /usr/local/lib/python3.7/dist-packages (from pytorch-lightning) (0.8.1)\n",
            "Requirement already satisfied: torch>=1.8.* in /usr/local/lib/python3.7/dist-packages (from pytorch-lightning) (1.11.0+cu113)\n",
            "Requirement already satisfied: PyYAML>=5.4 in /usr/local/lib/python3.7/dist-packages (from pytorch-lightning) (6.0)\n",
            "Requirement already satisfied: pyDeprecate<0.4.0,>=0.3.1 in /usr/local/lib/python3.7/dist-packages (from pytorch-lightning) (0.3.2)\n",
            "Requirement already satisfied: fsspec[http]!=2021.06.0,>=2021.05.0 in /usr/local/lib/python3.7/dist-packages (from pytorch-lightning) (2022.3.0)\n",
            "Requirement already satisfied: tensorboard>=2.2.0 in /usr/local/lib/python3.7/dist-packages (from pytorch-lightning) (2.8.0)\n",
            "Requirement already satisfied: aiohttp in /usr/local/lib/python3.7/dist-packages (from fsspec[http]!=2021.06.0,>=2021.05.0->pytorch-lightning) (3.8.1)\n",
            "Requirement already satisfied: requests in /usr/local/lib/python3.7/dist-packages (from fsspec[http]!=2021.06.0,>=2021.05.0->pytorch-lightning) (2.23.0)\n",
            "Requirement already satisfied: pyparsing!=3.0.5,>=2.0.2 in /usr/local/lib/python3.7/dist-packages (from packaging>=17.0->pytorch-lightning) (3.0.8)\n",
            "Requirement already satisfied: setuptools>=41.0.0 in /usr/local/lib/python3.7/dist-packages (from tensorboard>=2.2.0->pytorch-lightning) (57.4.0)\n",
            "Requirement already satisfied: tensorboard-data-server<0.7.0,>=0.6.0 in /usr/local/lib/python3.7/dist-packages (from tensorboard>=2.2.0->pytorch-lightning) (0.6.1)\n",
            "Requirement already satisfied: werkzeug>=0.11.15 in /usr/local/lib/python3.7/dist-packages (from tensorboard>=2.2.0->pytorch-lightning) (1.0.1)\n",
            "Requirement already satisfied: google-auth<3,>=1.6.3 in /usr/local/lib/python3.7/dist-packages (from tensorboard>=2.2.0->pytorch-lightning) (1.35.0)\n",
            "Requirement already satisfied: grpcio>=1.24.3 in /usr/local/lib/python3.7/dist-packages (from tensorboard>=2.2.0->pytorch-lightning) (1.44.0)\n",
            "Requirement already satisfied: protobuf>=3.6.0 in /usr/local/lib/python3.7/dist-packages (from tensorboard>=2.2.0->pytorch-lightning) (3.17.3)\n",
            "Requirement already satisfied: tensorboard-plugin-wit>=1.6.0 in /usr/local/lib/python3.7/dist-packages (from tensorboard>=2.2.0->pytorch-lightning) (1.8.1)\n",
            "Requirement already satisfied: google-auth-oauthlib<0.5,>=0.4.1 in /usr/local/lib/python3.7/dist-packages (from tensorboard>=2.2.0->pytorch-lightning) (0.4.6)\n",
            "Requirement already satisfied: wheel>=0.26 in /usr/local/lib/python3.7/dist-packages (from tensorboard>=2.2.0->pytorch-lightning) (0.37.1)\n",
            "Requirement already satisfied: markdown>=2.6.8 in /usr/local/lib/python3.7/dist-packages (from tensorboard>=2.2.0->pytorch-lightning) (3.3.6)\n",
            "Requirement already satisfied: absl-py>=0.4 in /usr/local/lib/python3.7/dist-packages (from tensorboard>=2.2.0->pytorch-lightning) (1.0.0)\n",
            "Requirement already satisfied: six in /usr/local/lib/python3.7/dist-packages (from absl-py>=0.4->tensorboard>=2.2.0->pytorch-lightning) (1.15.0)\n",
            "Requirement already satisfied: pyasn1-modules>=0.2.1 in /usr/local/lib/python3.7/dist-packages (from google-auth<3,>=1.6.3->tensorboard>=2.2.0->pytorch-lightning) (0.2.8)\n",
            "Requirement already satisfied: cachetools<5.0,>=2.0.0 in /usr/local/lib/python3.7/dist-packages (from google-auth<3,>=1.6.3->tensorboard>=2.2.0->pytorch-lightning) (4.2.4)\n",
            "Requirement already satisfied: rsa<5,>=3.1.4 in /usr/local/lib/python3.7/dist-packages (from google-auth<3,>=1.6.3->tensorboard>=2.2.0->pytorch-lightning) (4.8)\n",
            "Requirement already satisfied: requests-oauthlib>=0.7.0 in /usr/local/lib/python3.7/dist-packages (from google-auth-oauthlib<0.5,>=0.4.1->tensorboard>=2.2.0->pytorch-lightning) (1.3.1)\n",
            "Requirement already satisfied: importlib-metadata>=4.4 in /usr/local/lib/python3.7/dist-packages (from markdown>=2.6.8->tensorboard>=2.2.0->pytorch-lightning) (4.11.3)\n",
            "Requirement already satisfied: zipp>=0.5 in /usr/local/lib/python3.7/dist-packages (from importlib-metadata>=4.4->markdown>=2.6.8->tensorboard>=2.2.0->pytorch-lightning) (3.8.0)\n",
            "Requirement already satisfied: pyasn1<0.5.0,>=0.4.6 in /usr/local/lib/python3.7/dist-packages (from pyasn1-modules>=0.2.1->google-auth<3,>=1.6.3->tensorboard>=2.2.0->pytorch-lightning) (0.4.8)\n",
            "Requirement already satisfied: urllib3!=1.25.0,!=1.25.1,<1.26,>=1.21.1 in /usr/local/lib/python3.7/dist-packages (from requests->fsspec[http]!=2021.06.0,>=2021.05.0->pytorch-lightning) (1.24.3)\n",
            "Requirement already satisfied: certifi>=2017.4.17 in /usr/local/lib/python3.7/dist-packages (from requests->fsspec[http]!=2021.06.0,>=2021.05.0->pytorch-lightning) (2021.10.8)\n",
            "Requirement already satisfied: idna<3,>=2.5 in /usr/local/lib/python3.7/dist-packages (from requests->fsspec[http]!=2021.06.0,>=2021.05.0->pytorch-lightning) (2.10)\n",
            "Requirement already satisfied: chardet<4,>=3.0.2 in /usr/local/lib/python3.7/dist-packages (from requests->fsspec[http]!=2021.06.0,>=2021.05.0->pytorch-lightning) (3.0.4)\n",
            "Requirement already satisfied: oauthlib>=3.0.0 in /usr/local/lib/python3.7/dist-packages (from requests-oauthlib>=0.7.0->google-auth-oauthlib<0.5,>=0.4.1->tensorboard>=2.2.0->pytorch-lightning) (3.2.0)\n",
            "Requirement already satisfied: aiosignal>=1.1.2 in /usr/local/lib/python3.7/dist-packages (from aiohttp->fsspec[http]!=2021.06.0,>=2021.05.0->pytorch-lightning) (1.2.0)\n",
            "Requirement already satisfied: yarl<2.0,>=1.0 in /usr/local/lib/python3.7/dist-packages (from aiohttp->fsspec[http]!=2021.06.0,>=2021.05.0->pytorch-lightning) (1.7.2)\n",
            "Requirement already satisfied: multidict<7.0,>=4.5 in /usr/local/lib/python3.7/dist-packages (from aiohttp->fsspec[http]!=2021.06.0,>=2021.05.0->pytorch-lightning) (6.0.2)\n",
            "Requirement already satisfied: frozenlist>=1.1.1 in /usr/local/lib/python3.7/dist-packages (from aiohttp->fsspec[http]!=2021.06.0,>=2021.05.0->pytorch-lightning) (1.3.0)\n",
            "Requirement already satisfied: asynctest==0.13.0 in /usr/local/lib/python3.7/dist-packages (from aiohttp->fsspec[http]!=2021.06.0,>=2021.05.0->pytorch-lightning) (0.13.0)\n",
            "Requirement already satisfied: async-timeout<5.0,>=4.0.0a3 in /usr/local/lib/python3.7/dist-packages (from aiohttp->fsspec[http]!=2021.06.0,>=2021.05.0->pytorch-lightning) (4.0.2)\n",
            "Requirement already satisfied: charset-normalizer<3.0,>=2.0 in /usr/local/lib/python3.7/dist-packages (from aiohttp->fsspec[http]!=2021.06.0,>=2021.05.0->pytorch-lightning) (2.0.12)\n",
            "Requirement already satisfied: attrs>=17.3.0 in /usr/local/lib/python3.7/dist-packages (from aiohttp->fsspec[http]!=2021.06.0,>=2021.05.0->pytorch-lightning) (21.4.0)\n"
          ]
        }
      ],
      "source": [
        "!pip install pytorch-lightning\n",
        "import torch\n",
        "from torch import nn\n",
        "from torch.utils.data import Dataset, DataLoader\n",
        "from torch.optim import lr_scheduler, Adam\n",
        "\n",
        "import pytorch_lightning as pl\n",
        "from pytorch_lightning import Trainer\n",
        "from pytorch_lightning.callbacks import ModelCheckpoint\n",
        "from pytorch_lightning.loggers import TensorBoardLogger\n",
        "\n",
        "import pandas as pd\n",
        "import string"
      ]
    },
    {
      "cell_type": "code",
      "source": [
        "# !wget https://transfer.sh/6KUxG4/rockyou.txt\n",
        "import re\n",
        "data = re.findall('\\w+', open('rockyou.txt', encoding='latin-1').read())"
      ],
      "metadata": {
        "id": "Ibzhgi8_HUP5"
      },
      "execution_count": 3,
      "outputs": []
    },
    {
      "cell_type": "code",
      "source": [
        "all_letters = [\"<pad>\"] + list(string.printable) + [\"<eos>\"]\n",
        "n_letters = len(all_letters)\n",
        "n_letters\n",
        "\n"
      ],
      "metadata": {
        "colab": {
          "base_uri": "https://localhost:8080/"
        },
        "id": "-D9OaZe2HDmE",
        "outputId": "ea5688d6-dc4d-4593-bd8a-0eb1ab26894e"
      },
      "execution_count": 4,
      "outputs": [
        {
          "output_type": "execute_result",
          "data": {
            "text/plain": [
              "102"
            ]
          },
          "metadata": {},
          "execution_count": 4
        }
      ]
    },
    {
      "cell_type": "code",
      "source": [
        "clean_data = []\n",
        "for strs in data:\n",
        "  if strs.isascii():\n",
        "    clean_data.append(strs)\n",
        "\n",
        "data = clean_data    "
      ],
      "metadata": {
        "id": "531fimGfV9i1"
      },
      "execution_count": 6,
      "outputs": []
    },
    {
      "cell_type": "code",
      "source": [
        "stoi = {letter : idx for idx, letter in enumerate(all_letters)}\n",
        "itos = [letter for idx, letter in enumerate(all_letters)]"
      ],
      "metadata": {
        "id": "auwHztBgIonC"
      },
      "execution_count": 7,
      "outputs": []
    },
    {
      "cell_type": "code",
      "source": [
        "class NamesDataset(Dataset):\n",
        "    def __init__(self, data, stoi, eos_token=\"<eos>\"):\n",
        "        self.stoi = stoi\n",
        "        self.eos_token = eos_token\n",
        "        self.n_tokens = len(self.stoi)\n",
        "        \n",
        "        self.names = data\n",
        "\n",
        "\n",
        "    def __getitem__(self, item):\n",
        "        name = self.names[item]\n",
        "        \n",
        "        input_tensor = torch.tensor([stoi[char] for char in name])\n",
        "        target_tensor = torch.tensor([stoi[char] for char in list(name[1:])+[self.eos_token]])\n",
        "        \n",
        "        item_dict = {\n",
        "        \"name\": name,\n",
        "        \"input_tensor\": input_tensor,\n",
        "        \"target_tensor\": target_tensor}\n",
        "        \n",
        "        \n",
        "        return item_dict\n",
        "\n",
        "    def __len__(self):\n",
        "        return len(self.names)"
      ],
      "metadata": {
        "id": "-pOWQz7pJk-C"
      },
      "execution_count": 8,
      "outputs": []
    },
    {
      "cell_type": "code",
      "source": [
        "ds = NamesDataset(data, stoi)\n",
        "\n",
        "ds[0]"
      ],
      "metadata": {
        "colab": {
          "base_uri": "https://localhost:8080/"
        },
        "id": "qo1SieHdKMkT",
        "outputId": "1fd85d16-7951-4c94-f27e-351599c97800"
      },
      "execution_count": 9,
      "outputs": [
        {
          "output_type": "execute_result",
          "data": {
            "text/plain": [
              "{'input_tensor': tensor([2, 3, 4, 5, 6, 7]),\n",
              " 'name': '123456',\n",
              " 'target_tensor': tensor([  3,   4,   5,   6,   7, 101])}"
            ]
          },
          "metadata": {},
          "execution_count": 9
        }
      ]
    },
    {
      "cell_type": "code",
      "source": [
        "def collate_fn(data):\n",
        "    def merge(sequences):\n",
        "        \"https://github.com/yunjey/seq2seq-dataloader/blob/master/data_loader.py\"\n",
        "        \n",
        "        lengths = [len(seq) for seq in sequences]\n",
        "        padded_seqs = torch.zeros(len(sequences), max(lengths)).long()\n",
        "        for i, seq in enumerate(sequences):\n",
        "            end = lengths[i]\n",
        "            padded_seqs[i, :end] = seq[:end]\n",
        "        return padded_seqs, lengths\n",
        "       \n",
        "    names = [x[\"name\"] for x in data]          \n",
        "    \n",
        "    input_tensors = [x[\"input_tensor\"] for x in data]\n",
        "    input_tensors, _ = merge(input_tensors)\n",
        "    \n",
        "    target_tensors = [x[\"target_tensor\"] for x in data]\n",
        "    target_tensors, _ = merge(target_tensors)\n",
        "    \n",
        "    return names, input_tensors, target_tensors"
      ],
      "metadata": {
        "id": "UpPoi55YKPmr"
      },
      "execution_count": 10,
      "outputs": []
    },
    {
      "cell_type": "code",
      "source": [
        "dl = DataLoader(ds, batch_size=1, collate_fn=collate_fn, shuffle=True)"
      ],
      "metadata": {
        "id": "8OOYW1gNMYgs"
      },
      "execution_count": 11,
      "outputs": []
    },
    {
      "cell_type": "code",
      "source": [
        "next(iter(dl))"
      ],
      "metadata": {
        "colab": {
          "base_uri": "https://localhost:8080/"
        },
        "id": "KsclrqDrMblt",
        "outputId": "2b99d99c-919f-4d78-9ed3-b7bf4d3b07e3"
      },
      "execution_count": 12,
      "outputs": [
        {
          "output_type": "execute_result",
          "data": {
            "text/plain": [
              "(['021444'],\n",
              " tensor([[1, 3, 2, 5, 5, 5]]),\n",
              " tensor([[  3,   2,   5,   5,   5, 101]]))"
            ]
          },
          "metadata": {},
          "execution_count": 12
        }
      ]
    },
    {
      "cell_type": "code",
      "source": [
        "class NamesDatamodule(pl.LightningDataModule):\n",
        "    def __init__(self, batch_size):\n",
        "        super().__init__()\n",
        "        self.batch_size = batch_size\n",
        "        self.data = re.findall('\\w+', open('rockyou.txt', encoding='latin-1').read())\n",
        "        self.all_letters = [\"<pad>\"] + list(string.printable) + [\"<eos>\"]\n",
        "        self.stoi = {letter : idx for idx, letter in enumerate(self.all_letters)}\n",
        "\n",
        "    def setup(self, stage=None):\n",
        "        self.train_set = NamesDataset(data, self.stoi)\n",
        "\n",
        "    def train_dataloader(self):\n",
        "        return DataLoader(self.train_set, batch_size=self.batch_size, shuffle=True, collate_fn=self.collate_fn)\n",
        "    \n",
        "    def collate_fn(self, data):\n",
        "        def merge(sequences):\n",
        "            \"https://github.com/yunjey/seq2seq-dataloader/blob/master/data_loader.py\"\n",
        "\n",
        "            lengths = [len(seq) for seq in sequences]\n",
        "            padded_seqs = torch.zeros(len(sequences), max(lengths)).long()\n",
        "            for i, seq in enumerate(sequences):\n",
        "                end = lengths[i]\n",
        "                padded_seqs[i, :end] = seq[:end]\n",
        "            return padded_seqs, lengths\n",
        "\n",
        "        names = [x[\"name\"] for x in data]          \n",
        "\n",
        "        input_tensors = [x[\"input_tensor\"] for x in data]\n",
        "        input_tensors, _ = merge(input_tensors)\n",
        "\n",
        "        target_tensors = [x[\"target_tensor\"] for x in data]\n",
        "        target_tensors, _ = merge(target_tensors)\n",
        "        \n",
        "        item_dict = {\n",
        "                     \"names\": names, \n",
        "                     \"input_tensors\": input_tensors,\n",
        "                     \"target_tensors\": target_tensors}\n",
        "\n",
        "        return item_dict"
      ],
      "metadata": {
        "id": "xBDMoEtPMyiN"
      },
      "execution_count": 13,
      "outputs": []
    },
    {
      "cell_type": "code",
      "source": [
        "class RNN(pl.LightningModule):\n",
        "    lr = 5e-4\n",
        "\n",
        "    def __init__(self, input_size, hidden_size, embeding_size, n_layers, output_size, p):\n",
        "        super().__init__()\n",
        "\n",
        "        self.criterion = nn.CrossEntropyLoss()\n",
        "        \n",
        "        self.n_layers = n_layers\n",
        "        self.hidden_size = hidden_size\n",
        "        \n",
        "        \n",
        "        self.embeding = nn.Embedding(input_size, embeding_size)\n",
        "        self.lstm = nn.LSTM(embeding_size, hidden_size, n_layers, dropout=p)\n",
        "        self.out_fc = nn.Linear(hidden_size, output_size)\n",
        "        \n",
        "        self.dropout = nn.Dropout(p)\n",
        "        \n",
        "\n",
        "    def forward(self, batch_of_letter, hidden, cell):\n",
        "        ## letter level operations\n",
        "        \n",
        "        embeding = self.dropout(self.embeding(batch_of_letter))\n",
        "        # category_plus_letter = torch.cat((batch_of_category, embeding), 1)\n",
        "\n",
        "        #sequence_length = 1\n",
        "        category_plus_letter = embeding.unsqueeze(1)\n",
        "        \n",
        "        out, (hidden, cell) = self.lstm(category_plus_letter, (hidden, cell))\n",
        "        out = self.out_fc(out)\n",
        "        out = out.squeeze(1)\n",
        "        \n",
        "        return out, (hidden, cell)\n",
        "        \n",
        "\n",
        "    def configure_optimizers(self):\n",
        "        optimizer = Adam(self.parameters(), self.lr)\n",
        "        scheduler = lr_scheduler.StepLR(optimizer, step_size=7, gamma=0.1)\n",
        "\n",
        "        return [optimizer], [scheduler]\n",
        "\n",
        "    def training_step(self, batch, batch_idx):\n",
        "        item_dict = batch\n",
        "        loss = 0\n",
        "\n",
        "        #to(device) needed due to some problem with PL\n",
        "        hidden = torch.zeros(self.n_layers, 1, self.hidden_size).to(self.device)\n",
        "        cell = torch.zeros(self.n_layers, 1, self.hidden_size).to(self.device)\n",
        "\n",
        "        #we loop over letters, single batch at the time \n",
        "        for t in range(item_dict[\"input_tensors\"].size(1)):\n",
        "            batch_of_letter = item_dict[\"input_tensors\"][:, t]\n",
        "            \n",
        "            output, (hidden, cell) = self(batch_of_letter, hidden, cell)\n",
        "            \n",
        "            loss += self.criterion(output, item_dict[\"target_tensors\"][:, t])\n",
        "\n",
        "        loss = loss/(t+1)\n",
        "\n",
        "        tensorboard_logs = {'train_loss': loss}\n",
        "\n",
        "        return {'loss': loss, 'log': tensorboard_logs}\n",
        "    \n",
        "    \n",
        "    def init_hidden(self, batch_size):\n",
        "        hidden = torch.zeros(self.n_layers, batch_size, self.hidden_size)\n",
        "        cell = torch.zeros(self.n_layers, batch_size, self.hidden_size)\n",
        "        \n",
        "        return hidden, cell"
      ],
      "metadata": {
        "id": "kH_XH6IgNvM4"
      },
      "execution_count": 14,
      "outputs": []
    },
    {
      "cell_type": "code",
      "source": [
        "dm = NamesDatamodule(1)\n",
        "\n",
        "rnn_model = RNN(input_size=ds.n_tokens,\n",
        "            hidden_size=256,\n",
        "            embeding_size = 128, \n",
        "            n_layers=2,    \n",
        "            output_size=ds.n_tokens,\n",
        "            p=0.3)\n",
        "\n",
        "\n",
        "trainer = Trainer(max_epochs=3, \n",
        "                  logger=None,\n",
        "                  gpus=1,)\n",
        "\n",
        "trainer.fit(rnn_model, dm)"
      ],
      "metadata": {
        "colab": {
          "base_uri": "https://localhost:8080/",
          "height": 381,
          "referenced_widgets": [
            "1981d2921cf2403f9b407aeb15d7d8f3",
            "198fa4428d7d4353a566d7fb92495104",
            "f9320318c08446309194bbccb644bff3",
            "a915fdf70eda46fab3d6cbff7418d4b3",
            "04e46282fd5c438699b058c6d0f856a4",
            "70ec3c94341943e496faf345150e836c",
            "9174153b52934414acefe6e284040d20",
            "f79deb8e3328426e9e2f3d028351c6a7",
            "a8c963f944374cedb839158564f17e0e",
            "6abed48d5ac841118c8d4832d90099c8",
            "bef65e992ede4e2094fec5ce098f30d1"
          ]
        },
        "id": "H6i1ga2iOpgA",
        "outputId": "e397bc6d-c18b-46a1-af7b-dd25f35b55c1"
      },
      "execution_count": null,
      "outputs": [
        {
          "output_type": "stream",
          "name": "stderr",
          "text": [
            "GPU available: True, used: True\n",
            "TPU available: False, using: 0 TPU cores\n",
            "IPU available: False, using: 0 IPUs\n",
            "HPU available: False, using: 0 HPUs\n",
            "LOCAL_RANK: 0 - CUDA_VISIBLE_DEVICES: [0]\n",
            "\n",
            "  | Name      | Type             | Params\n",
            "-----------------------------------------------\n",
            "0 | criterion | CrossEntropyLoss | 0     \n",
            "1 | embeding  | Embedding        | 13.1 K\n",
            "2 | lstm      | LSTM             | 921 K \n",
            "3 | out_fc    | Linear           | 26.2 K\n",
            "4 | dropout   | Dropout          | 0     \n",
            "-----------------------------------------------\n",
            "960 K     Trainable params\n",
            "0         Non-trainable params\n",
            "960 K     Total params\n",
            "3.843     Total estimated model params size (MB)\n"
          ]
        },
        {
          "output_type": "display_data",
          "data": {
            "text/plain": [
              "Training: 0it [00:00, ?it/s]"
            ],
            "application/vnd.jupyter.widget-view+json": {
              "version_major": 2,
              "version_minor": 0,
              "model_id": "1981d2921cf2403f9b407aeb15d7d8f3"
            }
          },
          "metadata": {}
        }
      ]
    },
    {
      "cell_type": "code",
      "source": [
        ""
      ],
      "metadata": {
        "id": "Yx0_MfPGY7VY"
      },
      "execution_count": null,
      "outputs": []
    }
  ]
}