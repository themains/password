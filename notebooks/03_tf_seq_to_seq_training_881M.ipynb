{
 "cells": [
  {
   "cell_type": "markdown",
   "metadata": {
    "id": "Lvo0t7XVIkWZ"
   },
   "source": [
    "# Password"
   ]
  },
  {
   "cell_type": "code",
   "execution_count": 2,
   "metadata": {
    "id": "HnrzE6W2XQOz"
   },
   "outputs": [],
   "source": [
    "import numpy as np\n",
    "import tensorflow as tf\n",
    "import os\n",
    "\n",
    "import distutils"
   ]
  },
  {
   "cell_type": "code",
   "execution_count": 3,
   "metadata": {
    "colab": {
     "base_uri": "https://localhost:8080/",
     "height": 35
    },
    "id": "dE-oZTXXJD4o",
    "outputId": "79401aea-a8ed-4ae4-ee47-c4ab13fe181b"
   },
   "outputs": [
    {
     "data": {
      "text/plain": [
       "'2.8.0'"
      ]
     },
     "execution_count": 3,
     "metadata": {},
     "output_type": "execute_result"
    }
   ],
   "source": [
    "tf.__version__"
   ]
  },
  {
   "cell_type": "markdown",
   "metadata": {},
   "source": [
    "## Add required libraries\n",
    "nltk is required for calculating BLEU Score"
   ]
  },
  {
   "cell_type": "code",
   "execution_count": 4,
   "metadata": {},
   "outputs": [
    {
     "name": "stdout",
     "output_type": "stream",
     "text": [
      "Defaulting to user installation because normal site-packages is not writeable\n",
      "Requirement already satisfied: nltk in /home/ubuntu/.local/lib/python3.8/site-packages (3.7)\n",
      "Requirement already satisfied: click in /usr/lib/python3/dist-packages (from nltk) (7.0)\n",
      "Requirement already satisfied: joblib in /home/ubuntu/.local/lib/python3.8/site-packages (from nltk) (1.1.0)\n",
      "Requirement already satisfied: regex>=2021.8.3 in /home/ubuntu/.local/lib/python3.8/site-packages (from nltk) (2022.6.2)\n",
      "Requirement already satisfied: tqdm in /home/ubuntu/.local/lib/python3.8/site-packages (from nltk) (4.64.0)\n",
      "\u001b[33mWARNING: There was an error checking the latest version of pip.\u001b[0m\u001b[33m\n",
      "\u001b[0m"
     ]
    }
   ],
   "source": [
    "!pip install nltk"
   ]
  },
  {
   "cell_type": "markdown",
   "metadata": {},
   "source": [
    "## Set memory growth\n",
    "This will not allow tf to allocate whole GPU at once and use GPU as needed."
   ]
  },
  {
   "cell_type": "code",
   "execution_count": 5,
   "metadata": {},
   "outputs": [
    {
     "name": "stdout",
     "output_type": "stream",
     "text": [
      "1 Physical GPUs, 1 Logical GPUs\n"
     ]
    }
   ],
   "source": [
    "gpus = tf.config.list_physical_devices('GPU')\n",
    "if gpus:\n",
    "  try:\n",
    "    # Currently, memory growth needs to be the same across GPUs\n",
    "    for gpu in gpus:\n",
    "      tf.config.experimental.set_memory_growth(gpu, True)\n",
    "    logical_gpus = tf.config.list_logical_devices('GPU')\n",
    "    print(len(gpus), \"Physical GPUs,\", len(logical_gpus), \"Logical GPUs\")\n",
    "  except RuntimeError as e:\n",
    "    # Memory growth must be set before GPUs have been initialized\n",
    "    print(e)"
   ]
  },
  {
   "cell_type": "markdown",
   "metadata": {},
   "source": [
    "## Peak raw data \n",
    "816 M records for training,\n",
    "21 M records for validation,\n",
    "21 M records for Testing"
   ]
  },
  {
   "cell_type": "code",
   "execution_count": 6,
   "metadata": {
    "colab": {
     "base_uri": "https://localhost:8080/"
    },
    "id": "qa89F5laN662",
    "outputId": "a4a1926d-6c98-43da-97a2-1c9a6b08231c"
   },
   "outputs": [
    {
     "name": "stdout",
     "output_type": "stream",
     "text": [
      "-rw------- 1 ubuntu ubuntu   8918059640 Jul  1 00:15 passwd_db_train\n",
      "-rw------- 1 ubuntu ubuntu    234670546 Jul  1 00:20 passwd_db_val\n",
      "-rw------- 1 ubuntu ubuntu    234703662 Jul  1 00:20 passwd_db_test\n",
      "-rw-r--r-- 1 ubuntu ubuntu          102 Jul  2 23:10 passwd_db_min\n",
      "-rw------- 1 ubuntu ubuntu   3224999700 Jul  4 15:36 passwd_db_test.tfrecords\n",
      "-rw------- 1 ubuntu ubuntu   3224999700 Jul  4 16:04 passwd_db_val.tfrecords\n",
      "-rw------- 1 ubuntu ubuntu 122549987700 Jul  4 16:33 passwd_db_train.tfrecords\n"
     ]
    }
   ],
   "source": [
    "!ls -ltr passwd_db*"
   ]
  },
  {
   "cell_type": "code",
   "execution_count": 6,
   "metadata": {
    "colab": {
     "base_uri": "https://localhost:8080/"
    },
    "id": "rh_w7LMtOAbG",
    "outputId": "152cd7fc-2803-47e0-9487-be10e9b65bd2"
   },
   "outputs": [
    {
     "name": "stdout",
     "output_type": "stream",
     "text": [
      "816999918 passwd_db_train\n"
     ]
    }
   ],
   "source": [
    "!wc -l passwd_db_train"
   ]
  },
  {
   "cell_type": "code",
   "execution_count": 7,
   "metadata": {
    "colab": {
     "base_uri": "https://localhost:8080/"
    },
    "id": "sPRHRcrrOHx3",
    "outputId": "07921bd9-284b-4b9b-ab7e-7f8a4a610aa6"
   },
   "outputs": [
    {
     "name": "stdout",
     "output_type": "stream",
     "text": [
      "21499998 passwd_db_val\n"
     ]
    }
   ],
   "source": [
    "!wc -l passwd_db_val"
   ]
  },
  {
   "cell_type": "code",
   "execution_count": 8,
   "metadata": {},
   "outputs": [
    {
     "name": "stdout",
     "output_type": "stream",
     "text": [
      "21499998 passwd_db_test\n"
     ]
    }
   ],
   "source": [
    "!wc -l passwd_db_test"
   ]
  },
  {
   "cell_type": "code",
   "execution_count": 7,
   "metadata": {},
   "outputs": [
    {
     "name": "stdout",
     "output_type": "stream",
     "text": [
      "(32, 4)\n"
     ]
    }
   ],
   "source": [
    "# verify of any GPU issues\n",
    "inputs = tf.random.normal([32, 10, 8])\n",
    "gru = tf.keras.layers.GRU(4)\n",
    "output = gru(inputs)\n",
    "print(output.shape)"
   ]
  },
  {
   "cell_type": "markdown",
   "metadata": {
    "id": "bL8s4KuoWWlv"
   },
   "source": [
    "## Build vocab\n",
    "Build vocabulary to test dataset. This is to save RAM space."
   ]
  },
  {
   "cell_type": "code",
   "execution_count": 8,
   "metadata": {
    "id": "TymxIpsXWkvc"
   },
   "outputs": [],
   "source": [
    "passwds = tf.io.gfile.GFile('passwd_db_test').read().split(\"\\n\")\n",
    "vocab = sorted(list(set(''.join(passwds))))"
   ]
  },
  {
   "cell_type": "code",
   "execution_count": 9,
   "metadata": {
    "colab": {
     "base_uri": "https://localhost:8080/"
    },
    "id": "2dSuIr5CXEho",
    "outputId": "ca5e28dd-20ae-459d-be0d-a9c6a4037f15"
   },
   "outputs": [
    {
     "data": {
      "text/plain": [
       "95"
      ]
     },
     "execution_count": 9,
     "metadata": {},
     "output_type": "execute_result"
    }
   ],
   "source": [
    "len(vocab)"
   ]
  },
  {
   "cell_type": "code",
   "execution_count": 10,
   "metadata": {
    "id": "AK2dtPmXXcYz"
   },
   "outputs": [],
   "source": [
    "max_len = max(passwds, key=len)"
   ]
  },
  {
   "cell_type": "code",
   "execution_count": 11,
   "metadata": {
    "colab": {
     "base_uri": "https://localhost:8080/",
     "height": 35
    },
    "id": "IsnfvWWdXdjL",
    "outputId": "9ed849b8-fabe-4a84-a569-b26d1cd0a9fd"
   },
   "outputs": [
    {
     "data": {
      "text/plain": [
       "'zimin0894zimin0894ver1zimin0894zimin0ziminziminver'"
      ]
     },
     "execution_count": 11,
     "metadata": {},
     "output_type": "execute_result"
    }
   ],
   "source": [
    "max_len"
   ]
  },
  {
   "cell_type": "code",
   "execution_count": 12,
   "metadata": {
    "colab": {
     "base_uri": "https://localhost:8080/"
    },
    "id": "T62jooG8Xi4g",
    "outputId": "4a0dca7f-3930-44c4-a331-cf1c8b7e1794"
   },
   "outputs": [
    {
     "data": {
      "text/plain": [
       "50"
      ]
     },
     "execution_count": 12,
     "metadata": {},
     "output_type": "execute_result"
    }
   ],
   "source": [
    "len(max_len)"
   ]
  },
  {
   "cell_type": "code",
   "execution_count": 13,
   "metadata": {
    "id": "E6Xyg_AoXIvG"
   },
   "outputs": [],
   "source": [
    "tokenizer = tf.keras.preprocessing.text.Tokenizer(filters='', char_level=True, lower=False)\n",
    "tokenizer.fit_on_texts(passwds)"
   ]
  },
  {
   "cell_type": "code",
   "execution_count": 14,
   "metadata": {
    "id": "_JwC8Bx1X7Zv"
   },
   "outputs": [],
   "source": [
    "vocab_size = len(tokenizer.index_word) + 1\n",
    "seq_len = len(max_len) - 1"
   ]
  },
  {
   "cell_type": "code",
   "execution_count": 15,
   "metadata": {
    "colab": {
     "base_uri": "https://localhost:8080/"
    },
    "id": "O0X-lx1mXWCD",
    "outputId": "c4752654-fc2f-4491-9e6e-0b1dd2d848f6"
   },
   "outputs": [
    {
     "name": "stdout",
     "output_type": "stream",
     "text": [
      "Vocab size: 96\n",
      "Seq len: 49\n"
     ]
    }
   ],
   "source": [
    "print(f\"Vocab size: {vocab_size}\")\n",
    "print(f\"Seq len: {seq_len}\")"
   ]
  },
  {
   "cell_type": "code",
   "execution_count": 16,
   "metadata": {},
   "outputs": [
    {
     "data": {
      "text/plain": [
       "array([[30,  1, 12, 12,  0,  0,  0],\n",
       "       [19,  3, 12, 19,  1, 21, 29]], dtype=int32)"
      ]
     },
     "execution_count": 16,
     "metadata": {},
     "output_type": "execute_result"
    }
   ],
   "source": [
    "in_ten = tokenizer.texts_to_sequences([\"pass\", \"testadf\"])\n",
    "tf.keras.preprocessing.sequence.pad_sequences(in_ten, padding='post')"
   ]
  },
  {
   "cell_type": "markdown",
   "metadata": {},
   "source": [
    "## Loading Dataset\n",
    "Since loading all raw dataset will require upto ~800GB RAM. Raw data is converted to tf_records. "
   ]
  },
  {
   "cell_type": "code",
   "execution_count": 17,
   "metadata": {},
   "outputs": [],
   "source": [
    "feature_description = {\n",
    "      'in_vec' : tf.io.FixedLenSequenceFeature([], tf.int64, allow_missing=True),\n",
    "      'out_vec':tf.io.FixedLenSequenceFeature([], tf.int64, allow_missing=True),\n",
    "    }\n",
    "\n",
    "def _parse_function(example_proto):\n",
    "  # Parse the input `tf.train.Example` proto using the dictionary above.\n",
    "  record = tf.io.parse_single_example(example_proto, feature_description)\n",
    "  return record['in_vec'], record['out_vec']\n",
    "\n",
    "def get_dataset(filename, batch_size=32):\n",
    "    dataset = tf.data.TFRecordDataset(filename).map(_parse_function)\n",
    "    dataset = dataset.shuffle(2048)\n",
    "    dataset = dataset.prefetch(buffer_size=tf.data.AUTOTUNE)\n",
    "    dataset = dataset.batch(batch_size, drop_remainder=True)\n",
    "    return dataset"
   ]
  },
  {
   "cell_type": "code",
   "execution_count": 18,
   "metadata": {},
   "outputs": [
    {
     "name": "stdout",
     "output_type": "stream",
     "text": [
      "-rw------- 1 ubuntu ubuntu   3224999700 Jul  4 15:36 passwd_db_test.tfrecords\n",
      "-rw------- 1 ubuntu ubuntu   3224999700 Jul  4 16:04 passwd_db_val.tfrecords\n",
      "-rw------- 1 ubuntu ubuntu 122549987700 Jul  4 16:33 passwd_db_train.tfrecords\n"
     ]
    }
   ],
   "source": [
    "!ls -ltr *.tfrecords"
   ]
  },
  {
   "cell_type": "code",
   "execution_count": 19,
   "metadata": {},
   "outputs": [],
   "source": [
    "test_dataset = get_dataset('passwd_db_test.tfrecords', batch_size=8192)\n",
    "val_dataset = get_dataset('passwd_db_val.tfrecords', batch_size=8192)\n",
    "train_dataset = get_dataset('passwd_db_train.tfrecords', batch_size=8192)"
   ]
  },
  {
   "cell_type": "markdown",
   "metadata": {},
   "source": [
    "## Creating Model"
   ]
  },
  {
   "cell_type": "code",
   "execution_count": 40,
   "metadata": {
    "id": "yLEM-fLJlEEt"
   },
   "outputs": [],
   "source": [
    "embedding_dim = vocab_size\n",
    "rnn_units = 256 # was 1024\n",
    "\n",
    "class MyModel(tf.keras.Model):\n",
    "  def __init__(self, vocab_size, embedding_dim, rnn_units):\n",
    "    super().__init__(self)\n",
    "    self.embedding = tf.keras.layers.Embedding(vocab_size, embedding_dim)\n",
    "    self.gru = tf.keras.layers.GRU(rnn_units,\n",
    "                                   return_sequences=True,\n",
    "                                   return_state=True)\n",
    "    self.dense = tf.keras.layers.Dense(vocab_size)\n",
    "\n",
    "  def call(self, inputs, states=None, return_state=False, training=False):\n",
    "    x = inputs\n",
    "    x = self.embedding(x, training=training)\n",
    "    if states is None:\n",
    "      states = self.gru.get_initial_state(x)\n",
    "    x, states = self.gru(x, initial_state=states, training=training)\n",
    "    x = self.dense(x, training=training)\n",
    "\n",
    "    if return_state:\n",
    "      return x, states\n",
    "    else:\n",
    "      return x"
   ]
  },
  {
   "cell_type": "code",
   "execution_count": 41,
   "metadata": {},
   "outputs": [],
   "source": [
    "training_model =  MyModel(\n",
    "    vocab_size=vocab_size,\n",
    "    embedding_dim=embedding_dim,\n",
    "    rnn_units=rnn_units)\n",
    "\n",
    "training_model.compile(\n",
    "    optimizer='adam',\n",
    "    loss=tf.losses.SparseCategoricalCrossentropy(from_logits=True))"
   ]
  },
  {
   "cell_type": "markdown",
   "metadata": {},
   "source": [
    "## Verify dataset and model"
   ]
  },
  {
   "cell_type": "code",
   "execution_count": 22,
   "metadata": {},
   "outputs": [],
   "source": [
    "sample_test_input, sample_test_target = next(iter(test_dataset))"
   ]
  },
  {
   "cell_type": "code",
   "execution_count": 23,
   "metadata": {},
   "outputs": [
    {
     "data": {
      "text/plain": [
       "TensorShape([8192, 49])"
      ]
     },
     "execution_count": 23,
     "metadata": {},
     "output_type": "execute_result"
    }
   ],
   "source": [
    "sample_test_input.shape"
   ]
  },
  {
   "cell_type": "code",
   "execution_count": 24,
   "metadata": {},
   "outputs": [
    {
     "data": {
      "text/plain": [
       "TensorShape([8192, 49])"
      ]
     },
     "execution_count": 24,
     "metadata": {},
     "output_type": "execute_result"
    }
   ],
   "source": [
    "sample_test_target.shape"
   ]
  },
  {
   "cell_type": "code",
   "execution_count": 25,
   "metadata": {},
   "outputs": [],
   "source": [
    "sample_test_preds = training_model(sample_test_input)"
   ]
  },
  {
   "cell_type": "code",
   "execution_count": 26,
   "metadata": {},
   "outputs": [
    {
     "data": {
      "text/plain": [
       "TensorShape([8192, 49, 96])"
      ]
     },
     "execution_count": 26,
     "metadata": {},
     "output_type": "execute_result"
    }
   ],
   "source": [
    "sample_test_preds.shape"
   ]
  },
  {
   "cell_type": "markdown",
   "metadata": {},
   "source": [
    "## BLEU Score before training"
   ]
  },
  {
   "cell_type": "code",
   "execution_count": 27,
   "metadata": {
    "id": "6hwImKgcRDfs"
   },
   "outputs": [],
   "source": [
    "from nltk.translate.bleu_score import corpus_bleu\n",
    "\n",
    "def bleu_score(y_true, y_pred):\n",
    "  batch_score = []\n",
    "  for ref, hyp in zip(y_true, y_pred):\n",
    "    batch_score.append(corpus_bleu([chr(c) for c in ref], [chr(c) for c in hyp], weights=[0.25]))\n",
    "  return np.average(batch_score)\n",
    "\n",
    "# try model without training\n",
    "def calculate_bleu_score(model, dataset, till_batch):\n",
    "  scores = []\n",
    "\n",
    "  for batch_i, (input_test_batch, target_test_batch) in enumerate(dataset, 1):\n",
    "      test_batch_predictions = model(input_test_batch)\n",
    "      test_batch_predictions = np.array([tf.argmax(i, axis=1).numpy() for i in test_batch_predictions], dtype=np.int32)\n",
    "      scores.append(bleu_score(target_test_batch.numpy(), test_batch_predictions))\n",
    "      if batch_i % 100 == 0:\n",
    "        print(f\"Till {batch_i} the avg bleu score is {np.average(scores)}\")\n",
    "      if batch_i > till_batch:\n",
    "        break\n",
    "  \n",
    "  print(f\"Final avg bleu score is {np.average(scores)}\")\n",
    "  return np.average(scores)"
   ]
  },
  {
   "cell_type": "code",
   "execution_count": 28,
   "metadata": {
    "id": "5dCNfzVLTlyZ"
   },
   "outputs": [
    {
     "data": {
      "text/plain": [
       "<tf.Tensor: shape=(49, 1), dtype=int64, numpy=\n",
       "array([[ 3],\n",
       "       [51],\n",
       "       [ 6],\n",
       "       [65],\n",
       "       [82],\n",
       "       [91],\n",
       "       [65],\n",
       "       [37],\n",
       "       [ 1],\n",
       "       [42],\n",
       "       [81],\n",
       "       [32],\n",
       "       [72],\n",
       "       [52],\n",
       "       [12],\n",
       "       [68],\n",
       "       [57],\n",
       "       [ 9],\n",
       "       [75],\n",
       "       [85],\n",
       "       [70],\n",
       "       [15],\n",
       "       [61],\n",
       "       [67],\n",
       "       [19],\n",
       "       [61],\n",
       "       [ 3],\n",
       "       [83],\n",
       "       [22],\n",
       "       [41],\n",
       "       [77],\n",
       "       [30],\n",
       "       [29],\n",
       "       [88],\n",
       "       [ 0],\n",
       "       [27],\n",
       "       [72],\n",
       "       [49],\n",
       "       [30],\n",
       "       [46],\n",
       "       [14],\n",
       "       [68],\n",
       "       [18],\n",
       "       [74],\n",
       "       [43],\n",
       "       [85],\n",
       "       [57],\n",
       "       [49],\n",
       "       [ 9]])>"
      ]
     },
     "execution_count": 28,
     "metadata": {},
     "output_type": "execute_result"
    }
   ],
   "source": [
    "tf.random.categorical(sample_test_preds[0], num_samples=1)"
   ]
  },
  {
   "cell_type": "code",
   "execution_count": 29,
   "metadata": {
    "colab": {
     "base_uri": "https://localhost:8080/"
    },
    "id": "zzfKEnAJlW2E",
    "outputId": "06a37bbb-2630-4656-ae5b-534e1dfe4d2a"
   },
   "outputs": [
    {
     "data": {
      "text/plain": [
       "<tf.Tensor: shape=(49,), dtype=int64, numpy=\n",
       "array([20, 48, 39, 56, 41, 17, 41, 81, 81, 54,  1, 46, 73, 76, 76, 76, 76,\n",
       "       76, 76, 76, 76, 76, 76, 76, 76, 76, 76, 76, 76, 76, 76, 76, 76, 76,\n",
       "       76, 76, 76, 76, 76, 76, 76, 76, 76, 76, 76, 76, 76, 76, 76])>"
      ]
     },
     "execution_count": 29,
     "metadata": {},
     "output_type": "execute_result"
    }
   ],
   "source": [
    "tf.argmax(sample_test_preds[0], axis=1)"
   ]
  },
  {
   "cell_type": "code",
   "execution_count": 30,
   "metadata": {
    "colab": {
     "base_uri": "https://localhost:8080/"
    },
    "id": "JP1e-dq--M4y",
    "outputId": "30bb0fdb-a3fe-4299-a700-131635378a91"
   },
   "outputs": [
    {
     "data": {
      "text/plain": [
       "array([[20, 48, 39, ..., 76, 76, 76],\n",
       "       [81, 51,  8, ..., 76, 76, 76],\n",
       "       [53, 33, 70, ..., 76, 76, 76],\n",
       "       ...,\n",
       "       [15, 47, 47, ..., 76, 76, 76],\n",
       "       [17, 76,  8, ..., 76, 76, 76],\n",
       "       [28, 57, 45, ..., 76, 76, 76]], dtype=int32)"
      ]
     },
     "execution_count": 30,
     "metadata": {},
     "output_type": "execute_result"
    }
   ],
   "source": [
    "np.array([tf.argmax(i, axis=1).numpy() for i in sample_test_preds], dtype=np.int32)"
   ]
  },
  {
   "cell_type": "code",
   "execution_count": 31,
   "metadata": {},
   "outputs": [
    {
     "data": {
      "text/plain": [
       "array([[38, 50, 60, ..., 84, 48, 72],\n",
       "       [93, 42,  4, ..., 14,  2, 69],\n",
       "       [50, 48, 46, ..., 45,  0, 31],\n",
       "       ...,\n",
       "       [55, 19, 78, ...,  5, 37, 63],\n",
       "       [67, 24, 29, ..., 24, 17, 22],\n",
       "       [37,  7, 65, ..., 16, 13, 26]], dtype=int32)"
      ]
     },
     "execution_count": 31,
     "metadata": {},
     "output_type": "execute_result"
    }
   ],
   "source": [
    "np.array([tf.squeeze(tf.random.categorical(i, num_samples=1), axis=-1).numpy() for i in sample_test_preds], dtype=np.int32)"
   ]
  },
  {
   "cell_type": "code",
   "execution_count": 32,
   "metadata": {
    "colab": {
     "base_uri": "https://localhost:8080/"
    },
    "id": "eqirIqDdSVyN",
    "outputId": "c697653a-ee88-4511-beb6-615715bb3aae"
   },
   "outputs": [
    {
     "data": {
      "text/plain": [
       "array([[23, 25,  7, ...,  0,  0,  0],\n",
       "       [43, 22, 20, ...,  0,  0,  0],\n",
       "       [ 1, 22,  6, ...,  0,  0,  0],\n",
       "       ...,\n",
       "       [19, 24, 17, ...,  0,  0,  0],\n",
       "       [ 7, 22,  7, ...,  0,  0,  0],\n",
       "       [ 2, 10, 15, ...,  0,  0,  0]])"
      ]
     },
     "execution_count": 32,
     "metadata": {},
     "output_type": "execute_result"
    }
   ],
   "source": [
    "sample_test_target.numpy()"
   ]
  },
  {
   "cell_type": "code",
   "execution_count": 33,
   "metadata": {
    "colab": {
     "base_uri": "https://localhost:8080/"
    },
    "id": "2Quby14sFPRm",
    "outputId": "237636bd-a0fd-478f-a00d-6ede12cb5ee3"
   },
   "outputs": [
    {
     "data": {
      "text/plain": [
       "0.02486440619999932"
      ]
     },
     "execution_count": 33,
     "metadata": {},
     "output_type": "execute_result"
    }
   ],
   "source": [
    "bleu_score(sample_test_target.numpy(), np.array([tf.argmax(i, axis=1).numpy() for i in sample_test_preds], dtype=np.int32))"
   ]
  },
  {
   "cell_type": "code",
   "execution_count": 34,
   "metadata": {
    "colab": {
     "base_uri": "https://localhost:8080/"
    },
    "id": "kuenh8dve2nm",
    "outputId": "d4975caf-2a87-4eae-b57e-450c57ce69aa"
   },
   "outputs": [
    {
     "data": {
      "text/plain": [
       "0.1592550773478552"
      ]
     },
     "execution_count": 34,
     "metadata": {},
     "output_type": "execute_result"
    }
   ],
   "source": [
    "bleu_score(sample_test_target.numpy(), np.array([tf.squeeze(tf.random.categorical(i, num_samples=1), axis=-1).numpy() for i in sample_test_preds], dtype=np.int32))"
   ]
  },
  {
   "cell_type": "markdown",
   "metadata": {},
   "source": [
    "## Training"
   ]
  },
  {
   "cell_type": "code",
   "execution_count": 42,
   "metadata": {
    "id": "fLkC-59YMJ5_"
   },
   "outputs": [],
   "source": [
    "earlystopping_cb = tf.keras.callbacks.EarlyStopping(\n",
    "    monitor = 'val_loss',\n",
    "    mode = 'min',\n",
    "    verbose = 1,\n",
    "    patience = 3,\n",
    "    restore_best_weights = True\n",
    ")"
   ]
  },
  {
   "cell_type": "code",
   "execution_count": 43,
   "metadata": {
    "colab": {
     "base_uri": "https://localhost:8080/"
    },
    "id": "qqNt3H2TAJir",
    "outputId": "f5d6da52-5e76-4da3-aac3-61959df98847"
   },
   "outputs": [
    {
     "name": "stdout",
     "output_type": "stream",
     "text": [
      "Epoch 1/10\n",
      "99731/99731 [==============================] - 12835s 129ms/step - loss: 0.5190 - val_loss: 0.5139\n",
      "Epoch 2/10\n",
      "99731/99731 [==============================] - 12547s 126ms/step - loss: 0.5134 - val_loss: 0.5128\n",
      "Epoch 3/10\n",
      "99731/99731 [==============================] - 12973s 130ms/step - loss: 0.5127 - val_loss: 0.5124\n",
      "Epoch 4/10\n",
      "99731/99731 [==============================] - 12916s 130ms/step - loss: 0.5123 - val_loss: 0.5121\n",
      "Epoch 5/10\n",
      "99731/99731 [==============================] - 13178s 132ms/step - loss: 0.5120 - val_loss: 0.5119\n",
      "Epoch 6/10\n",
      "99731/99731 [==============================] - 12814s 128ms/step - loss: 0.5118 - val_loss: 0.5117\n",
      "Epoch 7/10\n",
      "99731/99731 [==============================] - 12942s 130ms/step - loss: 0.5117 - val_loss: 0.5116\n",
      "Epoch 8/10\n",
      "99731/99731 [==============================] - 12982s 130ms/step - loss: 0.5115 - val_loss: 0.5114\n",
      "Epoch 9/10\n",
      "99731/99731 [==============================] - 13021s 131ms/step - loss: 0.5114 - val_loss: 0.5113\n",
      "Epoch 10/10\n",
      "99731/99731 [==============================] - 12980s 130ms/step - loss: 0.5114 - val_loss: 0.5112\n"
     ]
    }
   ],
   "source": [
    "training_model.fit(\n",
    "    train_dataset,\n",
    "    epochs=10,\n",
    "    validation_data=val_dataset,\n",
    "    callbacks=[earlystopping_cb]\n",
    ")\n",
    "training_model.save_weights('gpu_password_gru', overwrite=True)"
   ]
  },
  {
   "cell_type": "markdown",
   "metadata": {},
   "source": [
    "## BLEU Score after training"
   ]
  },
  {
   "cell_type": "code",
   "execution_count": 44,
   "metadata": {
    "id": "0KwZE6noMey4"
   },
   "outputs": [],
   "source": [
    "sample_test_preds = training_model(sample_test_input)"
   ]
  },
  {
   "cell_type": "code",
   "execution_count": 45,
   "metadata": {
    "colab": {
     "base_uri": "https://localhost:8080/"
    },
    "id": "WUZt9IjKRqyj",
    "outputId": "d15b2579-ce59-4272-b8fa-6a9096fa0ae3"
   },
   "outputs": [
    {
     "data": {
      "text/plain": [
       "0.9614950184899456"
      ]
     },
     "execution_count": 45,
     "metadata": {},
     "output_type": "execute_result"
    }
   ],
   "source": [
    "bleu_score(sample_test_target.numpy(), np.array([tf.argmax(i, axis=1).numpy() for i in sample_test_preds], dtype=np.int32))"
   ]
  },
  {
   "cell_type": "code",
   "execution_count": 46,
   "metadata": {
    "colab": {
     "base_uri": "https://localhost:8080/"
    },
    "id": "OWTbg_44iK2n",
    "outputId": "743d19ed-c8d7-448c-8e31-514174409eb1"
   },
   "outputs": [
    {
     "data": {
      "text/plain": [
       "0.9567861176470129"
      ]
     },
     "execution_count": 46,
     "metadata": {},
     "output_type": "execute_result"
    }
   ],
   "source": [
    "bleu_score(sample_test_target.numpy(), np.array([tf.squeeze(tf.random.categorical(i, num_samples=1), axis=-1).numpy() for i in sample_test_preds], dtype=np.int32))"
   ]
  },
  {
   "cell_type": "markdown",
   "metadata": {},
   "source": [
    "## Inference"
   ]
  },
  {
   "cell_type": "code",
   "execution_count": 47,
   "metadata": {
    "id": "H7RxS_Wadjnu"
   },
   "outputs": [],
   "source": [
    "prediction_model = MyModel(\n",
    "    vocab_size=vocab_size,\n",
    "    embedding_dim=embedding_dim,\n",
    "    rnn_units=rnn_units)"
   ]
  },
  {
   "cell_type": "code",
   "execution_count": 48,
   "metadata": {
    "colab": {
     "base_uri": "https://localhost:8080/"
    },
    "id": "W-DpTO2sfLdc",
    "outputId": "ac27ed70-abd6-416e-dc25-25d7069b073c"
   },
   "outputs": [
    {
     "data": {
      "text/plain": [
       "<tensorflow.python.training.tracking.util.CheckpointLoadStatus at 0x7f635aa55c40>"
      ]
     },
     "execution_count": 48,
     "metadata": {},
     "output_type": "execute_result"
    }
   ],
   "source": [
    "prediction_model.load_weights('gpu_password_gru')"
   ]
  },
  {
   "cell_type": "code",
   "execution_count": 49,
   "metadata": {
    "id": "tU7M-EGGxR3E"
   },
   "outputs": [],
   "source": [
    "class OneStep(tf.keras.Model):\n",
    "  def __init__(self, model, tokenizer, temperature=1.0):\n",
    "    super().__init__()\n",
    "    self.temperature = temperature\n",
    "    self.model = model\n",
    "    self.tokenizer = tokenizer\n",
    "\n",
    "  #@tf.function\n",
    "  def generate_one_step(self, input_chars, states=None):\n",
    "    #import pdb; pdb.set_trace()\n",
    "    # Convert strings to token IDs.\n",
    "    # input_chars = tf.strings.unicode_split(inputs, 'UTF-8')\n",
    "    if input_chars[0] == '':\n",
    "      input_chars = ' '\n",
    "    input_ids = self.tokenizer.texts_to_sequences(input_chars)\n",
    "    #print(input_chars)\n",
    "    input_ids = tf.keras.preprocessing.sequence.pad_sequences(input_ids, padding='post')\n",
    "\n",
    "    # Run the model.\n",
    "    # predicted_logits.shape is [batch, char, next_char_logits]\n",
    "    predicted_logits, states = self.model(inputs=input_ids, states=states,\n",
    "                                          return_state=True)\n",
    "    # Only use the last prediction.\n",
    "    predicted_logits = predicted_logits[:, -1, :]\n",
    "    predicted_logits = predicted_logits/self.temperature\n",
    "\n",
    "    # Sample the output logits to generate token IDs.\n",
    "    predicted_ids = tf.random.categorical(predicted_logits, num_samples=1)\n",
    "    predicted_ids = tf.squeeze(predicted_ids, axis=-1)\n",
    "\n",
    "    # Convert from token ids to characters\n",
    "    predicted_chars = self.tokenizer.sequences_to_texts([predicted_ids.numpy()])\n",
    "\n",
    "    # Return the characters and model state.\n",
    "    return predicted_chars, states"
   ]
  },
  {
   "cell_type": "code",
   "execution_count": 50,
   "metadata": {
    "id": "3jG7KUOmkAtN"
   },
   "outputs": [],
   "source": [
    "one_step_model = OneStep(prediction_model, tokenizer)"
   ]
  },
  {
   "cell_type": "code",
   "execution_count": 51,
   "metadata": {
    "colab": {
     "base_uri": "https://localhost:8080/"
    },
    "id": "Yb1rW9aQkBs8",
    "outputId": "a0c4dc20-7c01-4a6f-a79c-8b7e8628dc44"
   },
   "outputs": [
    {
     "name": "stdout",
     "output_type": "stream",
     "text": [
      "wes \n",
      "\n",
      "________________________________________________________________________________\n",
      "\n",
      "Run time: 0.11068558692932129\n"
     ]
    }
   ],
   "source": [
    "import time\n",
    "\n",
    "start = time.time()\n",
    "states = None\n",
    "next_char = ['w']\n",
    "result = [next_char]\n",
    "\n",
    "for n in range(2):\n",
    "  next_char, states = one_step_model.generate_one_step(next_char, states=states)\n",
    "  result.append(next_char)\n",
    "\n",
    "result = tf.strings.join(result)\n",
    "end = time.time()\n",
    "print(result[0].numpy().decode('utf-8'), '\\n\\n' + '_'*80)\n",
    "print('\\nRun time:', end - start)"
   ]
  },
  {
   "cell_type": "code",
   "execution_count": 52,
   "metadata": {
    "id": "HJNitjybkGOS"
   },
   "outputs": [],
   "source": [
    "def pwds_from_chars(model, start_char, len):\n",
    "  states = None\n",
    "  next_char = [start_char]\n",
    "  result = [next_char]\n",
    "\n",
    "  for n in range(len-1):\n",
    "    next_char, states = model.generate_one_step(next_char, states=states)\n",
    "    result.append(next_char)\n",
    "\n",
    "  result = tf.strings.join(result)\n",
    "  return result[0].numpy().decode('utf-8')"
   ]
  },
  {
   "cell_type": "code",
   "execution_count": 53,
   "metadata": {
    "colab": {
     "base_uri": "https://localhost:8080/"
    },
    "id": "_woxP1GHkRL-",
    "outputId": "64ff12bb-1847-44a5-e540-e0ca64034286"
   },
   "outputs": [
    {
     "name": "stdout",
     "output_type": "stream",
     "text": [
      "['wus', 'wdV', 'wil', 'wyl', 'wow', 'wel', 'wep', 'www', 'wes', 'wnd', 'wav', 'wg2', 'w9V', 'wqe', 'wha', 'wac', 'wob', 'wei', 'wos', 'way', 'wut', 'wic', 'wen', 'ww3', 'wab', 'wly', 'whi', 'wal', 'wor', 'wDk', 'wax', 'wma', 'wae', 'wwj', 'w94', 'wez', 'wun']\n"
     ]
    }
   ],
   "source": [
    "all_pos = []\n",
    "while True:\n",
    "  pred = pwds_from_chars(one_step_model,'w', 3)\n",
    "  if pred not in all_pos:\n",
    "    all_pos.append(pred)\n",
    "  else:\n",
    "    break\n",
    "\n",
    "print(all_pos)"
   ]
  },
  {
   "cell_type": "code",
   "execution_count": 55,
   "metadata": {
    "colab": {
     "base_uri": "https://localhost:8080/"
    },
    "id": "AkmIisvWoH9l",
    "outputId": "6bcf1872-7257-48a4-bd72-7ab2db21521e"
   },
   "outputs": [
    {
     "name": "stdout",
     "output_type": "stream",
     "text": [
      "1 - pra5\n",
      "2 - paul\n",
      "3 - pera\n",
      "4 - puze\n",
      "5 - popu\n",
      "6 - phan\n",
      "7 - pney\n",
      "8 - pass\n",
      "Model took 8 attempts to find password - pass\n"
     ]
    }
   ],
   "source": [
    "given_pass = 'pass'\n",
    "attempts = 1\n",
    "\n",
    "while True:\n",
    "  pred = pwds_from_chars(one_step_model, given_pass[0], len(given_pass))\n",
    "  print(f\"{attempts} - {pred}\")\n",
    "  if pred == given_pass:\n",
    "    break\n",
    "  attempts += 1\n",
    "\n",
    "print(f\"Model took {attempts} attempts to find password - {given_pass}\")"
   ]
  },
  {
   "cell_type": "code",
   "execution_count": 58,
   "metadata": {
    "id": "4vzmDZHD-JxL"
   },
   "outputs": [],
   "source": [
    "import random\n",
    "\n",
    "def gen_passwords_random(num, pass_len=5, start_char=None):\n",
    "  passwords = []\n",
    "  gen_char = False\n",
    "  if start_char is None:\n",
    "    gen_char = True\n",
    "  for i in range(num):\n",
    "    # if start char is none, then randomly pick start_char\n",
    "    if gen_char:\n",
    "      start_char = tokenizer.index_word[random.randint(1, len(tokenizer.index_word) - 1)]\n",
    "\n",
    "    password = start_char\n",
    "    for j in range(pass_len - 1):\n",
    "      password += tokenizer.index_word[random.randint(1, len(tokenizer.index_word) - 1)]\n",
    "    passwords.append(password)\n",
    "  return passwords"
   ]
  },
  {
   "cell_type": "code",
   "execution_count": 59,
   "metadata": {
    "colab": {
     "base_uri": "https://localhost:8080/"
    },
    "id": "J0WIjHAPcKg-",
    "outputId": "1f5d56a6-b276-4392-de27-4ce7b085c801"
   },
   "outputs": [
    {
     "data": {
      "text/plain": [
       "[';\\\\u{l', 'sM8=a', 'Exu3P', '`2 XA']"
      ]
     },
     "execution_count": 59,
     "metadata": {},
     "output_type": "execute_result"
    }
   ],
   "source": [
    "gen_passwords_random(4, pass_len=5)"
   ]
  },
  {
   "cell_type": "code",
   "execution_count": 61,
   "metadata": {
    "id": "LqCOURBtDJM_"
   },
   "outputs": [],
   "source": [
    "def gen_passwords(model, num, pass_len=5, seq_len=3, start_char=None):\n",
    "  passwords = []\n",
    "  gen_char = False\n",
    "  if start_char is None:\n",
    "    gen_char = True\n",
    "  for i in range(num):\n",
    "    # if start char is none, then randomly pick start_char\n",
    "    if gen_char:\n",
    "      start_char = tokenizer.index_word[random.randint(1, len(tokenizer.index_word) - 1)]\n",
    "    passwords.append(pwds_from_chars(model, start_char, pass_len))\n",
    "  return passwords"
   ]
  },
  {
   "cell_type": "code",
   "execution_count": 62,
   "metadata": {
    "colab": {
     "base_uri": "https://localhost:8080/"
    },
    "id": "Jw0uMPZIcdn1",
    "outputId": "94b0f7b5-18ff-47f1-fadc-24cefbf7d1e7"
   },
   "outputs": [
    {
     "data": {
      "text/plain": [
       "['mairy', 'mihos', 'mikee', 'micro']"
      ]
     },
     "execution_count": 62,
     "metadata": {},
     "output_type": "execute_result"
    }
   ],
   "source": [
    "gen_passwords(one_step_model, 4, pass_len=5, start_char='m')"
   ]
  },
  {
   "cell_type": "code",
   "execution_count": 63,
   "metadata": {
    "id": "GlvN9Yo55nde"
   },
   "outputs": [],
   "source": [
    "import hashlib\n",
    "import requests\n",
    "\n",
    "def check_pwned(passes):\n",
    "  headers = {\n",
    "    \"User-Agent\": \"Mozilla/5.0 (Windows; U; Windows NT 5.1; en-US; rv:1.9.2.8) Gecko/20100722 Firefox/3.6.8 GTB7.1 (.NET CLR 3.5.30729)\", \n",
    "    \"Referer\": \"https://haveibeenpwned.com/\"\n",
    "  }\n",
    "  found_passwds = {}\n",
    "  pwned_api = 'https://api.pwnedpasswords.com/range/'\n",
    "  for p in passes:\n",
    "    hash_object = hashlib.sha1(p.encode())\n",
    "    pbHash = hash_object.hexdigest().upper()\n",
    "    try:\n",
    "      res = requests.get(pwned_api + pbHash[:5],  headers=headers, timeout=10)\n",
    "      range_hashes = res.text.split('\\r\\n')\n",
    "      for h in range_hashes:\n",
    "        h_c = h.split(':')\n",
    "        if h_c[0] == pbHash[5:]:\n",
    "          found_passwds[p] = h_c[1]\n",
    "    except Exception as e:\n",
    "      print(f'request timed out for pass {p}')\n",
    "  return found_passwds"
   ]
  },
  {
   "cell_type": "code",
   "execution_count": 64,
   "metadata": {
    "colab": {
     "base_uri": "https://localhost:8080/"
    },
    "id": "wVs8tRGxgfB8",
    "outputId": "9c533d8c-6d00-4c44-84a3-ee78119a9fc2"
   },
   "outputs": [
    {
     "name": "stdout",
     "output_type": "stream",
     "text": [
      "char ' ' : random password prob 0.0, model password prob: 0.06\n",
      "char '!' : random password prob 0.0, model password prob: 0.12\n",
      "char '\"' : random password prob 0.0, model password prob: 0.01\n",
      "char '#' : random password prob 0.0, model password prob: 0.03\n",
      "char '$' : random password prob 0.0, model password prob: 0.34\n",
      "char '%' : random password prob 0.0, model password prob: 0.01\n",
      "char '&' : random password prob 0.0, model password prob: 0.08\n",
      "char ''' : random password prob 0.0, model password prob: 0.0\n",
      "char '(' : random password prob 0.0, model password prob: 0.0\n",
      "char ')' : random password prob 0.0, model password prob: 0.01\n",
      "char '*' : random password prob 0.0, model password prob: 0.04\n",
      "char '+' : random password prob 0.0, model password prob: 0.03\n",
      "char ',' : random password prob 0.0, model password prob: 0.02\n",
      "char '-' : random password prob 0.0, model password prob: 0.05\n",
      "char '.' : random password prob 0.0, model password prob: 0.08\n",
      "char '/' : random password prob 0.0, model password prob: 0.01\n",
      "char '0' : random password prob 0.0, model password prob: 0.65\n",
      "char '1' : random password prob 0.0, model password prob: 0.6\n",
      "char '2' : random password prob 0.01, model password prob: 0.7\n",
      "char '3' : random password prob 0.0, model password prob: 0.54\n",
      "char '4' : random password prob 0.0, model password prob: 0.65\n",
      "char '5' : random password prob 0.0, model password prob: 0.59\n",
      "char '6' : random password prob 0.0, model password prob: 0.63\n",
      "char '7' : random password prob 0.0, model password prob: 0.7\n",
      "char '8' : random password prob 0.0, model password prob: 0.68\n",
      "char '9' : random password prob 0.0, model password prob: 0.68\n",
      "char ':' : random password prob 0.0, model password prob: 0.02\n",
      "char ';' : random password prob 0.0, model password prob: 0.02\n",
      "char '<' : random password prob 0.0, model password prob: 0.02\n",
      "char '=' : random password prob 0.0, model password prob: 0.0\n",
      "char '>' : random password prob 0.0, model password prob: 0.0\n",
      "char '?' : random password prob 0.0, model password prob: 0.19\n",
      "char '@' : random password prob 0.0, model password prob: 0.11\n",
      "char 'A' : random password prob 0.0, model password prob: 0.25\n",
      "char 'B' : random password prob 0.0, model password prob: 0.38\n",
      "char 'C' : random password prob 0.0, model password prob: 0.39\n",
      "char 'D' : random password prob 0.0, model password prob: 0.34\n",
      "char 'E' : random password prob 0.0, model password prob: 0.21\n",
      "char 'F' : random password prob 0.0, model password prob: 0.25\n",
      "char 'G' : random password prob 0.0, model password prob: 0.28\n",
      "char 'H' : random password prob 0.0, model password prob: 0.22\n",
      "char 'I' : random password prob 0.0, model password prob: 0.17\n",
      "char 'J' : random password prob 0.0, model password prob: 0.37\n",
      "char 'K' : random password prob 0.0, model password prob: 0.34\n",
      "char 'L' : random password prob 0.0, model password prob: 0.35\n",
      "char 'M' : random password prob 0.0, model password prob: 0.33\n",
      "char 'N' : random password prob 0.0, model password prob: 0.2\n",
      "char 'O' : random password prob 0.0, model password prob: 0.08\n",
      "char 'P' : random password prob 0.0, model password prob: 0.36\n",
      "char 'Q' : random password prob 0.0, model password prob: 0.1\n",
      "char 'R' : random password prob 0.0, model password prob: 0.31\n",
      "char 'S' : random password prob 0.0, model password prob: 0.52\n",
      "char 'T' : random password prob 0.0, model password prob: 0.45\n",
      "char 'U' : random password prob 0.01, model password prob: 0.02\n",
      "char 'V' : random password prob 0.0, model password prob: 0.28\n",
      "char 'W' : random password prob 0.0, model password prob: 0.19\n",
      "char 'X' : random password prob 0.0, model password prob: 0.02\n",
      "char 'Y' : random password prob 0.0, model password prob: 0.08\n",
      "char 'Z' : random password prob 0.0, model password prob: 0.11\n",
      "char '[' : random password prob 0.0, model password prob: 0.0\n",
      "char '\\' : random password prob 0.0, model password prob: 0.01\n",
      "char ']' : random password prob 0.0, model password prob: 0.01\n",
      "char '^' : random password prob 0.0, model password prob: 0.01\n",
      "char '_' : random password prob 0.0, model password prob: 0.13\n",
      "char '`' : random password prob 0.0, model password prob: 0.02\n",
      "char 'a' : random password prob 0.0, model password prob: 0.67\n",
      "char 'b' : random password prob 0.0, model password prob: 0.64\n",
      "char 'c' : random password prob 0.0, model password prob: 0.65\n",
      "char 'd' : random password prob 0.01, model password prob: 0.65\n",
      "char 'e' : random password prob 0.0, model password prob: 0.39\n",
      "char 'f' : random password prob 0.0, model password prob: 0.39\n",
      "char 'g' : random password prob 0.0, model password prob: 0.62\n",
      "char 'h' : random password prob 0.0, model password prob: 0.53\n",
      "char 'i' : random password prob 0.0, model password prob: 0.44\n",
      "char 'j' : random password prob 0.0, model password prob: 0.58\n",
      "char 'k' : random password prob 0.0, model password prob: 0.6\n",
      "char 'l' : random password prob 0.0, model password prob: 0.61\n",
      "char 'm' : random password prob 0.0, model password prob: 0.63\n",
      "char 'n' : random password prob 0.0, model password prob: 0.58\n",
      "char 'o' : random password prob 0.0, model password prob: 0.42\n",
      "char 'p' : random password prob 0.0, model password prob: 0.61\n",
      "char 'q' : random password prob 0.0, model password prob: 0.24\n",
      "char 'r' : random password prob 0.0, model password prob: 0.58\n",
      "char 's' : random password prob 0.01, model password prob: 0.67\n",
      "char 't' : random password prob 0.0, model password prob: 0.63\n",
      "char 'u' : random password prob 0.0, model password prob: 0.3\n",
      "char 'v' : random password prob 0.0, model password prob: 0.48\n",
      "char 'w' : random password prob 0.0, model password prob: 0.51\n",
      "char 'x' : random password prob 0.0, model password prob: 0.23\n",
      "char 'y' : random password prob 0.0, model password prob: 0.46\n",
      "char 'z' : random password prob 0.01, model password prob: 0.34\n",
      "char '{' : random password prob 0.0, model password prob: 0.0\n",
      "char '|' : random password prob 0.0, model password prob: 0.0\n",
      "char '}' : random password prob 0.0, model password prob: 0.0\n",
      "char '~' : random password prob 0.0, model password prob: 0.01\n"
     ]
    }
   ],
   "source": [
    "random_preds = {}\n",
    "model_preds = {}\n",
    "\n",
    "total_num_pass = 100\n",
    "pass_length = 5\n",
    "\n",
    "for i in vocab:\n",
    "  gen_rand_pass = gen_passwords_random(total_num_pass, pass_len=pass_length, start_char=i)\n",
    "  random_preds[i] = len(check_pwned(gen_rand_pass))/total_num_pass\n",
    "  gen_pass = gen_passwords(one_step_model, total_num_pass, pass_len=pass_length, start_char=i)\n",
    "  model_preds[i] = len(check_pwned(gen_pass))/total_num_pass\n",
    "  print(f\"char '{i}' : random password prob {random_preds[i]}, model password prob: {model_preds[i]}\")"
   ]
  },
  {
   "cell_type": "code",
   "execution_count": 66,
   "metadata": {
    "id": "J-7V5b8WiSof"
   },
   "outputs": [],
   "source": [
    "import json\n",
    "\n",
    "f = open('passwd_dist.json')\n",
    "data_dist = json.load(f)"
   ]
  },
  {
   "cell_type": "code",
   "execution_count": 67,
   "metadata": {},
   "outputs": [
    {
     "data": {
      "text/plain": [
       "{'`': 25371,\n",
       " '^': 34390,\n",
       " '~': 46895,\n",
       " '<': 84039,\n",
       " '=': 76110,\n",
       " '>': 11010,\n",
       " '|': 13683,\n",
       " ';': 80891,\n",
       " '.': 432644,\n",
       " '[': 76870,\n",
       " '*': 897864,\n",
       " '(': 197652,\n",
       " '#': 248357,\n",
       " '_': 486252,\n",
       " '-': 339118,\n",
       " '@': 500543,\n",
       " ',': 76695,\n",
       " '?': 179414,\n",
       " ')': 29046,\n",
       " ']': 14499,\n",
       " '/': 73812,\n",
       " '%': 61061,\n",
       " '!': 702601,\n",
       " '\"': 35088,\n",
       " '{': 29576,\n",
       " '&': 164935,\n",
       " '+': 126958,\n",
       " ':': 669,\n",
       " \"'\": 24411,\n",
       " '}': 9221,\n",
       " '$': 1200710,\n",
       " '\\\\': 23422,\n",
       " '0': 20507166,\n",
       " '1': 40734951,\n",
       " '2': 25194418,\n",
       " '3': 16414591,\n",
       " '4': 13236911,\n",
       " '5': 13154142,\n",
       " '6': 11912339,\n",
       " '7': 12795409,\n",
       " '8': 15947414,\n",
       " '9': 15017858,\n",
       " 'a': 40332222,\n",
       " 'A': 7585477,\n",
       " 'b': 31338915,\n",
       " 'B': 5559200,\n",
       " 'c': 31089790,\n",
       " 'C': 5040938,\n",
       " 'd': 30078421,\n",
       " 'D': 5262567,\n",
       " 'e': 17031957,\n",
       " 'E': 3113239,\n",
       " 'f': 23680570,\n",
       " 'F': 3453015,\n",
       " 'g': 21228338,\n",
       " 'G': 3935545,\n",
       " 'h': 18660755,\n",
       " 'H': 3273647,\n",
       " 'i': 13447261,\n",
       " 'I': 2676512,\n",
       " 'j': 23625092,\n",
       " 'J': 3942097,\n",
       " 'k': 25896397,\n",
       " 'K': 4609562,\n",
       " 'l': 27520209,\n",
       " 'L': 4880087,\n",
       " 'm': 40192522,\n",
       " 'M': 7681713,\n",
       " 'n': 20438174,\n",
       " 'N': 3703976,\n",
       " 'o': 10148201,\n",
       " 'O': 2063115,\n",
       " 'p': 24702605,\n",
       " 'P': 4734296,\n",
       " 'q': 9932209,\n",
       " 'Q': 1437374,\n",
       " 'r': 23459782,\n",
       " 'R': 4287151,\n",
       " 's': 42825290,\n",
       " 'S': 7971262,\n",
       " 't': 25970925,\n",
       " 'T': 4581794,\n",
       " 'u': 6565023,\n",
       " 'U': 1486133,\n",
       " 'v': 15108697,\n",
       " 'V': 2833530,\n",
       " 'w': 15164662,\n",
       " 'W': 2379142,\n",
       " 'x': 8952014,\n",
       " 'X': 1353895,\n",
       " 'y': 9588545,\n",
       " 'Y': 1850044,\n",
       " 'z': 10371043,\n",
       " 'Z': 1735979}"
      ]
     },
     "execution_count": 67,
     "metadata": {},
     "output_type": "execute_result"
    }
   ],
   "source": [
    "data_dist"
   ]
  },
  {
   "cell_type": "code",
   "execution_count": 70,
   "metadata": {},
   "outputs": [
    {
     "data": {
      "text/plain": [
       "859999915"
      ]
     },
     "execution_count": 70,
     "metadata": {},
     "output_type": "execute_result"
    }
   ],
   "source": [
    "total_passwds = 0\n",
    "for k in data_dist:\n",
    "    total_passwds += data_dist[k]\n",
    "    \n",
    "total_passwds"
   ]
  },
  {
   "cell_type": "code",
   "execution_count": 72,
   "metadata": {
    "id": "bbExgfJVspG0"
   },
   "outputs": [],
   "source": [
    "prob_pass_start_chars = dict([(k, data_dist[k]/total_passwds) for k in data_dist])"
   ]
  },
  {
   "cell_type": "code",
   "execution_count": 73,
   "metadata": {
    "colab": {
     "base_uri": "https://localhost:8080/"
    },
    "id": "zgB0ojsOstHy",
    "outputId": "946cbe17-fa94-4d61-821b-5295a9a716ad"
   },
   "outputs": [
    {
     "data": {
      "text/plain": [
       "[('k', 0.030112092511078912),\n",
       " ('t', 0.03019875298476047),\n",
       " ('l', 0.03200024618607084),\n",
       " ('d', 0.034974911596357544),\n",
       " ('c', 0.03615092217770743),\n",
       " ('b', 0.036440602438896755),\n",
       " ('m', 0.04673549531688035),\n",
       " ('a', 0.04689793719340077),\n",
       " ('1', 0.04736622677456893),\n",
       " ('s', 0.04979685375899136)]"
      ]
     },
     "execution_count": 73,
     "metadata": {},
     "output_type": "execute_result"
    }
   ],
   "source": [
    "sorted_num_pass_w_char = sorted(prob_pass_start_chars.items(), key=lambda x:x[1])\n",
    "sorted_num_pass_w_char[-10:]"
   ]
  },
  {
   "cell_type": "code",
   "execution_count": 74,
   "metadata": {
    "id": "W6wgBHTMsxv_"
   },
   "outputs": [],
   "source": [
    "char_dist = dict(sorted_num_pass_w_char)"
   ]
  },
  {
   "cell_type": "code",
   "execution_count": 79,
   "metadata": {
    "id": "Wd1kUCL2szj_"
   },
   "outputs": [],
   "source": [
    "rand_we_avg = 0\n",
    "for x in vocab:\n",
    "    if x == ' ':\n",
    "        continue\n",
    "    rand_we_avg += (char_dist[x] * random_preds[x])"
   ]
  },
  {
   "cell_type": "code",
   "execution_count": 80,
   "metadata": {
    "colab": {
     "base_uri": "https://localhost:8080/"
    },
    "id": "K-bGvnCktCi4",
    "outputId": "e51953bf-dbbc-4838-d52d-f48bd136f83c"
   },
   "outputs": [
    {
     "data": {
      "text/plain": [
       "0.001278550184507867"
      ]
     },
     "execution_count": 80,
     "metadata": {},
     "output_type": "execute_result"
    }
   ],
   "source": [
    "rand_we_avg"
   ]
  },
  {
   "cell_type": "code",
   "execution_count": 82,
   "metadata": {
    "id": "diox5L-ZtDmB"
   },
   "outputs": [],
   "source": [
    "model_we_avg = 0\n",
    "for x in vocab:\n",
    "    if x == ' ':\n",
    "        continue\n",
    "    model_we_avg += (char_dist[x] * model_preds[x])"
   ]
  },
  {
   "cell_type": "code",
   "execution_count": 83,
   "metadata": {
    "colab": {
     "base_uri": "https://localhost:8080/"
    },
    "id": "FtCo-ZiGtQBE",
    "outputId": "ccb7a86f-cce5-4160-ddbc-42bfb4116bd2"
   },
   "outputs": [
    {
     "data": {
      "text/plain": [
       "0.5487125983378731"
      ]
     },
     "execution_count": 83,
     "metadata": {},
     "output_type": "execute_result"
    }
   ],
   "source": [
    "model_we_avg"
   ]
  },
  {
   "cell_type": "code",
   "execution_count": 84,
   "metadata": {
    "id": "fJhLwOfRtRb8"
   },
   "outputs": [],
   "source": [
    "un_training_model =  MyModel(\n",
    "    vocab_size=vocab_size,\n",
    "    embedding_dim=embedding_dim,\n",
    "    rnn_units=rnn_units)"
   ]
  },
  {
   "cell_type": "code",
   "execution_count": 85,
   "metadata": {
    "colab": {
     "base_uri": "https://localhost:8080/"
    },
    "id": "lRWyzdgAuIsF",
    "outputId": "ade7ec4c-54fa-4e57-e109-d69f72d667be"
   },
   "outputs": [
    {
     "name": "stdout",
     "output_type": "stream",
     "text": [
      "Till 100 the avg bleu score is 0.0209580082891451\n",
      "Till 200 the avg bleu score is 0.02102168448135571\n",
      "Till 300 the avg bleu score is 0.021016760012814516\n",
      "Till 400 the avg bleu score is 0.021033122238615583\n",
      "Till 500 the avg bleu score is 0.021005981872360163\n",
      "Till 600 the avg bleu score is 0.02098966191974917\n",
      "Till 700 the avg bleu score is 0.021001287331644136\n",
      "Till 800 the avg bleu score is 0.0210111565168881\n",
      "Till 900 the avg bleu score is 0.02102369734777124\n",
      "Till 1000 the avg bleu score is 0.0210375336540853\n",
      "Till 1100 the avg bleu score is 0.021045548160576785\n",
      "Till 1200 the avg bleu score is 0.021050480816782426\n",
      "Till 1300 the avg bleu score is 0.021049299169772336\n",
      "Till 1400 the avg bleu score is 0.021053356085393538\n",
      "Till 1500 the avg bleu score is 0.021042231208090272\n",
      "Till 1600 the avg bleu score is 0.02104176738039839\n",
      "Till 1700 the avg bleu score is 0.021046803193946494\n",
      "Till 1800 the avg bleu score is 0.021045170989821935\n",
      "Till 1900 the avg bleu score is 0.021043772006728557\n",
      "Till 2000 the avg bleu score is 0.021047574057208713\n",
      "Final avg bleu score is 0.021047438312318877\n"
     ]
    },
    {
     "data": {
      "text/plain": [
       "0.021047438312318877"
      ]
     },
     "execution_count": 85,
     "metadata": {},
     "output_type": "execute_result"
    }
   ],
   "source": [
    "calculate_bleu_score(un_training_model, test_dataset, 2000)"
   ]
  },
  {
   "cell_type": "code",
   "execution_count": 86,
   "metadata": {
    "colab": {
     "base_uri": "https://localhost:8080/"
    },
    "id": "JcvJDdXYuRLy",
    "outputId": "eae80fa7-599e-44a3-f8dd-0bea2cc96def"
   },
   "outputs": [
    {
     "name": "stdout",
     "output_type": "stream",
     "text": [
      "Till 100 the avg bleu score is 0.9615185299230765\n",
      "Till 200 the avg bleu score is 0.9615270699617517\n",
      "Till 300 the avg bleu score is 0.9615200477031344\n",
      "Till 400 the avg bleu score is 0.9615294572748456\n",
      "Till 500 the avg bleu score is 0.9615273819538481\n",
      "Till 600 the avg bleu score is 0.9615271568197761\n",
      "Till 700 the avg bleu score is 0.9615303514730746\n",
      "Till 800 the avg bleu score is 0.9615278975783217\n",
      "Till 900 the avg bleu score is 0.9615319933058355\n",
      "Till 1000 the avg bleu score is 0.9615324558697163\n",
      "Till 1100 the avg bleu score is 0.9615305745961558\n",
      "Till 1200 the avg bleu score is 0.9615318202010693\n",
      "Till 1300 the avg bleu score is 0.9615294347813979\n",
      "Till 1400 the avg bleu score is 0.9615278364723404\n",
      "Till 1500 the avg bleu score is 0.9615250027668489\n",
      "Till 1600 the avg bleu score is 0.9615252427443969\n",
      "Till 1700 the avg bleu score is 0.9615256334658429\n",
      "Till 1800 the avg bleu score is 0.961526388168298\n",
      "Till 1900 the avg bleu score is 0.9615260739864636\n",
      "Till 2000 the avg bleu score is 0.9615257527722408\n",
      "Final avg bleu score is 0.9615254745755878\n"
     ]
    },
    {
     "data": {
      "text/plain": [
       "0.9615254745755878"
      ]
     },
     "execution_count": 86,
     "metadata": {},
     "output_type": "execute_result"
    }
   ],
   "source": [
    "calculate_bleu_score(prediction_model, test_dataset, 2000)"
   ]
  },
  {
   "cell_type": "code",
   "execution_count": 88,
   "metadata": {},
   "outputs": [
    {
     "data": {
      "text/html": [
       "<div>\n",
       "<style scoped>\n",
       "    .dataframe tbody tr th:only-of-type {\n",
       "        vertical-align: middle;\n",
       "    }\n",
       "\n",
       "    .dataframe tbody tr th {\n",
       "        vertical-align: top;\n",
       "    }\n",
       "\n",
       "    .dataframe thead th {\n",
       "        text-align: right;\n",
       "    }\n",
       "</style>\n",
       "<table border=\"1\" class=\"dataframe\">\n",
       "  <thead>\n",
       "    <tr style=\"text-align: right;\">\n",
       "      <th></th>\n",
       "      <th>char</th>\n",
       "      <th>dist</th>\n",
       "      <th>rand_pred_prob</th>\n",
       "      <th>model_pred_prob</th>\n",
       "    </tr>\n",
       "  </thead>\n",
       "  <tbody>\n",
       "    <tr>\n",
       "      <th>93</th>\n",
       "      <td>s</td>\n",
       "      <td>4.979685e-02</td>\n",
       "      <td>0.01</td>\n",
       "      <td>0.67</td>\n",
       "    </tr>\n",
       "    <tr>\n",
       "      <th>92</th>\n",
       "      <td>1</td>\n",
       "      <td>4.736623e-02</td>\n",
       "      <td>0.00</td>\n",
       "      <td>0.60</td>\n",
       "    </tr>\n",
       "    <tr>\n",
       "      <th>91</th>\n",
       "      <td>a</td>\n",
       "      <td>4.689794e-02</td>\n",
       "      <td>0.00</td>\n",
       "      <td>0.67</td>\n",
       "    </tr>\n",
       "    <tr>\n",
       "      <th>90</th>\n",
       "      <td>m</td>\n",
       "      <td>4.673550e-02</td>\n",
       "      <td>0.00</td>\n",
       "      <td>0.63</td>\n",
       "    </tr>\n",
       "    <tr>\n",
       "      <th>89</th>\n",
       "      <td>b</td>\n",
       "      <td>3.644060e-02</td>\n",
       "      <td>0.00</td>\n",
       "      <td>0.64</td>\n",
       "    </tr>\n",
       "    <tr>\n",
       "      <th>...</th>\n",
       "      <td>...</td>\n",
       "      <td>...</td>\n",
       "      <td>...</td>\n",
       "      <td>...</td>\n",
       "    </tr>\n",
       "    <tr>\n",
       "      <th>4</th>\n",
       "      <td>]</td>\n",
       "      <td>1.685930e-05</td>\n",
       "      <td>0.00</td>\n",
       "      <td>0.01</td>\n",
       "    </tr>\n",
       "    <tr>\n",
       "      <th>3</th>\n",
       "      <td>|</td>\n",
       "      <td>1.591047e-05</td>\n",
       "      <td>0.00</td>\n",
       "      <td>0.00</td>\n",
       "    </tr>\n",
       "    <tr>\n",
       "      <th>2</th>\n",
       "      <td>&gt;</td>\n",
       "      <td>1.280233e-05</td>\n",
       "      <td>0.00</td>\n",
       "      <td>0.00</td>\n",
       "    </tr>\n",
       "    <tr>\n",
       "      <th>1</th>\n",
       "      <td>}</td>\n",
       "      <td>1.072209e-05</td>\n",
       "      <td>0.00</td>\n",
       "      <td>0.00</td>\n",
       "    </tr>\n",
       "    <tr>\n",
       "      <th>0</th>\n",
       "      <td>:</td>\n",
       "      <td>7.779071e-07</td>\n",
       "      <td>0.00</td>\n",
       "      <td>0.02</td>\n",
       "    </tr>\n",
       "  </tbody>\n",
       "</table>\n",
       "<p>94 rows × 4 columns</p>\n",
       "</div>"
      ],
      "text/plain": [
       "   char          dist  rand_pred_prob  model_pred_prob\n",
       "93    s  4.979685e-02            0.01             0.67\n",
       "92    1  4.736623e-02            0.00             0.60\n",
       "91    a  4.689794e-02            0.00             0.67\n",
       "90    m  4.673550e-02            0.00             0.63\n",
       "89    b  3.644060e-02            0.00             0.64\n",
       "..  ...           ...             ...              ...\n",
       "4     ]  1.685930e-05            0.00             0.01\n",
       "3     |  1.591047e-05            0.00             0.00\n",
       "2     >  1.280233e-05            0.00             0.00\n",
       "1     }  1.072209e-05            0.00             0.00\n",
       "0     :  7.779071e-07            0.00             0.02\n",
       "\n",
       "[94 rows x 4 columns]"
      ]
     },
     "execution_count": 88,
     "metadata": {},
     "output_type": "execute_result"
    }
   ],
   "source": [
    "import pandas as pd\n",
    "\n",
    "df1 =pd.DataFrame(char_dist.items(), columns=['char', 'dist'])\n",
    "df2 = pd.DataFrame(random_preds.items(), columns=['char', 'rand_pred_prob'])\n",
    "df3 = pd.DataFrame(model_preds.items(), columns=['char', 'model_pred_prob'])\n",
    "\n",
    "df4 = df1.join(df2.set_index('char'), on='char').join(df3.set_index('char'), on='char')\n",
    "df4.sort_values(by=['dist'], ascending=False)"
   ]
  },
  {
   "cell_type": "code",
   "execution_count": 89,
   "metadata": {},
   "outputs": [],
   "source": [
    "df4.sort_values(by=['dist'], ascending=False).to_csv('passwd_stats.csv')"
   ]
  },
  {
   "cell_type": "markdown",
   "metadata": {
    "id": "DDuhNhA-vdaX"
   },
   "source": [
    "# Save Embeddings"
   ]
  },
  {
   "cell_type": "code",
   "execution_count": 90,
   "metadata": {},
   "outputs": [
    {
     "name": "stdout",
     "output_type": "stream",
     "text": [
      "Model: \"my_model_3\"\n",
      "_________________________________________________________________\n",
      " Layer (type)                Output Shape              Param #   \n",
      "=================================================================\n",
      " embedding_3 (Embedding)     multiple                  9216      \n",
      "                                                                 \n",
      " gru_4 (GRU)                 multiple                  271872    \n",
      "                                                                 \n",
      " dense_3 (Dense)             multiple                  24672     \n",
      "                                                                 \n",
      "=================================================================\n",
      "Total params: 305,760\n",
      "Trainable params: 305,760\n",
      "Non-trainable params: 0\n",
      "_________________________________________________________________\n"
     ]
    }
   ],
   "source": [
    "training_model.summary()"
   ]
  },
  {
   "cell_type": "code",
   "execution_count": 92,
   "metadata": {},
   "outputs": [],
   "source": [
    "embed_weights = training_model.get_layer('embedding_3').get_weights()[0]"
   ]
  },
  {
   "cell_type": "code",
   "execution_count": 93,
   "metadata": {},
   "outputs": [
    {
     "data": {
      "text/plain": [
       "(96, 96)"
      ]
     },
     "execution_count": 93,
     "metadata": {},
     "output_type": "execute_result"
    }
   ],
   "source": [
    "embed_weights.shape"
   ]
  },
  {
   "cell_type": "code",
   "execution_count": 94,
   "metadata": {},
   "outputs": [
    {
     "data": {
      "text/plain": [
       "95"
      ]
     },
     "execution_count": 94,
     "metadata": {},
     "output_type": "execute_result"
    }
   ],
   "source": [
    "len(tokenizer.word_index)"
   ]
  },
  {
   "cell_type": "code",
   "execution_count": 95,
   "metadata": {},
   "outputs": [
    {
     "data": {
      "text/plain": [
       "95"
      ]
     },
     "execution_count": 95,
     "metadata": {},
     "output_type": "execute_result"
    }
   ],
   "source": [
    "len(vocab)"
   ]
  },
  {
   "cell_type": "code",
   "execution_count": 96,
   "metadata": {},
   "outputs": [
    {
     "data": {
      "text/plain": [
       "array([-8.52828845e-03,  3.98259237e-03, -5.86652604e-04,  2.21915753e-03,\n",
       "        7.69110629e-04,  2.64078286e-03, -9.25570028e-04,  8.43729749e-02,\n",
       "        1.75543560e-03,  4.55471361e-03, -1.72915459e-01, -5.01352770e-04,\n",
       "        3.16659957e-02,  5.15194088e-02, -7.49078719e-03, -2.35463511e-02,\n",
       "       -1.54948533e-01,  9.75966081e-02,  4.81108934e-01,  1.38093717e-03,\n",
       "       -3.08980495e-02, -1.97718546e-05,  1.34239893e-03, -2.01491460e-01,\n",
       "        1.42857581e-01,  1.92554891e-02, -1.41481287e-05, -5.06383479e-02,\n",
       "        2.58298265e-03, -4.95540490e-03, -5.88862821e-02, -5.40693384e-03,\n",
       "        1.39898583e-02,  1.12475425e-01, -9.34882089e-02, -8.26020762e-02,\n",
       "        1.23469010e-02, -2.82282770e-01, -4.60601971e-03, -1.18654454e-02,\n",
       "       -1.67712793e-02,  1.22016385e-01,  4.14871814e-04,  1.48158088e-01,\n",
       "       -5.28979413e-02, -4.54684999e-03, -8.67892727e-02,  1.63611412e-01,\n",
       "       -1.65318735e-02,  7.26840943e-02, -1.81778742e-03, -7.71169551e-03,\n",
       "        1.31675750e-02, -2.82143988e-02, -5.29888123e-02, -2.67356843e-01,\n",
       "        5.75842522e-03, -8.61727726e-03,  2.53615789e-02,  8.69155973e-02,\n",
       "       -1.56089798e-01, -9.91237313e-02,  3.49978800e-04, -6.12994237e-03,\n",
       "       -1.00272545e-03,  2.08704337e-01,  3.77702271e-03,  6.75121725e-01,\n",
       "        1.73935130e-01,  1.90611947e-02, -1.74078062e-01, -6.48299977e-02,\n",
       "       -1.32685201e-03,  1.11363521e-02, -3.29783582e-03, -4.37574610e-02,\n",
       "       -1.89046524e-02,  4.95247543e-02, -1.61687341e-02, -1.51133537e-03,\n",
       "       -8.13784748e-02, -2.49842322e-03, -1.06564455e-03, -2.56442968e-02,\n",
       "       -7.68880248e-02, -6.00811392e-02, -1.23542547e-02,  1.06749386e-01,\n",
       "       -4.87116072e-03, -1.41574712e-02, -2.92918831e-02,  2.36084927e-02,\n",
       "        4.01594453e-02,  6.36124238e-02, -5.14990324e-03,  9.83859319e-03],\n",
       "      dtype=float32)"
      ]
     },
     "execution_count": 96,
     "metadata": {},
     "output_type": "execute_result"
    }
   ],
   "source": [
    "embed_weights[1]"
   ]
  },
  {
   "cell_type": "code",
   "execution_count": 97,
   "metadata": {},
   "outputs": [],
   "source": [
    "import io\n",
    "\n",
    "out_v = io.open('password_v2_tf_vectors.tsv', 'w', encoding='utf-8')\n",
    "out_m = io.open('password_v2_tf_metadata.tsv', 'w', encoding='utf-8')\n",
    "\n",
    "for index in range(len(tokenizer.index_word) + 1):\n",
    "  if index == 0:\n",
    "    continue #skip 0, it's padding. \n",
    "  vec = embed_weights[index]\n",
    "  out_v.write('\\t'.join(str(x) for x in vec)+\"\\n\")\n",
    "  out_m.write(tokenizer.index_word[index] + \"\\n\")\n",
    "\n",
    "out_v.close()\n",
    "out_m.close()"
   ]
  },
  {
   "cell_type": "code",
   "execution_count": 101,
   "metadata": {},
   "outputs": [
    {
     "name": "stdout",
     "output_type": "stream",
     "text": [
      "a\n",
      "1\n",
      "e\n",
      "2\n",
      "0\n",
      "i\n",
      "o\n",
      "n\n",
      "r\n",
      "9\n",
      "3\n",
      "s\n",
      "l\n",
      "8\n",
      "7\n",
      "5\n",
      "4\n",
      "6\n",
      "t\n",
      "u\n",
      "d\n",
      "m\n",
      "c\n",
      "y\n",
      "h\n",
      "b\n",
      "k\n",
      "g\n",
      "f\n",
      "p\n",
      "v\n",
      "j\n",
      "w\n",
      "z\n",
      "q\n",
      "x\n",
      "A\n",
      "_\n",
      ".\n",
      "E\n",
      "S\n",
      "M\n",
      "R\n",
      "N\n",
      "L\n",
      "I\n",
      "D\n",
      "T\n",
      "O\n",
      "B\n",
      "C\n",
      "K\n",
      "H\n",
      "G\n",
      "P\n",
      "F\n",
      "-\n",
      "U\n",
      "Y\n",
      "V\n",
      "J\n",
      "W\n",
      "Q\n",
      "Z\n",
      "X\n",
      "!\n",
      "@\n",
      "*\n",
      "$\n",
      "#\n",
      "?\n",
      "/\n",
      " \n",
      "&\n",
      "=\n",
      "+\n",
      ";\n",
      ")\n",
      "%\n",
      "(\n",
      ",\n",
      "[\n",
      "'\n",
      "\"\n",
      "]\n",
      "<\n",
      "|\n",
      "^\n",
      "~\n",
      "\\\n",
      "`\n",
      ">\n",
      "{\n",
      "}\n",
      ":\n"
     ]
    }
   ],
   "source": [
    "!cat password_v2_tf_metadata.tsv"
   ]
  },
  {
   "cell_type": "code",
   "execution_count": 102,
   "metadata": {},
   "outputs": [
    {
     "name": "stdout",
     "output_type": "stream",
     "text": [
      "-0.008528288\t0.0039825924\t-0.0005866526\t0.0022191575\t0.00076911063\t0.0026407829\t-0.00092557\t0.084372975\t0.0017554356\t0.0045547136\t-0.17291546\t-0.00050135277\t0.031665996\t0.05151941\t-0.007490787\t-0.023546351\t-0.15494853\t0.09759661\t0.48110893\t0.0013809372\t-0.03089805\t-1.9771855e-05\t0.0013423989\t-0.20149146\t0.14285758\t0.01925549\t-1.4148129e-05\t-0.050638348\t0.0025829826\t-0.004955405\t-0.058886282\t-0.005406934\t0.013989858\t0.112475425\t-0.09348821\t-0.082602076\t0.012346901\t-0.28228277\t-0.0046060197\t-0.011865445\t-0.01677128\t0.122016385\t0.0004148718\t0.14815809\t-0.05289794\t-0.00454685\t-0.08678927\t0.16361141\t-0.016531873\t0.072684094\t-0.0018177874\t-0.0077116955\t0.013167575\t-0.028214399\t-0.052988812\t-0.26735684\t0.005758425\t-0.008617277\t0.025361579\t0.0869156\t-0.1560898\t-0.09912373\t0.0003499788\t-0.0061299424\t-0.0010027254\t0.20870434\t0.0037770227\t0.6751217\t0.17393513\t0.019061195\t-0.17407806\t-0.06483\t-0.001326852\t0.011136352\t-0.0032978358\t-0.04375746\t-0.018904652\t0.049524754\t-0.016168734\t-0.0015113354\t-0.081378475\t-0.0024984232\t-0.0010656446\t-0.025644297\t-0.076888025\t-0.06008114\t-0.012354255\t0.106749386\t-0.0048711607\t-0.014157471\t-0.029291883\t0.023608493\t0.040159445\t0.063612424\t-0.0051499032\t0.009838593\n",
      "0.1269793\t-0.17607665\t-0.032944832\t0.004107031\t0.0051543703\t0.010232042\t0.02596199\t0.23126285\t-0.013356197\t0.0061843656\t-0.17179999\t0.0057072393\t0.09075503\t-0.030816002\t0.028872224\t-0.28054923\t0.23243251\t-0.047392208\t0.024424352\t0.0035692756\t0.08116031\t0.0031363273\t-0.0056738416\t-0.05875466\t-0.17077518\t0.057383005\t0.013365752\t0.097246386\t0.046324115\t-0.14505029\t0.012827276\t0.044763066\t-0.2027246\t0.061902188\t0.11892158\t-0.14413334\t0.0026209028\t0.26566505\t0.039508883\t-8.045649e-05\t-0.049603306\t-0.24443276\t-0.0034573227\t-0.25892925\t-0.016217066\t0.008983997\t-0.19758353\t-0.028893458\t0.0073507256\t0.06440929\t-0.003494988\t-0.00053761154\t-0.0137614235\t-0.0022104408\t0.24338366\t-0.11968099\t0.011699996\t-0.008859044\t-0.032378327\t0.21935204\t-0.016633915\t-0.36005288\t-0.0005934094\t-0.0008660604\t-0.01979795\t-0.1625388\t0.007401821\t-0.040765982\t-0.023315834\t0.033032227\t-0.018079856\t-0.06410578\t0.0070130783\t0.012617054\t-0.011478692\t0.018649716\t-0.17211168\t0.049038276\t-0.06570259\t0.00596666\t0.21816172\t0.0146606155\t-0.014706769\t0.04139719\t-0.061045837\t-0.13479407\t0.0017259482\t0.30430728\t-0.009340815\t0.0051066265\t-0.07162485\t-0.1802774\t-0.111545675\t-0.037431564\t0.00048492503\t-7.859469e-05\n",
      "0.0477958\t0.13493876\t0.04324117\t-0.003893597\t-0.010968371\t-2.9940973e-05\t-0.019705115\t-0.1887204\t-0.0024002362\t-0.008630552\t-0.37844464\t-0.00023783566\t-0.037430726\t0.009017474\t-0.0013397164\t-0.12081458\t0.01468002\t0.097041175\t-0.11814382\t-0.000746759\t-0.057804603\t0.003811025\t-0.0012056344\t-0.09350694\t-0.15131563\t0.026825845\t0.0040473575\t-0.16892149\t-0.006592493\t-0.037375797\t0.11889649\t0.010445735\t-0.033019505\t-0.1749579\t-0.22755691\t0.08481332\t-0.0014042216\t0.23182523\t-0.06251542\t-0.0070411535\t-0.041535985\t0.016459575\t0.002340604\t0.3168382\t-0.011398401\t-0.007131714\t-0.14917356\t-0.037508346\t-0.04670952\t-0.13153598\t0.0054027773\t0.0036727786\t0.027835555\t-0.010631243\t0.24699956\t-0.2937689\t0.012215757\t-0.0009064326\t0.016078893\t-0.067802034\t0.19810218\t-0.02744729\t-0.0055400417\t-0.001928233\t-0.0005946391\t0.034305364\t0.004323715\t-0.08718373\t0.21903364\t-0.019582065\t-0.3445481\t-0.005987904\t-0.0011431589\t-0.0027416446\t-0.011701434\t-0.01686739\t0.29513782\t-0.019097418\t-0.051965307\t-0.0023632708\t-0.15821469\t-0.0005668339\t-0.011305262\t0.0016545897\t-0.11567765\t0.00917253\t0.0030678387\t-0.386308\t0.0055620484\t0.0401631\t0.050152037\t-0.050610527\t-0.07043821\t-0.0919866\t-0.0060791434\t0.008279243\n",
      "-0.26285708\t-0.10799935\t0.098019764\t0.008167425\t0.0016843791\t-0.0030613632\t0.0783219\t0.20581041\t0.02321177\t-0.0152890375\t0.1986148\t-0.0017749834\t0.047478057\t0.068934865\t0.020760737\t0.018335113\t-0.07239481\t0.030956274\t0.20409541\t-0.0072241025\t-0.14445423\t-0.009562437\t-0.00043394841\t0.09847019\t-0.16793104\t-0.19157049\t0.00044504926\t0.008216217\t0.025717411\t-0.067841984\t0.16784799\t0.0201505\t0.075267226\t0.069455706\t0.12506133\t0.034068316\t-0.013929807\t0.3895325\t0.019260017\t0.014772244\t-0.17575616\t-0.22327065\t0.010779885\t-0.16031119\t-0.05950577\t-0.0023275833\t-0.035816953\t0.042773075\t0.05123419\t-0.040091965\t0.03664639\t-0.0010749047\t-0.03923874\t-0.031884965\t0.34282246\t-0.23744576\t0.021851182\t-0.00046764856\t0.0017693511\t0.077087894\t-0.17328805\t-0.16182294\t6.437753e-05\t-0.010904988\t0.09278199\t-0.12016948\t0.012218485\t0.005808894\t-0.24048859\t0.086436816\t0.019373119\t0.05946198\t-0.003981239\t-0.007944665\t0.006333938\t0.040049255\t0.33229065\t0.06411779\t0.07901767\t0.0068536606\t-0.0069193398\t-0.004917305\t-0.0073481943\t0.025236778\t0.2302397\t-0.07467444\t0.022004396\t0.14977553\t-0.00057461724\t-0.19606125\t-0.0018979148\t0.18802655\t-0.07639661\t-0.07570503\t0.0039050635\t0.043117702\n",
      "-0.015201725\t0.1972989\t0.005012919\t-0.0017864023\t-0.0030931807\t0.0048653972\t0.008492619\t0.20166393\t-0.0012446963\t0.019978363\t-0.07791345\t-0.0058290777\t0.07154591\t0.002456811\t-0.006186893\t0.025135357\t0.1799842\t0.0039245645\t0.16289079\t0.004985415\t0.13862795\t0.0004948528\t-0.0012351755\t0.108693205\t-0.029832998\t0.0025009112\t0.011543461\t0.2192066\t-0.009785938\t0.14961748\t0.14608724\t0.0041597253\t0.20315032\t-0.21892144\t0.15765557\t-0.17339993\t-0.0042437194\t0.21168615\t-0.095332615\t0.0011864465\t-0.013817322\t0.2212509\t0.0039737765\t0.00071671256\t0.011947392\t0.0032669073\t0.24732897\t0.1166575\t0.08710111\t-0.25669852\t0.010269575\t0.010693304\t0.0055193026\t0.033874404\t0.072484165\t0.04466\t0.02671462\t0.0056250235\t0.0045809885\t0.14024542\t-0.017333146\t-0.8167669\t0.009184276\t-0.0010520295\t-0.009075436\t-0.14159852\t0.000792463\t-0.057143994\t-0.2485747\t-0.038935628\t0.1760845\t0.03669138\t-0.004099784\t-0.004104879\t0.026534548\t-0.03182721\t-0.10824775\t-0.0259772\t0.0046853367\t-0.0078053367\t-0.2877965\t-0.0025974584\t-0.018276216\t-0.043740828\t-0.29436055\t0.12228798\t0.00043831408\t0.36916915\t-0.001180547\t0.03955233\t-0.103903204\t0.07193546\t-0.041462217\t-0.25425553\t0.0023532321\t-0.009623833\n",
      "0.09692168\t0.055858366\t0.030060867\t0.015953122\t-0.002981288\t0.0008727382\t0.027387282\t-0.19056024\t0.0028088752\t0.0010732998\t-0.3372157\t0.0054972586\t-0.014301897\t-0.021513868\t0.017246889\t-0.10608145\t0.007693645\t0.06516118\t-0.033212278\t-0.0014023186\t-0.06748327\t0.00970544\t-0.0021558332\t0.03922052\t0.38924384\t0.043933712\t-0.0035014455\t0.053927552\t0.0036581564\t0.30741355\t0.11091516\t0.055706162\t-0.19630428\t0.21559149\t0.11358282\t-0.08188974\t-0.007817723\t-0.1769299\t-0.012030997\t0.008419051\t-0.01596953\t0.044322148\t-0.00581796\t-0.12725836\t0.012962439\t-0.005521587\t-0.06861356\t-0.051372163\t-0.37348554\t-0.019031132\t0.0022680284\t-0.0033126127\t-0.021468496\t0.022826\t0.3437583\t0.46055835\t0.005242212\t0.004051858\t-0.014779663\t0.13905758\t0.42643443\t0.076999575\t0.017479276\t0.0044270265\t-0.008609095\t0.24354674\t-0.0064434875\t0.16670686\t-0.113534376\t-0.0048144627\t0.2376811\t0.066197716\t0.000635996\t0.00776141\t-0.0012284304\t0.012663448\t0.4369418\t-0.0749606\t-0.020037618\t-0.006914893\t0.22128138\t0.012412684\t0.008288029\t-0.037418064\t-0.08314814\t0.00025768578\t0.005083911\t-0.12937649\t0.013312115\t-0.03848927\t0.008412897\t0.18894978\t0.020173674\t0.0572058\t-0.0029977125\t0.00621068\n",
      "0.023067499\t0.23903646\t-0.001794816\t-0.0011402969\t-0.0074240025\t0.004540166\t-0.026065838\t-0.1033046\t0.021713194\t-0.004265083\t0.04806609\t0.001280554\t0.027841058\t0.01865658\t-0.01612283\t-0.115282886\t-0.26904696\t-0.011973908\t-0.39817476\t-0.0072125224\t-0.030932982\t-0.0024737827\t-0.005743621\t-0.044766504\t-0.12590612\t-0.033577435\t0.009041503\t0.13426742\t0.015069176\t-0.1518951\t-0.17663027\t-0.03872359\t0.072555386\t-0.22248752\t0.08447618\t0.1622838\t-9.733136e-05\t-0.27280763\t0.0071351277\t-0.0010065071\t0.017911477\t0.1630703\t-9.2104645e-05\t0.09514777\t0.028198315\t-0.0005781918\t-0.19040187\t0.100220636\t-0.4576155\t0.10317285\t-0.007874278\t-2.3064553e-05\t0.118727624\t-0.056278404\t0.036112648\t0.55533946\t-0.011503399\t0.010191394\t0.0038393154\t-0.08778863\t-0.1688952\t-0.46884313\t0.0047029904\t0.008006503\t0.0031159192\t-0.061245903\t-0.0010403299\t0.047745295\t-0.29089123\t-0.025051467\t-0.34742287\t0.058676634\t-0.008606316\t-0.003224103\t-0.010631743\t-0.062991574\t0.18001226\t-0.041549545\t-0.20212404\t0.0042527877\t-0.23417641\t0.0042690737\t0.00349662\t0.0451513\t0.08468458\t-0.013892605\t0.013261184\t0.19372238\t-0.010906783\t0.024460316\t0.051144328\t-0.18608184\t0.042954575\t-0.016971586\t0.010538013\t0.0026668627\n",
      "-0.20912176\t-0.29354575\t-0.04200669\t0.0056536263\t0.006601079\t-0.00043466175\t-0.006360568\t-0.2972367\t0.0056934594\t0.007302903\t0.23298822\t-0.0005703349\t0.12910563\t-0.012543889\t-0.011905059\t0.15307768\t0.03865928\t0.21447131\t0.277066\t-0.005001497\t-0.0058783856\t0.0015747992\t0.0014546864\t0.11042011\t0.18997024\t0.017871497\t0.0038046092\t-0.02073123\t0.015550873\t0.03490292\t-0.066528045\t0.00849219\t-0.107836895\t-0.11652686\t0.334812\t0.16474268\t-0.0068632322\t0.0151823815\t-0.003849453\t0.010207547\t0.02238199\t-0.0713409\t0.003305298\t0.10105171\t-0.024994614\t-0.01768713\t-0.040932413\t-0.13185206\t0.21398388\t0.050539333\t-0.0038512407\t-0.009228651\t-0.03991332\t-0.027952507\t-0.4085842\t0.47843602\t0.0046137795\t-0.011618252\t0.028007716\t0.55543196\t-0.07454772\t0.12753473\t-0.0021591063\t-0.0016266473\t0.0015700932\t-0.17639236\t0.00574745\t-0.40424353\t0.22264242\t0.013996838\t-0.15313011\t0.23093562\t-0.0099242665\t-0.014223876\t0.012972921\t0.030199278\t0.069589466\t0.03044789\t0.05000416\t-0.005311308\t-0.0133723905\t0.004044489\t0.021823678\t-0.042624913\t-0.22419621\t-0.08186038\t-0.0011716457\t-0.18973328\t0.0022543771\t0.025891613\t0.00026932225\t-0.12122654\t0.072359845\t0.04037061\t0.008194233\t-0.0031851144\n",
      "0.45657316\t0.2469895\t0.03939648\t-0.0031181052\t-0.0076989965\t-0.0069270907\t0.009651614\t0.2262702\t-0.014170174\t0.0040405733\t0.3705356\t0.00013715508\t-0.09798213\t0.04966553\t0.02584963\t0.30483598\t0.12979737\t-0.04512648\t0.38700905\t0.007973537\t-0.09642064\t0.01057668\t0.00075760507\t0.049748138\t-0.28995705\t-0.0066883317\t-0.023941202\t-0.32342806\t-0.004057548\t0.03108303\t0.13933419\t-0.0035727413\t0.20036949\t-0.04802381\t0.15820545\t-0.13162374\t0.0027603076\t-0.21538827\t0.011357549\t-0.013161473\t0.020140491\t-0.10870492\t0.0030383964\t-0.015957704\t0.029438466\t-0.0026702473\t-0.14621408\t0.028713789\t0.28034478\t0.10433635\t0.0048154052\t0.0122644575\t0.07364844\t-0.007208408\t0.029344318\t0.437249\t-0.018612953\t-0.0013736393\t0.0033305509\t-0.091740645\t0.18428062\t0.2781263\t0.0006470481\t0.0029783873\t0.00071843533\t0.2353069\t-0.0040080384\t-0.22770722\t0.0089083705\t-0.020057095\t0.0079683205\t0.07214232\t-0.00010038452\t0.0022064154\t0.017835122\t0.030771209\t-0.18205407\t-0.05172647\t-0.16666925\t0.0012084553\t0.02105431\t-0.01007244\t-0.0088336775\t0.015198672\t0.16396488\t-0.06496462\t0.0050466266\t-0.16142647\t-0.0073709413\t0.019848146\t-0.1662838\t-0.1066992\t-0.08148942\t0.016238391\t-0.009838836\t0.0042811376\n",
      "0.05609922\t0.23952205\t-0.12812889\t-0.0065587615\t0.0026173668\t0.0011140653\t0.056273784\t-0.044576816\t0.021552652\t0.0035123152\t0.046846125\t-0.009311518\t-0.1029122\t-0.109969646\t0.02396594\t-0.017650547\t0.07257932\t0.13293149\t0.24360104\t0.0048749777\t0.23542762\t0.00028349704\t-0.005024178\t0.26244336\t0.025621984\t-0.086557\t-0.011642872\t-0.0006793576\t-0.030339867\t-0.16979577\t-0.33758596\t-0.021843312\t0.03474048\t-0.11825638\t-0.038493343\t0.3733602\t-0.027186723\t0.38851887\t0.0697156\t-0.015802484\t0.068276905\t-0.05239439\t0.009262349\t-0.182852\t-0.022847386\t0.0026008335\t-0.23845479\t-0.21980837\t0.2208904\t-0.10730565\t0.014630346\t-0.058968257\t-0.057365116\t-0.020348798\t0.008993542\t-0.40789327\t0.020366138\t-0.0116822645\t-0.05675769\t0.030771753\t-0.0159347\t-0.15825695\t-7.282602e-05\t2.7239472e-05\t0.03868898\t0.07139595\t0.0027562685\t0.116431415\t-0.17511001\t-0.0047289706\t0.33325183\t-0.16025053\t-0.010242543\t-0.019722702\t-0.021055406\t0.038078308\t0.17032698\t0.06908538\t-0.11670335\t0.015034757\t0.04913842\t0.0048205536\t0.027156722\t0.12010494\t0.0020856014\t0.07029509\t-0.023763893\t0.1791442\t0.0071899127\t-0.034954358\t-0.06552622\t0.04981997\t0.07561947\t0.029086927\t0.0020488754\t0.008996341\n",
      "-0.024957618\t0.11767116\t-0.08523913\t-0.003712663\t0.041327298\t0.002583432\t-0.019752055\t0.018013157\t0.00048358255\t-0.030931009\t0.3072514\t-0.001114534\t-0.06530903\t0.032628916\t-0.03769974\t-0.1340547\t0.15512997\t-0.04148967\t0.11162537\t0.028943751\t-0.20013492\t0.0069906414\t-0.007194562\t-0.09775323\t-0.20974457\t-0.014236909\t0.015756862\t-0.15350054\t0.043840118\t0.09699934\t-0.17813785\t-0.066262215\t-0.21971269\t0.034592688\t-0.11031476\t0.12056568\t0.010109252\t0.44364244\t-0.16332752\t0.0054986835\t0.045856923\t-0.14921626\t-0.0001879122\t0.059964284\t0.22321677\t-0.004919702\t0.053475916\t0.060293082\t-0.042919636\t-0.116877295\t-0.09065869\t0.02785311\t0.091989465\t0.020208826\t0.041723683\t-0.3217618\t-0.06271649\t-0.010837443\t0.076792255\t0.058820505\t-0.08988651\t-0.44113228\t0.00015129539\t0.011886788\t-0.11729198\t-0.028014002\t-0.026273914\t-0.0464871\t-0.18745814\t0.028364062\t0.26584673\t-0.04475514\t-0.0051007727\t-0.007054232\t-0.027237425\t-0.11018164\t0.17726585\t0.06555019\t0.11537404\t0.0053420607\t0.11607017\t-0.00770259\t-0.0033031208\t-0.21284267\t0.0130353505\t-0.06276923\t-0.10167658\t0.118147425\t0.002239978\t0.06838025\t-0.02846099\t0.02980832\t-0.31998873\t0.35189208\t0.007749778\t0.012996852\n",
      "-0.056484103\t-0.17406255\t0.07284486\t-0.00955477\t-0.004796666\t-0.01194705\t0.023251828\t-0.28119904\t0.006002113\t-0.0053915777\t0.17943433\t-0.001867634\t0.13659455\t0.018248878\t-0.018951565\t-0.2565929\t-0.09781064\t-0.24515569\t0.058662076\t-0.007398474\t0.12355133\t0.0013608279\t0.001296319\t0.0026451396\t-0.15782358\t-0.048237186\t0.0012706959\t0.19474266\t0.0074423254\t0.09487629\t0.11221181\t0.027065786\t-0.0033016335\t-0.08382329\t-0.23376636\t-0.105141796\t-0.007589254\t-0.20780365\t-0.022209127\t0.0021280095\t-0.047523085\t0.16491161\t0.004216139\t0.11592249\t0.082819805\t0.0060637\t-0.098440334\t-0.18165492\t0.12279761\t-0.17511293\t-0.017152878\t-0.012432829\t-0.044803333\t0.018947091\t0.00721161\t-0.08531283\t0.001962115\t-0.0058937105\t-0.013239834\t-0.09285482\t-0.1938843\t0.7744293\t0.0082660625\t0.0018390126\t0.0045885686\t0.18854357\t-0.0075042923\t-0.1436936\t-0.05843924\t-0.037058707\t0.107072264\t0.10381156\t-0.00092665566\t-0.0026798092\t0.002995062\t-0.04385975\t0.06552568\t-0.08497046\t0.052912265\t-0.005163263\t0.057120074\t0.0065006446\t0.011698289\t0.025282862\t-0.17402418\t0.051689573\t0.0060232105\t0.46257448\t-0.012547773\t0.002116622\t-0.041704614\t-0.052997734\t-0.19835414\t-0.09868094\t0.00735936\t-0.020612497\n",
      "0.0312145\t0.11885148\t-0.0760451\t0.0009722203\t0.010179853\t0.008056113\t0.0096247345\t0.103371\t0.011457048\t0.0075965584\t-0.035936527\t0.0068429164\t0.010329794\t-0.04473959\t0.016783979\t0.0447027\t-0.23491032\t0.24350001\t0.04425921\t0.010514549\t-0.035599142\t-0.0027811914\t-0.00060540414\t0.076057084\t-0.19495453\t-0.03493985\t-0.008382743\t0.28061306\t0.010366445\t0.082275435\t-0.12654549\t-0.041623436\t-0.034850985\t0.2351773\t-0.042931385\t-0.12772517\t0.0045133396\t-0.09577706\t-0.002557131\t0.007372695\t-0.030455533\t-0.116289176\t-0.0058089835\t-0.0922101\t0.004870465\t-0.0035413846\t-0.10659572\t0.09908564\t-0.17294142\t0.051777575\t0.0077279755\t-0.015132946\t0.03439794\t-0.030823408\t-0.20392784\t-0.041394044\t0.015530571\t-0.01580919\t0.011908679\t-0.32878983\t0.123724885\t0.1037226\t-0.008927737\t-0.001496306\t0.01829977\t-0.11815975\t0.010696755\t-0.74534464\t0.43449706\t0.015591659\t0.015880503\t0.09414498\t-0.004281817\t-0.0043921266\t-0.01190127\t-0.06461272\t-0.28486606\t-0.090856045\t0.05976349\t0.0015326517\t0.0034881856\t-0.0004880876\t0.0006270944\t-0.017100198\t0.03535005\t0.020744419\t-0.0011001638\t0.06549605\t0.0077463514\t-0.007887239\t-0.010553087\t0.35250986\t0.19769382\t0.14511105\t0.011608711\t0.0040164273\n",
      "0.004807261\t0.08603218\t-0.013132642\t0.0071095987\t0.0040395577\t0.0007080377\t-0.07129794\t0.17124741\t-0.0014373782\t-0.009529611\t-0.068686925\t0.011922931\t0.006621289\t-0.019829676\t-0.017119125\t0.024675908\t0.09297153\t0.019087024\t0.124855325\t-0.01954397\t0.09979608\t-0.0005331856\t0.021966442\t0.049316864\t0.08504679\t-0.27633998\t0.0029383104\t0.033996094\t0.10177862\t-0.106261976\t0.0015210618\t0.14656922\t-0.067504406\t-0.36921576\t0.08928368\t0.16546828\t0.028933309\t0.048056614\t0.23229223\t0.005363541\t-0.0880929\t-0.17532195\t-0.013512176\t-0.49477762\t0.12569347\t0.0014576048\t0.18126437\t-0.001509303\t0.0877851\t-0.04676136\t-0.0073979055\t0.036029983\t-0.094045475\t0.17027819\t0.10969866\t-0.40441135\t-0.030043928\t-0.0077791163\t0.0124837635\t-0.060361028\t-0.017374597\t-0.09897149\t0.002127167\t-0.012192428\t-0.16736485\t-0.064459436\t0.014965554\t0.027284114\t-0.10720689\t-0.07005782\t-0.05051059\t0.0126143\t-0.010191055\t0.0066200653\t0.03680879\t0.0055164774\t0.19905858\t-0.033066258\t0.09942332\t0.006394058\t-0.03563832\t-0.0026838637\t-0.0014518803\t0.048384372\t0.06468864\t-0.104544975\t0.09739545\t0.08803284\t0.0015441158\t0.18929848\t-0.01663351\t0.02852284\t0.030173972\t0.14347261\t0.0020125064\t-0.026501423\n",
      "-0.04813505\t-0.030048879\t-0.054406222\t-0.004848254\t-0.020622311\t-0.005142158\t0.0030986387\t0.26517633\t-0.05505925\t-0.009871462\t-0.09036512\t0.014443839\t-0.11557587\t-0.1310057\t0.042091783\t-0.26396134\t-0.26495662\t-0.13842995\t0.13971306\t-0.016982729\t0.16575661\t-0.008396967\t-0.009953289\t0.040277053\t0.13858166\t0.11228115\t-0.010899004\t-0.21287091\t-0.008389084\t0.1287119\t-0.07464571\t-0.016742393\t-0.10273804\t-0.35405126\t-0.05647888\t-0.035646047\t0.026337832\t0.29048175\t0.032208793\t-0.009043113\t0.02402513\t-0.28387594\t-0.0060169036\t-0.24921502\t-0.034366794\t-0.0020799628\t0.19675034\t0.059282992\t0.31388026\t0.13411245\t0.03486121\t0.04154882\t-0.03390438\t-0.006718254\t0.102637865\t-0.17475955\t-0.03375211\t-0.022713738\t0.020192271\t-0.11846787\t-0.28329554\t-0.25933167\t-0.0039355992\t0.0047744224\t0.072458506\t0.15524223\t0.010574597\t-0.25975144\t-0.23176828\t-0.018117113\t-0.0050312513\t-0.0032775288\t-0.00031237246\t0.012485252\t-0.047768857\t0.11369993\t0.1562471\t0.082451336\t0.036958747\t-0.011433675\t0.049982525\t0.00015873527\t-0.01826157\t0.04317135\t0.07435954\t0.12257661\t-0.0006708724\t0.0266641\t0.0011526584\t-0.06639651\t0.12850884\t-0.012583695\t0.054468382\t0.19303045\t-0.007740066\t-0.013940866\n",
      "-0.042839482\t0.1367249\t-0.27598545\t0.011654034\t-0.02188715\t-0.009482346\t-0.062775865\t0.08803548\t0.11609039\t0.06333919\t0.06359476\t-0.0037420667\t-0.12511286\t-0.077911474\t-0.05086331\t-0.13610856\t0.3309998\t-0.05250355\t0.15612613\t0.0037486134\t0.0008722418\t-0.0029744143\t-0.0022440183\t-0.03705471\t0.14834745\t-0.0863681\t0.0033476679\t-0.2714345\t0.008679358\t0.06480279\t0.20246565\t-0.114605024\t-0.032673478\t0.004564784\t-0.07484156\t0.11802582\t-0.012299139\t0.094299905\t0.14266478\t-0.0136861205\t-0.061367456\t-0.3411863\t0.005799416\t-0.15655394\t0.015403219\t-0.0066742836\t0.20858195\t-0.05182638\t-0.2082596\t0.027437247\t0.053276494\t-0.0830952\t0.018248888\t-0.17864977\t-0.12748843\t-0.3382128\t0.07366541\t0.0075013405\t0.058379464\t0.017424405\t-0.29844368\t-0.07442126\t-0.005511375\t-0.007927696\t0.058074728\t-0.29661238\t0.02604182\t-0.112485096\t-0.26884732\t-0.0025003864\t0.04142302\t-0.1015957\t0.009536631\t-0.04728181\t-0.059224322\t0.026926866\t0.110509545\t-0.08479931\t-0.2874816\t0.01652394\t0.11263533\t-0.0115299355\t0.0624049\t0.01437583\t-0.14414012\t-0.01439978\t0.024466746\t0.16229255\t-0.0022216733\t0.0064098123\t0.053611625\t0.032059684\t0.05793827\t-0.023354532\t0.0025876882\t-0.11784946\n",
      "-0.037227206\t0.053726558\t0.096367314\t-0.01414556\t-0.027657168\t-0.015104036\t-0.14782377\t0.5006984\t-0.031758793\t-0.009394415\t0.008399778\t-0.00019915332\t0.08639451\t-0.34594214\t-0.037578\t-0.14464037\t0.17743441\t0.121623404\t0.10462637\t0.008052027\t0.06567028\t-0.010431519\t0.0023216926\t0.17273997\t0.067474246\t0.17221849\t-0.011547922\t-0.23837765\t-0.08103323\t-0.021481998\t-0.14630535\t-0.033877388\t-0.02893679\t-0.10061177\t0.011895648\t-0.06974562\t0.0032110158\t0.40433705\t0.032610267\t0.008573245\t0.21987988\t-0.0016523014\t-0.0109108845\t0.0048981546\t0.030320017\t-0.00046211318\t0.07909234\t0.24633351\t-0.25474873\t-0.027341722\t-0.027752612\t-0.035557576\t0.07783907\t0.05296642\t-0.15404335\t-0.33115909\t-0.04465616\t0.014419393\t-0.0059586973\t0.015414224\t-0.0034056345\t0.37377182\t-0.00062270864\t0.006049541\t-0.09309573\t-0.26372394\t-0.025944471\t0.00014752713\t-0.47280893\t0.008433069\t-0.12921558\t0.028152635\t0.0056160903\t0.009069602\t0.019325595\t-0.0037084722\t0.2683135\t0.20180087\t0.009324387\t0.0036031737\t0.18744546\t-0.010802801\t0.034386195\t-0.14707646\t0.07755417\t0.046024416\t0.018785568\t0.1785502\t-0.007430674\t0.056699727\t-0.051709414\t0.061005935\t0.046977345\t-0.1021029\t0.0055976836\t0.029990219\n",
      "-0.0038403058\t0.31911156\t0.15098193\t-0.017198877\t0.035001054\t-0.0006605771\t0.10663375\t0.39188087\t-0.020704238\t-0.019618912\t0.020262685\t-0.0026572365\t0.1565021\t0.1152759\t0.017967917\t-0.19066814\t0.016114812\t-0.12020644\t0.13352992\t-0.0065005985\t0.156216\t-0.0032471565\t-0.0054714754\t-0.10516227\t0.24436991\t0.06148743\t-0.048234463\t-0.31612504\t-0.018584292\t0.011853112\t-0.17326446\t0.07903757\t-0.07213898\t-0.060676724\t0.21049581\t0.23422313\t0.020709008\t0.07342729\t0.039814427\t0.016035713\t0.04653377\t-0.35887557\t0.009393521\t-0.10742324\t0.020485152\t0.0010052242\t0.303662\t0.09704414\t-0.13235362\t-0.23781009\t-0.0014715933\t0.057569116\t0.06799218\t0.040913947\t-0.057668068\t-0.41290733\t-0.030453717\t0.0050617885\t-0.016143171\t-0.091804124\t-0.13038158\t0.113255166\t0.011662303\t-0.007597732\t0.09692401\t-0.40032333\t-0.007763134\t-0.06747458\t-0.14661199\t-0.075255945\t0.11473536\t-0.14774334\t0.00018932289\t0.0053305468\t0.009153482\t-0.10280098\t0.14931571\t-0.037936036\t-0.043859296\t0.0043527544\t0.23460212\t-0.0034869274\t-0.041493647\t0.03712441\t-0.044241156\t0.25427967\t-0.052899946\t0.028831808\t0.004055829\t0.014548154\t0.00950875\t-0.21840172\t0.087939955\t0.011232597\t-0.0049568834\t0.027197964\n",
      "0.19389747\t-0.27332893\t-0.048691757\t0.003945864\t0.014975767\t-0.00022684442\t-0.0030574012\t-0.1982797\t-0.0021956887\t-0.006050891\t0.2737964\t-0.015506982\t0.102189586\t0.043365996\t0.025210956\t-0.24190557\t-0.024148054\t0.26051816\t-0.36818087\t0.0024162114\t-0.101976335\t-0.0024999687\t0.0077078026\t0.10272109\t0.17645447\t-0.16573626\t-0.0067175142\t-0.10932734\t-0.0068752836\t0.17104492\t-0.05429092\t-0.014071594\t-0.005933008\t0.10619552\t0.23417157\t0.12808962\t0.0014968482\t-0.0063568074\t0.017195515\t-0.0067929793\t0.07791122\t0.1293143\t0.0058654626\t-0.03382925\t-0.015567528\t-0.002441448\t0.22175635\t0.1257373\t0.09615061\t-0.27411872\t4.44802e-05\t0.015121475\t0.0076948637\t-0.02914228\t0.05819979\t0.025835782\t-0.0019980592\t-0.005936407\t0.0010954343\t-0.22311494\t0.01847986\t0.15658705\t-0.0059476984\t0.002745144\t-0.0054560564\t0.19895975\t0.005473336\t-0.020774798\t-0.12384321\t0.10197803\t-0.30545956\t-0.23113082\t-0.002044828\t-0.004615411\t-0.04150545\t-0.0022553785\t-0.7637667\t0.15067749\t-0.002984738\t0.021007003\t0.0354353\t-0.012009005\t0.002926128\t0.050202996\t-0.02099727\t0.0014134845\t-0.0033279203\t-0.12397282\t0.017060323\t-0.05790817\t0.12405631\t0.16748679\t-0.1315852\t-0.11298793\t-0.0007314293\t0.0022385924\n",
      "-0.25527436\t-0.100980975\t-0.08744905\t-0.0002942804\t0.0047081597\t0.008711569\t0.037917383\t0.21003985\t-0.0039445898\t0.0073058954\t0.123601556\t-0.016873065\t-0.08875164\t0.038655385\t0.032982267\t-0.06822309\t0.07438661\t-0.08319735\t-0.18889113\t-0.0031579472\t-0.059653968\t-0.013599064\t0.013632248\t0.15481667\t0.405809\t-0.14084902\t0.0064090136\t-0.32619205\t-0.016861651\t-0.16186677\t0.16139713\t-0.013369239\t0.095670804\t0.08292362\t-0.1457573\t-0.089626424\t0.011960081\t-0.37521008\t-0.017179716\t0.0007822702\t0.011374361\t0.2409502\t-0.015913397\t0.03308624\t-0.122215435\t0.0011272554\t-0.34378558\t-0.08884351\t-0.329152\t0.012132278\t-8.7957596e-07\t0.0012597102\t-0.11047338\t0.07390072\t-0.2283382\t-0.0430198\t-0.017537402\t0.0032306637\t0.022386584\t0.10032069\t0.51051533\t-0.44535616\t-0.014490119\t0.013199932\t0.008937642\t0.27669784\t-0.00042210837\t-0.21936943\t0.08747916\t0.008568042\t0.000628807\t-0.22144449\t0.020970413\t0.008898419\t0.030308314\t-0.0023643896\t0.20990172\t-0.058551345\t0.22672777\t0.00087877933\t-0.021513682\t0.0034147806\t0.00045022112\t0.030392703\t0.25802657\t0.10425201\t0.003584976\t0.1371485\t0.0070606517\t0.012395585\t0.16749062\t-0.3367072\t-0.089946195\t-0.00994912\t0.0037370918\t0.0058354666\n",
      "0.06271597\t-0.25866285\t0.07330645\t0.013082593\t-0.003988094\t0.0151154045\t-0.03437231\t-0.27802402\t-0.02850975\t-0.005068264\t0.14046729\t-0.0054103048\t-0.049747366\t-0.02550144\t0.006308465\t0.13408044\t0.1903303\t-0.21082553\t0.1326628\t-0.0070290132\t0.27881464\t0.06417815\t-0.0013234066\t-0.19746983\t-0.06028726\t-0.04152265\t-0.010561252\t-0.057265304\t-0.02993219\t0.1935949\t-0.017080592\t0.0103725875\t0.046921737\t-0.033730246\t-0.19426158\t-0.11867276\t0.008938032\t-0.03317716\t-0.06378764\t-0.0058322586\t0.09432697\t-0.21916078\t-0.00282868\t-0.083356224\t0.09308058\t-0.006992193\t-0.2504696\t0.033709273\t0.051335447\t-0.00045555463\t-0.00037718736\t0.016166778\t0.07266343\t0.02411033\t0.13700008\t0.04055234\t-0.0122096315\t0.25725937\t-0.032979757\t0.052361716\t0.11710106\t0.18210462\t-0.012501348\t0.0052827415\t-0.022181815\t-0.32244295\t-0.009179941\t0.06494046\t-0.11950994\t-0.070914835\t0.11290841\t-0.1479402\t0.018341731\t0.024214916\t0.006174458\t-0.058165055\t-0.3305131\t-0.03252651\t0.16049547\t0.007138434\t-0.43790174\t-0.01828217\t-0.020215537\t-0.026080618\t0.24453168\t0.14259474\t0.021053154\t-0.124709815\t-0.017025407\t-0.03406904\t0.15075794\t0.14624184\t0.41386658\t-0.0068015065\t-0.0033369358\t-0.02053327\n",
      "-0.11704107\t-0.22482811\t-0.12980653\t0.005777204\t-0.009670042\t-0.0050093397\t0.017898768\t0.18070789\t0.0061611976\t-0.010488003\t0.3250189\t-0.0002763074\t0.04687817\t-0.014560092\t0.0030287562\t-0.18578334\t0.077484526\t0.0556281\t0.19533268\t0.011595568\t0.21194096\t0.0049800323\t-0.0067348797\t-0.09158221\t-0.27964288\t0.061657384\t-0.0045125443\t0.09259042\t0.032469142\t-0.26560625\t0.12592259\t0.058693722\t-0.22149658\t-0.10525143\t0.16114442\t0.17495435\t0.0059295315\t-0.06246265\t0.044652667\t0.010925472\t0.0062100687\t0.36963478\t0.011085769\t0.2708547\t-0.045671683\t0.004374705\t0.29648978\t-0.27430388\t-0.22044638\t0.44611642\t0.005281336\t0.06280836\t-0.082855605\t0.055637967\t0.077127725\t0.14449108\t0.0007205262\t0.0016910541\t0.036588214\t-0.30156645\t0.031668033\t0.07370746\t-0.0039203875\t0.001710422\t0.018324295\t-0.025111094\t0.0055315397\t-0.013680435\t0.023664612\t0.051350657\t0.31776795\t-0.08811718\t0.0006495347\t-0.0048437635\t0.03116751\t0.13280857\t-0.22136371\t-0.06587648\t0.121183485\t0.015438229\t0.028214654\t-0.012365515\t-0.005998502\t0.03269773\t-0.08645525\t0.11694785\t-0.010873895\t-0.42066178\t0.013847238\t-0.0059417095\t-0.025932528\t0.18823682\t0.030208942\t-0.020345628\t0.0057813236\t-0.011941525\n",
      "0.22477092\t-0.17594123\t0.14147253\t-0.012939893\t0.008472117\t0.005451352\t0.010876845\t-0.09626148\t-0.010918902\t-0.014433666\t0.05869237\t0.017038852\t-0.2619226\t0.05253588\t-0.0029934023\t0.4541843\t-0.18511195\t-0.1026559\t-0.3586214\t0.01618437\t0.16752991\t0.001993316\t-0.01852408\t0.12150781\t-0.3150438\t-0.060336888\t0.023441065\t0.008025984\t-0.012472342\t0.25660434\t0.055626746\t-0.03855344\t-0.04994058\t0.3181441\t0.38846198\t-0.19322143\t0.016416132\t0.32375604\t-0.06579915\t-0.0038200875\t0.06594126\t-0.049781732\t0.009366011\t-0.09106928\t-0.043604173\t0.012523142\t0.19160691\t-0.26219028\t-0.24973288\t0.23319477\t-0.023713581\t-0.02172683\t-0.11905873\t0.02039409\t-0.29462373\t-0.44718438\t-0.0035257824\t-0.0136456955\t0.004705377\t0.028575147\t-0.11868254\t0.26360685\t-0.009607508\t0.0046986686\t-0.010649189\t0.21226747\t-0.004901424\t0.18071376\t-0.07619761\t-0.04594378\t-0.02275183\t0.02863425\t0.0025039322\t0.004786181\t0.0048971614\t-0.0676165\t0.07936012\t-0.07006755\t0.045137823\t-0.0058274246\t-0.21476947\t0.0031563994\t0.0005694156\t0.05985307\t-0.2336539\t0.008464988\t-0.023744116\t0.067452\t0.010235891\t-0.0003325159\t0.022079665\t-0.32197574\t0.12973742\t0.00042308896\t0.0050216652\t0.022634787\n",
      "-0.090324536\t0.0062440913\t-0.083896995\t-0.0044952417\t0.014512781\t0.00071363157\t-0.014716507\t-0.021301595\t-0.017596567\t-0.00611458\t-0.028699096\t-0.00085481297\t0.0058316104\t-0.007562583\t0.046285197\t0.53206325\t-0.15044685\t-0.21932219\t0.072581254\t-0.023228988\t0.12560499\t-0.003841046\t-0.011093827\t-0.10315216\t0.13723247\t0.0973164\t0.011729819\t0.25608718\t0.026897155\t-0.48632997\t0.02305685\t0.01848987\t-0.23350292\t0.12928486\t-0.22088027\t-0.13104904\t0.007952386\t0.15260047\t0.03770248\t0.010457718\t0.035716813\t-0.35604438\t0.003020439\t0.021115828\t0.036110383\t0.015491652\t0.063129246\t-0.00046504708\t-0.16261518\t-0.26833168\t0.012138355\t0.030727327\t-0.056707732\t0.038410064\t-0.11504684\t0.42029202\t-0.036914498\t-0.008623144\t-0.00257839\t-0.013890428\t0.21987115\t-0.039430287\t-0.004949893\t-0.0077221487\t0.003003866\t0.11817565\t0.026366381\t0.02294841\t-0.2350373\t-0.042150453\t-0.30480617\t-0.2944365\t0.01733256\t-0.00130542\t-0.016227981\t0.13118279\t0.08631149\t-0.03744336\t0.04598983\t-0.008876321\t0.052553\t-0.0031998407\t-0.00589008\t0.047989912\t-0.154021\t0.17027645\t-0.010306835\t-0.063049294\t-0.0063424385\t0.08491897\t-0.0078048566\t0.28183702\t-0.25230077\t-0.10872309\t-1.9595143e-05\t-0.027362177\n",
      "0.09249768\t0.21138723\t-0.056847997\t0.012167211\t-0.0024239372\t-0.0031158088\t-0.009455986\t0.35252604\t-0.016421843\t-0.013699043\t0.18928666\t0.0073573655\t-0.15036184\t0.07800434\t-0.0180941\t-0.09785321\t0.107406974\t0.08239368\t-0.4834614\t0.0060464577\t-0.17905578\t-0.0031477793\t0.010470782\t0.043517236\t0.30912164\t0.1377049\t0.01798758\t0.62232876\t-0.0028872383\t-0.19844584\t0.18247505\t-0.022134919\t-0.09606191\t-0.19627237\t0.12086087\t-0.18875653\t0.02109398\t-0.053504337\t-0.14985317\t0.016814426\t-0.07574973\t-0.1426222\t0.0009519156\t0.3160141\t-0.0038061119\t0.023194497\t-0.0071806842\t-0.22299746\t0.29535297\t-0.0763503\t-0.00086534\t0.037966006\t0.03120387\t0.004878899\t-0.17240638\t0.045718346\t-0.0095198825\t-0.0011619745\t0.046201535\t0.22391589\t-0.055223316\t0.4332077\t-0.009289258\t-0.0029002214\t0.005688187\t-0.014026498\t-0.0127565125\t0.18227363\t0.09137178\t0.04029483\t0.15194042\t-0.07324224\t0.0068784165\t0.007885802\t-0.020995386\t-0.016268427\t-0.062889494\t-0.0006749655\t-0.077833325\t0.0037929972\t-0.18147852\t0.0012232593\t-0.022262063\t-0.06102125\t0.2579732\t0.055537935\t-0.001275596\t-0.026248889\t-0.002411412\t0.056764875\t0.10353999\t0.091220476\t0.10383412\t0.17417295\t-0.0025641625\t-0.0120651275\n",
      "-0.19929327\t0.15381427\t-0.004786562\t0.011948214\t0.004124668\t-0.005270108\t0.011110145\t-0.22098622\t-0.017260255\t-0.020770235\t-0.12832795\t0.009090988\t0.109981656\t-0.093104556\t0.010119069\t0.45222747\t-0.030905327\t0.09757556\t-0.18113263\t-0.01900057\t-0.09530757\t-0.003045556\t0.011115725\t0.020195726\t0.14205122\t0.25130746\t0.008599241\t-0.20607732\t-0.04295794\t-0.17575821\t-0.015703913\t-0.0053573037\t-0.06368097\t0.10101302\t0.039413024\t-0.14398438\t-0.015721612\t-0.21400295\t0.09103356\t-0.00025115468\t-0.054088682\t0.15155351\t-0.002735536\t-0.041828524\t-0.05015735\t-0.0014259332\t-0.0939696\t-0.19802652\t0.08487768\t0.062215474\t0.014735011\t-0.005096924\t-0.10079324\t0.0018007613\t0.25741914\t-0.3416528\t0.003562273\t-0.024881488\t-0.0002549449\t-0.19563608\t-0.20786564\t0.18433253\t0.006166918\t0.007363546\t0.003453254\t-0.26935226\t-0.002420927\t-0.07702324\t-0.45032167\t-0.04766046\t0.20877764\t0.34584564\t-0.008076951\t0.0027804337\t0.0055103055\t0.15691094\t-0.6087353\t0.023578689\t0.14829727\t0.008832338\t-0.20019127\t0.0026230174\t-0.00038483748\t-0.016631138\t-0.081659526\t0.0019400837\t-0.010909186\t-0.14198917\t-0.00627495\t0.0042616553\t0.18165797\t-0.1522317\t-0.11188443\t0.19752686\t-0.008192272\t0.016396217\n",
      "-0.34479573\t0.14096116\t0.05892698\t0.008475914\t0.0075131217\t-0.0059108827\t0.0056327856\t0.027905703\t0.021048365\t0.007839701\t0.23445897\t0.0057911407\t-0.06834275\t-0.03878135\t-0.064936474\t0.30732116\t-0.061536863\t-0.014696808\t-0.43078747\t0.003249403\t0.17825459\t-0.008458191\t0.008146717\t0.07505255\t-0.25370094\t-0.087408\t-0.012883634\t-0.16784589\t-0.06836804\t-0.0110271415\t-0.1099442\t-0.054492842\t0.080941446\t-0.12692523\t-0.18454233\t-0.0480012\t0.00757373\t0.12042671\t0.005259963\t-0.0051119197\t-0.029107787\t-0.11843797\t-0.008200051\t0.030308712\t-0.037559595\t-0.0029186984\t0.29579082\t0.117250115\t-0.013935842\t0.1674208\t-0.013773194\t-0.050051156\t-0.10299729\t0.019151725\t0.20741808\t0.13104749\t0.029976962\t-0.011620507\t0.039185666\t0.43603343\t0.21087527\t0.30114707\t0.0055149514\t0.006823219\t0.028448079\t0.13896982\t0.00027890207\t0.2558115\t0.36472523\t-0.09735678\t0.11957083\t0.08179891\t0.017777285\t0.0111553455\t0.008396258\t-0.12794647\t-0.3789688\t-0.06714095\t-0.039471857\t-0.0062505426\t0.31452894\t-0.009547156\t0.026804406\t0.0018141009\t-0.07990535\t-0.00048724655\t-0.019359643\t0.2117627\t-0.0052444586\t-0.016767697\t0.29769734\t0.0056990734\t0.16023323\t-0.014266605\t0.012294958\t0.01282472\n",
      "-0.11849865\t0.17433771\t-0.071210496\t-0.017437039\t0.0012426305\t0.010621614\t-0.044519287\t-0.40227926\t-0.0012071307\t0.0035013268\t0.18470328\t-0.010036718\t-0.07224333\t-0.07340936\t-0.04113912\t0.074095845\t-0.18418553\t0.059999313\t0.28480256\t-0.0020078758\t-0.30757916\t0.0017522231\t-0.0032622316\t-0.009131808\t-0.16036163\t0.088856176\t-0.0034402679\t0.39142594\t0.005328706\t0.15165626\t-0.16086373\t-0.069563106\t-0.1297521\t0.12935802\t-0.08356791\t-0.22136208\t-0.010624799\t0.033384733\t0.110251114\t0.0076981885\t-0.03541375\t0.2217477\t0.01095747\t-0.3012515\t-0.017190496\t-0.00026734633\t0.49238884\t-0.053325407\t0.06256242\t0.15534124\t0.023124332\t0.0021402347\t0.13685198\t0.012045205\t-0.06200471\t-0.13831368\t-0.03151529\t-0.0066369525\t0.09339287\t0.09148803\t0.2176337\t0.16191904\t-0.017008262\t-0.019006805\t0.02906841\t-0.14343674\t0.009536136\t-0.018863553\t-0.012185113\t0.026715813\t0.012707764\t-0.13969009\t0.0037525508\t0.016619742\t-0.005954435\t-0.040875696\t-0.14811468\t-0.005018966\t-0.071832925\t0.005211931\t0.09244431\t-0.004023148\t0.011731264\t-0.010172728\t0.45555934\t0.13722336\t0.027955443\t-0.11395231\t-0.015096562\t0.03232743\t0.1360191\t-0.54169434\t-0.0018324313\t-0.3764193\t-0.027355947\t-0.05720475\n",
      "-0.023394302\t-0.15503259\t-0.007989881\t-0.013696645\t0.017683987\t0.0076263314\t-0.00035180768\t0.15878297\t0.011974748\t0.016440183\t-0.25033775\t-0.00040646936\t0.14223346\t0.07141702\t-0.0467914\t0.3261012\t-0.037717413\t-0.0903541\t-0.35221922\t0.0012703411\t0.10345745\t-0.012399422\t0.008940019\t-0.39756972\t0.117734924\t-0.2016398\t-0.0023627174\t0.06968489\t0.012804137\t0.16405298\t0.03790865\t0.0078118336\t-0.29252276\t0.047551896\t-0.108186364\t0.22340928\t-0.009074433\t0.16936326\t0.023771405\t0.0006585716\t-0.03639833\t0.3720363\t-0.0008466131\t0.40105736\t0.043708336\t0.014509975\t-0.07310041\t0.15496731\t0.34133333\t0.111759916\t0.0083834175\t0.044521842\t-0.013240407\t-0.037739053\t-0.14031476\t-0.29046473\t-0.035801962\t-0.01788114\t-0.035591193\t0.07411661\t0.034852624\t0.10000342\t0.004953337\t-0.012380581\t0.05780477\t0.08275609\t-1.9849176e-05\t-0.36773515\t-0.4877721\t0.014109989\t0.122963\t0.01167098\t-0.0024882103\t0.024685202\t-0.0062716696\t-0.035129156\t-0.32960743\t-0.18550126\t-0.1080193\t-0.0064870296\t0.1779746\t-0.004555503\t0.013047084\t0.022896219\t0.33023787\t-0.18904693\t0.011334689\t-0.07812607\t-0.0070368713\t-0.00017232948\t-0.25347492\t-0.106447786\t0.2719471\t-0.117185354\t0.01596149\t-0.020087764\n",
      "0.05913729\t-0.35060754\t-0.056763858\t-0.025907828\t-0.015979903\t-0.004896971\t0.011554727\t-0.08024678\t0.016329836\t0.0031558136\t0.25752938\t0.007866781\t0.08343072\t-0.15668453\t-0.016407613\t0.2394207\t0.11821247\t0.2008937\t-0.18429312\t-0.0067519853\t0.31811878\t0.0063291923\t0.015632182\t-0.14634192\t0.011178328\t0.08792827\t0.0065577547\t0.44188818\t-0.01185062\t0.056015886\t-0.049228612\t-0.008496164\t0.62634355\t0.00928869\t-0.12616442\t-0.06511606\t0.011724293\t-0.16596259\t0.024134867\t0.012838441\t-0.0660246\t-0.22086695\t-0.002034099\t0.23640923\t-0.08303313\t-0.015483042\t0.19740097\t0.054035414\t-0.2339349\t-0.18469551\t-0.017176647\t-0.0062578046\t-0.0058826827\t0.008529466\t0.15696678\t-0.21103616\t0.026088964\t-0.0022455158\t0.053870536\t-0.0037654426\t-0.098283224\t-0.10807141\t0.0032784021\t0.0076488666\t-0.0075580743\t0.052321393\t-0.0043928563\t-0.10087239\t-0.04726844\t0.03785254\t0.11413172\t0.09891927\t-0.015276913\t-0.014977175\t1.8938925e-05\t0.14889492\t-0.04076806\t0.11399635\t0.08585751\t-0.00085374614\t0.38122642\t0.0048025474\t-0.0005425425\t0.051019985\t0.08283065\t-0.01342566\t0.0050529763\t-0.2997349\t0.015187107\t-0.010793267\t-0.06888652\t-0.25580317\t-0.0729582\t0.2590682\t-0.0059971726\t-0.0054554604\n",
      "0.19706169\t0.02330699\t0.075135015\t0.013303089\t0.00087954244\t0.009308864\t-0.011635806\t-0.18556544\t-0.005089844\t0.002190745\t0.05215057\t0.0070497454\t-0.10667413\t-0.12085501\t0.01103802\t0.09808597\t0.08523381\t-0.63464504\t0.0776484\t-0.005512334\t-0.050166547\t0.006730797\t-0.015167969\t0.2110328\t0.29825744\t0.038050745\t-0.0036353264\t0.1176847\t-0.006241226\t-0.34249339\t0.06092178\t0.011672577\t0.151047\t0.2489914\t0.052731548\t0.20389815\t0.012096886\t0.12500907\t0.021301823\t0.006124107\t0.07252784\t0.17892025\t-0.011599897\t0.06478296\t0.050466582\t-0.0020781716\t0.09298451\t0.15063597\t-0.23973991\t0.14631227\t0.018875886\t-0.03740461\t0.026746953\t0.015849566\t0.19706485\t-0.13010304\t0.004694796\t-0.0026428679\t-0.103604175\t0.29220283\t-0.46811906\t0.0064552333\t-0.0006301123\t-0.0048525133\t0.0061730593\t0.28553525\t0.0094061745\t-0.41301394\t0.39285827\t-0.025231363\t0.114628844\t0.045828\t0.006954603\t-0.003949802\t0.032828487\t-0.10951767\t-0.33466563\t0.16253845\t0.15690972\t-0.023411427\t0.12947042\t-0.002718666\t0.0011430031\t-0.10861256\t0.22553498\t0.05237554\t0.024124969\t-0.25245366\t0.028124651\t0.013480132\t-0.03942803\t0.08366444\t0.16336428\t-0.17521925\t-0.016216844\t0.013972107\n",
      "-0.31197974\t0.034817938\t0.0141858375\t0.008722865\t0.018709343\t-0.022124916\t-0.023840623\t-0.10298193\t-0.022106048\t0.043764416\t-0.09935135\t-0.005029622\t0.09253458\t-0.11783157\t0.055119336\t0.09181623\t-0.021841079\t-0.109751806\t-0.2260672\t0.0177596\t-0.01741485\t-0.013948508\t0.0049671135\t-0.24170993\t0.1338663\t0.14151625\t-0.016759219\t0.18493704\t-0.05240595\t0.15742621\t-0.008789891\t0.011328456\t0.27226526\t-0.17422757\t0.20650455\t0.2513361\t-0.0022713314\t0.17446227\t0.04429826\t0.012166734\t-0.16714945\t-0.2000829\t0.0007831611\t-0.0968548\t-0.009738972\t-0.025989164\t-0.18613215\t0.21119678\t-0.04400213\t0.3825011\t0.03887449\t-0.010817808\t0.016277984\t0.16179612\t-0.2952466\t-0.084168985\t0.021944163\t0.014311661\t-0.052066784\t-0.06531654\t0.099749744\t0.38323036\t0.0072138775\t-0.02022304\t-0.032428954\t0.068149135\t0.056368176\t0.045000747\t0.0014703731\t-0.034600887\t0.24007612\t-0.15516742\t0.006994729\t-0.009676194\t-0.016809193\t0.039636716\t-0.4123986\t-0.0704088\t-0.08169603\t-0.007177061\t-0.25630015\t0.013309383\t0.014632442\t-0.033330902\t0.047921386\t0.057999264\t-0.010975075\t-0.16156755\t0.018614585\t-0.10916587\t-0.13100892\t0.10083511\t-0.5662184\t-0.10271403\t-0.02168736\t-0.13481458\n",
      "-0.061759613\t-0.122081846\t0.015430491\t-0.004011244\t-0.028179454\t0.00087230536\t0.07518131\t0.4041695\t0.01256086\t0.012449612\t-0.029039416\t0.0019929365\t-0.10985746\t0.092664935\t0.063755006\t-0.31923315\t-0.018673543\t-0.22866528\t-0.030765194\t-0.0040147286\t-0.35167876\t0.0061772065\t-0.010468273\t0.007509594\t-0.09455172\t-0.008938212\t0.026207788\t0.12432749\t-0.028027982\t-0.074372515\t-0.1161369\t0.06360165\t0.19759643\t0.24890801\t-0.5351713\t0.303324\t-0.009299819\t-0.12498701\t0.10701427\t-0.01512738\t0.18359594\t-0.09565791\t0.0026207662\t-0.09421242\t-0.030580278\t-0.0024736736\t0.49880576\t-0.2385055\t-0.30794564\t-0.052245215\t-0.0024264061\t0.018235084\t-0.029851288\t-0.022877852\t0.026445147\t-0.013364917\t-0.0030590594\t0.0041348794\t-0.0999661\t0.666203\t0.14981006\t0.35999563\t-0.002017332\t-0.003674136\t0.033167303\t0.019255787\t-0.009624499\t-0.23794839\t-0.2301584\t-0.012941215\t0.07532364\t0.13470024\t-0.020439785\t-0.017100522\t0.011618914\t0.27193618\t-0.5329632\t-0.019409742\t-0.04036351\t0.0086320015\t-0.7046333\t0.0028967406\t0.006862813\t0.15722518\t-0.028591342\t-0.23826449\t-0.014920944\t-0.17672694\t0.023100723\t-0.06288942\t-0.40452617\t-0.14171289\t0.025483191\t0.14319341\t0.005591225\t0.036677234\n",
      "-0.01955333\t-0.22504757\t0.2172293\t0.01089645\t-0.038381677\t-0.006000754\t-0.00024847084\t0.21952693\t-0.028812507\t0.024722539\t-0.24812537\t0.003582449\t-0.15779243\t0.2700391\t-0.043991636\t0.20876585\t-0.0007949997\t0.13170332\t-0.017415632\t0.015204585\t-0.28760237\t-0.00027246794\t-0.017234683\t-0.31416434\t-0.19687605\t0.09733999\t0.027140513\t0.15208255\t-0.09889165\t0.08006741\t0.1273236\t-0.092223994\t0.30489245\t-0.33610067\t-0.24574359\t0.18603942\t-0.051317394\t0.06002283\t-0.15256993\t0.010302901\t0.12882946\t0.28067315\t-0.021138221\t-0.5394279\t-0.037284367\t0.0057873814\t-0.21069248\t-0.46753457\t-0.16828337\t-0.13631755\t-0.0016251176\t0.030581085\t0.19069533\t0.04790652\t-0.25310564\t0.03377361\t0.031111138\t-0.015082991\t-0.10529634\t0.116057225\t-0.39787742\t0.24575266\t0.011982346\t0.00031476576\t-0.0008379468\t0.07528454\t0.0017537707\t-0.16734254\t-0.087245464\t-0.030899638\t-0.024308942\t-0.14925201\t0.022766626\t0.002469403\t0.07895908\t-0.044334374\t-0.36880937\t0.0030279313\t0.13201685\t-0.010528091\t0.5000417\t0.0008711993\t-0.04848196\t-0.12591052\t0.0006055265\t0.1219226\t0.029668706\t-0.1349874\t-0.0022809573\t-0.013803142\t0.17500524\t0.13342746\t0.025073595\t-0.12587833\t0.0002899746\t-0.010709521\n",
      "-0.29547915\t-0.14242506\t0.12436155\t-0.0064968504\t-0.034690034\t-0.0072949864\t-0.08060701\t0.0048410567\t-0.031232556\t-0.026225626\t-0.60148937\t0.014036744\t-0.23756479\t0.052119516\t-0.091087885\t-0.21346447\t-0.02404064\t-0.2468145\t0.38199985\t0.00070699584\t0.08898349\t0.0025472096\t-0.00078658265\t-0.013513488\t-0.015138758\t-0.28462666\t0.0112187695\t0.31828502\t-0.04116844\t-0.31693557\t0.07916892\t-0.10107453\t0.57266766\t0.2839866\t0.20883414\t0.28245816\t-0.00801125\t0.18289204\t-0.18734252\t0.019133626\t0.012114905\t-0.21392666\t0.0007965659\t0.29610792\t0.020538751\t-0.016216885\t0.25186345\t-0.085608736\t0.2943745\t0.32336426\t0.041656632\t-0.04100767\t0.26883444\t0.07743962\t-0.13399266\t0.1879361\t0.002925948\t0.020751325\t-0.15434512\t-0.26504716\t0.36145517\t0.25179157\t0.002904926\t-0.014570965\t-0.060569465\t-0.05772215\t0.0072143306\t-0.18296978\t-0.49208915\t-0.2126441\t-0.035175763\t-0.011634254\t-0.0031226904\t-0.024810577\t-0.044872094\t-0.32161716\t-0.36092845\t0.13751327\t0.039383948\t0.0010173431\t0.17883474\t0.0232739\t0.040594812\t0.17912278\t0.04988389\t-0.13347372\t0.031602733\t0.036175773\t-0.005642289\t0.17945503\t0.45357522\t-0.10590881\t-0.15544678\t0.29406682\t-0.0021575624\t-0.03135106\n",
      "0.45261705\t-0.09057537\t0.20449044\t0.009916941\t0.01914993\t-0.0012392299\t0.048300236\t-0.01882996\t0.07046668\t0.021128876\t0.08770999\t-0.019834658\t-0.40508458\t-0.041300636\t-0.022739103\t0.17988011\t-0.09742871\t-0.48664853\t0.15712658\t0.0020502184\t-0.38231143\t-0.0025210616\t0.0031201704\t0.052982856\t0.22195794\t-0.19935001\t0.025231102\t0.22560312\t-0.0135993725\t0.10785964\t-0.18559949\t-0.08902087\t0.076882966\t-0.3967096\t-0.13506098\t-0.05131036\t0.011183637\t0.2893809\t0.066860706\t-0.057090577\t-0.20777178\t0.24388666\t0.021843508\t0.22755647\t-0.3292137\t-0.011142224\t-0.014731209\t0.17986616\t-0.16527174\t0.08177896\t-0.060777277\t-0.12512974\t-0.15289883\t-0.03895732\t-0.06354716\t0.19037077\t0.14021382\t0.025023254\t0.03420743\t-0.0069831167\t0.2384669\t0.22688214\t0.02355772\t-5.8095262e-05\t0.047655113\t-0.71804017\t-0.0076349434\t0.03631463\t0.074487746\t0.011136932\t0.07760807\t-0.09169032\t-0.01929715\t-0.012751496\t0.0831029\t0.09283874\t-0.2618107\t-0.00069491175\t0.35008115\t0.008432975\t0.27643883\t-0.007458056\t-0.03291133\t0.39445037\t-0.20376314\t-0.09227889\t-0.04376392\t0.19459791\t-0.019391961\t-0.11876165\t0.016513122\t0.035796463\t-0.2435808\t0.28829876\t0.018615378\t0.042184263\n",
      "0.01692206\t0.05822289\t0.17081875\t-0.0066860016\t-0.021661552\t-0.015125271\t0.08369507\t-0.12034028\t0.036032822\t-0.02276932\t-0.33708906\t-0.018758083\t0.0694813\t-0.1275998\t0.063124515\t-0.18052524\t-0.1810803\t-0.110339604\t0.21343686\t-0.055570353\t-0.07496743\t-0.008883411\t0.009984076\t0.10738776\t-0.22949308\t-0.08222004\t-0.024741737\t-0.1531429\t-0.10669472\t0.03742955\t0.025954153\t-0.020631509\t-0.010349012\t0.16309182\t-0.05927808\t-0.04632486\t-0.054242626\t-0.53270006\t-0.048713643\t0.0617925\t0.007231806\t0.037518516\t-0.0014109849\t0.16551912\t0.061943103\t-0.0038537413\t0.08242726\t0.14563833\t0.20928678\t0.04459264\t-0.028905887\t0.0269337\t-0.028597817\t0.05908149\t-0.42681205\t-0.31119114\t-0.067049265\t-0.04839617\t0.05760656\t0.2436494\t-0.16418755\t-0.41982818\t-0.0034972571\t0.021288117\t0.0033640529\t-0.0436382\t-0.025925854\t0.9337797\t0.16619964\t0.014678953\t-0.16771363\t-0.0041872575\t-0.026666956\t-0.11313556\t-0.010065065\t0.23277548\t-0.06727177\t-0.02717452\t-0.043050904\t-0.016224088\t0.26419735\t0.011113662\t0.0076732044\t-0.025420457\t0.14227678\t0.039844148\t0.047069583\t0.003713964\t0.010561577\t-0.007818927\t-0.11994179\t0.28190023\t0.02345809\t0.11194001\t-0.0037347812\t-0.066290684\n",
      "-0.056654945\t-0.21720597\t0.24462026\t0.016178016\t-0.007424035\t0.0027286224\t-0.34798846\t0.4860479\t0.120635316\t0.038524456\t-0.06148769\t-0.023235034\t-0.028264504\t0.36467227\t-0.17091703\t0.14066856\t-0.1311371\t-0.095344655\t-0.028979521\t0.02360679\t0.15990229\t-0.0001801651\t0.0030845017\t0.5638173\t0.08292619\t0.16781072\t0.041825112\t0.11306776\t-0.14876577\t0.31583777\t-0.0388513\t-0.08663058\t-0.14669207\t0.06653984\t-0.33245805\t0.25106233\t-0.040654246\t-0.109614976\t0.4997029\t-0.007955157\t0.14663884\t-0.31989846\t0.026985208\t0.19463134\t0.041087717\t-0.004797645\t-0.041936126\t-0.14091627\t0.22780871\t-0.0550354\t-0.10581512\t-0.10355703\t-0.056845624\t-0.061731156\t0.062887095\t0.15648724\t-0.13676314\t0.013197381\t-0.009771866\t-0.34897426\t-0.17683509\t-0.36998948\t-0.015329942\t-0.0065140817\t-0.07864867\t-0.35297605\t-0.0678933\t0.15277095\t0.2780582\t-0.071732745\t0.3575497\t-0.15220502\t0.00995473\t0.014777206\t0.026429506\t-0.14792785\t-0.027806096\t0.11500082\t-0.046941392\t-0.011252753\t-0.016551549\t-0.017741948\t0.1016599\t-0.11272133\t0.10033685\t-0.32209933\t0.1662357\t-0.082427\t0.008968022\t0.023564687\t0.049261868\t-0.072423816\t-0.40377575\t-0.26882914\t0.013727055\t0.046435177\n",
      "-0.08906046\t-0.16147116\t0.0416887\t0.0030093852\t-0.022888428\t-0.004890486\t0.05095458\t0.2726577\t-0.042396355\t-0.048843738\t-0.020165095\t-0.017561177\t-0.09172733\t0.17986263\t0.093402416\t-0.020188961\t-0.057122726\t-0.19911338\t0.19869725\t-0.025817186\t0.5558446\t0.0071380036\t0.0043429537\t0.22352901\t0.5765805\t-0.27214706\t0.013089097\t-0.023412379\t-0.0019916561\t-0.031745832\t-0.018689701\t-0.07712206\t-0.011886714\t-0.116984725\t-0.4181756\t-0.094379164\t-0.0061493795\t0.761632\t-0.15210775\t-0.0049868063\t-0.10369995\t-0.07030807\t-0.00033848573\t-0.19233929\t0.29659086\t-0.013712844\t0.09773831\t-0.2917393\t-0.22790061\t-0.054618124\t0.026996061\t0.016206142\t0.021663299\t-0.037286524\t-0.35968268\t0.13041115\t0.035328813\t-0.014228182\t-0.25892884\t-0.5042106\t0.037384536\t-0.28586462\t-0.006286902\t-0.0070883203\t0.077108145\t-0.32118908\t-0.049284086\t0.53706604\t0.30495232\t0.0026145596\t0.03964016\t0.92478377\t-0.010724664\t-0.010025715\t-0.018876899\t0.016062446\t-0.5573277\t-0.053599123\t-0.28247994\t0.012947859\t0.081949614\t-0.00715147\t-0.05074658\t-0.2159044\t0.48421755\t-0.19262144\t-0.026949704\t-0.13395427\t-0.01415332\t-0.09352069\t-0.09864621\t-0.28071097\t-0.4333965\t-0.17379452\t-0.003892514\t0.12397787\n",
      "0.05627704\t0.22582008\t0.241464\t0.11974326\t0.046834033\t0.01831835\t0.11403944\t-0.39334482\t-0.08540055\t0.09914915\t-0.4300103\t-0.029399704\t0.020301636\t-0.007032904\t-0.072073266\t-0.3595974\t0.046763703\t-0.08968449\t-0.3363186\t0.037888624\t-0.04047108\t-0.014537326\t-0.053299394\t0.111801475\t-0.47305334\t-0.06135584\t-0.014798322\t-0.18481973\t0.06900282\t-0.011638662\t0.23155583\t-0.027376117\t-0.052687686\t-0.11299249\t-0.2409262\t0.032343946\t0.04118272\t0.055568974\t0.07267503\t0.0028537028\t0.04280816\t-0.059632514\t-0.0635898\t0.25677451\t0.0027191662\t0.042881504\t-0.022360867\t0.06331744\t0.1932282\t-0.11231933\t0.13550177\t0.051958337\t-0.09215251\t-0.00045330756\t-0.18609509\t-0.3240526\t0.008432165\t-0.034119662\t-0.044752896\t0.017393624\t0.23729716\t-0.30279982\t0.0616594\t0.025407562\t0.044838753\t-0.115574114\t-0.10799045\t0.14896703\t0.14144583\t-0.08434311\t-0.33135372\t0.1327231\t0.021824336\t0.024060732\t0.005381214\t0.17879373\t0.2737464\t0.10747012\t-0.06360057\t0.055408295\t0.116380475\t0.0020964348\t0.115548305\t-0.100248545\t0.01300125\t0.17846815\t-0.073857345\t-0.5638658\t0.013833792\t0.020370025\t-0.066730455\t0.1538063\t-0.088996544\t0.006828119\t0.04305671\t-0.08163626\n",
      "-0.24127856\t-0.24829072\t0.06025853\t0.07390576\t0.023473194\t-0.016504567\t-0.08750033\t-0.2835858\t-0.100716375\t0.083686054\t0.24787389\t0.030867254\t0.12236403\t0.081786394\t0.10563125\t-0.3097781\t0.010386045\t-0.53990775\t-0.11486992\t0.046512652\t-0.038384773\t-0.009400114\t0.034619268\t0.26486057\t-0.27168882\t0.0315808\t0.02679221\t0.20219071\t-0.1215899\t0.12965375\t-0.019491907\t0.2275803\t0.030635195\t-0.028641546\t-0.31311348\t-0.10510553\t0.08082741\t-0.35921216\t-0.15557814\t-0.104491115\t-0.20577595\t0.14032362\t-0.013807144\t0.0070638023\t0.26600543\t-0.05708768\t-0.15801117\t-0.13383749\t0.30235797\t-0.14481752\t0.123202115\t0.072409175\t-0.008221966\t-0.016854005\t-0.20105232\t-0.18689889\t0.033546027\t-0.0011003127\t-0.00047869128\t-0.2509794\t-0.124721915\t0.5457286\t0.0032255074\t0.0368397\t0.022336034\t0.078738056\t0.11787511\t0.04659621\t-0.1409968\t-0.030750448\t0.12061559\t0.13083501\t0.022416696\t0.0054424596\t0.009556165\t0.041157484\t0.15621358\t0.0730348\t-0.05472222\t-0.005728422\t0.3274409\t0.020347783\t-0.022446001\t0.08909389\t-0.35063586\t-0.063412294\t-0.060878463\t0.2424826\t0.109724276\t0.061053596\t-0.11159816\t0.06219603\t-0.004402801\t-0.17128918\t-0.014290452\t0.05994987\n",
      "-0.3126326\t-0.070210315\t-0.04865248\t-0.03132187\t0.06654618\t0.034866475\t0.048934005\t0.19685438\t-0.06390544\t0.17757772\t0.3912196\t0.033407293\t0.062053297\t-0.08316116\t0.10892602\t-0.2858727\t0.14415272\t-0.14444117\t0.027224815\t-0.054597337\t0.26668906\t-0.009556494\t0.05898995\t0.15930626\t-0.4289476\t0.25897503\t0.114717826\t0.06970409\t0.27375126\t-0.1768794\t0.1869292\t0.07708132\t-0.1659362\t0.043361794\t0.08613883\t0.17632687\t-0.026764853\t-0.20233236\t-0.063838705\t-0.10327381\t0.038916223\t0.41357666\t-0.025903365\t0.06158501\t0.0056751315\t-0.05189144\t0.2817876\t-0.18690847\t0.014955687\t0.3457881\t-0.10733739\t-0.061439175\t-0.05403362\t-0.010898148\t-0.18284105\t0.08034368\t-0.08947199\t-0.0155202625\t0.029546427\t-0.23028153\t0.02991994\t-0.13119778\t0.06485677\t-0.043973293\t0.054017525\t-0.18141598\t-0.03857115\t0.24913692\t-0.04966421\t0.088340186\t0.22524908\t0.03436164\t0.067967296\t0.05636017\t-0.07430339\t0.026094364\t-0.09024942\t-0.17816745\t0.18411016\t-0.021963725\t0.2699592\t-0.0031261775\t-0.17593\t0.30894998\t-0.071211964\t-0.09922509\t-0.00072799873\t-0.74467623\t-0.051930808\t-0.021316048\t-0.031304765\t0.38251334\t0.03268017\t-0.07226264\t0.0075902\t-0.19614753\n",
      "0.35223588\t0.23569925\t0.06512764\t0.03745789\t0.025284657\t0.12656522\t0.023190089\t0.27862552\t-0.007409726\t-0.11609493\t0.44215968\t-0.008553136\t-0.057559963\t0.06374865\t-0.14493495\t0.12918518\t0.2865967\t-0.39063668\t0.21086225\t-0.13843966\t-0.12886162\t-0.04957773\t-0.08220718\t0.07138325\t-0.35304832\t0.02470918\t0.27056932\t-0.35045022\t-0.08289233\t0.038144108\t-0.059015557\t0.047664747\t0.27180272\t0.13268557\t0.1240136\t-0.17587158\t-0.009792304\t-0.32150733\t-0.010615956\t0.13215595\t-0.02763668\t-0.037704006\t-0.091031566\t-0.19323558\t0.13022976\t-0.07398733\t-0.1293742\t0.024478478\t0.5456412\t0.12453673\t0.03205559\t-0.09558565\t-0.057229675\t0.073060416\t-0.13649245\t0.3505733\t0.034347635\t-0.006116583\t0.060833912\t-0.1643436\t0.25176007\t0.0532125\t-0.022027247\t-0.06760067\t0.05212094\t0.11814243\t0.045129966\t-0.14320458\t-0.051405128\t0.04821796\t-0.09765248\t0.22509022\t0.003745468\t0.09369753\t0.05580482\t0.09106731\t0.0042579984\t-0.021416226\t-0.3220754\t0.030494142\t0.16774617\t0.052365683\t-0.079721056\t-0.0008036052\t0.05009117\t-0.06781439\t0.06174519\t-0.4173617\t0.11442306\t-0.044582915\t-0.19389112\t0.12560464\t-0.04167356\t0.02199036\t0.01211766\t0.020023713\n",
      "-0.3878781\t-0.26699993\t0.058049187\t-0.06995368\t-0.09223218\t-0.036916364\t-0.03039679\t-0.3166878\t0.009064821\t-0.0034132095\t0.27002352\t-0.055750284\t0.23791179\t-0.0021640144\t-0.09729267\t-0.00083693344\t0.1849551\t-0.10579843\t0.10315802\t0.0885904\t-0.07237611\t-0.0053267186\t-0.043511935\t0.24026789\t0.14543639\t-0.03509311\t0.07435052\t0.021290956\t0.03626609\t0.009350453\t-0.16845405\t-0.074446976\t0.0027454519\t0.019222543\t0.33418277\t0.0492626\t0.07449688\t-0.14189556\t0.03447474\t-0.1296055\t0.1451519\t-0.02394221\t-0.027780013\t-0.087543495\t0.040003043\t0.1491883\t-0.058436465\t-0.13848007\t0.465869\t0.09948121\t-0.09787898\t-0.02247466\t-0.023708431\t0.12655962\t-0.5585195\t0.3510017\t0.16512166\t-0.0023984911\t0.14866811\t0.47083378\t-0.03923659\t-0.0752289\t0.03828885\t0.07098519\t0.07173893\t-0.28894567\t-0.034909584\t-0.27040088\t0.16470778\t0.049889907\t-0.26290146\t0.2866394\t0.11614491\t0.08814643\t-0.15459031\t0.14093511\t0.2320154\t-0.0511024\t-0.078742616\t0.007398181\t0.15978225\t-0.02596403\t-0.18984477\t-0.021184845\t-0.3163036\t-0.1602364\t-0.058981225\t-0.47941574\t0.013948273\t-0.049868416\t-0.11403547\t0.10011097\t0.08791607\t0.037446316\t-0.11947992\t0.09126746\n",
      "-0.051527057\t0.083605185\t-0.0054625594\t0.0048383567\t0.012547359\t-0.112323724\t0.02280396\t0.09510828\t0.110430695\t-0.03498212\t-0.007944714\t-0.037006933\t0.10131352\t-0.014794458\t-0.07559098\t-0.05668288\t-0.18894714\t-0.12442584\t-0.11321069\t-0.055617344\t-0.09515062\t0.022340778\t0.0671352\t0.098715045\t-0.26021966\t0.015259339\t0.18058495\t0.24511386\t0.071445286\t0.020090733\t-0.2171724\t-0.08897637\t0.06937966\t0.26554167\t-0.0022464928\t-0.13031657\t-0.056557983\t-0.27811724\t-0.093744606\t0.0006652761\t-0.06754515\t-0.16422482\t0.059698626\t-0.29301426\t0.09880071\t0.039866593\t-0.095907256\t0.10131794\t0.034321256\t0.050650652\t-0.13206597\t0.0024593398\t-0.1308294\t-0.06151322\t-0.37917116\t-0.14555511\t-0.0075110644\t0.017026937\t0.0032945613\t-0.45680824\t0.33183396\t-0.078216255\t-0.0007113179\t0.0896442\t0.037809458\t-0.17290743\t0.08566807\t-0.62266964\t0.36634725\t0.0776054\t0.036494456\t0.21149476\t0.062384173\t0.099078335\t0.061888564\t0.024849499\t-0.12274676\t0.1532819\t-0.05991563\t-0.057850555\t0.16552302\t0.031209458\t0.0030461468\t-0.08400826\t-0.06470938\t-0.09543271\t-0.07762185\t-0.13531508\t-0.018055301\t-0.056129385\t-0.05949028\t0.5182169\t0.34211642\t0.026346415\t-0.10108581\t-0.14498264\n",
      "0.16462791\t0.16746098\t0.08236743\t-0.18495704\t0.01911142\t0.038858965\t-0.050068233\t-0.25956148\t-0.10987065\t-0.08303642\t-0.43460932\t-0.03570715\t0.051306978\t-0.045105617\t0.08590386\t-0.23056927\t0.104010746\t-0.19349729\t-0.2693864\t0.00079095305\t-0.03496436\t-0.041494533\t0.06833891\t0.25329956\t-0.050407007\t-0.06675623\t0.016019695\t0.0530942\t0.117574185\t0.3975331\t0.18174638\t0.16396204\t-0.26692605\t0.29412445\t0.040988334\t0.041105203\t0.014590745\t-0.38897774\t0.026293557\t-0.030060358\t0.024390245\t0.0240537\t-0.005351175\t-0.19615756\t-0.06973898\t0.12736763\t0.034152232\t0.022760322\t-0.16706334\t-0.042515934\t0.11343599\t-0.018930946\t-0.064592175\t-0.005886678\t-0.1119594\t0.3830174\t0.06898213\t-0.03038824\t-0.01690571\t0.30867857\t0.46561587\t-0.17210059\t-0.09804666\t-0.09277514\t0.09807136\t0.09329337\t0.20806117\t0.46090427\t-0.1461986\t-0.05164638\t0.23161511\t0.34601215\t0.038359955\t-0.034453474\t-0.056758124\t0.16472743\t0.4270797\t0.0782046\t0.04310863\t0.011793317\t0.47008958\t-0.14497058\t0.0018372777\t-0.115753084\t0.064346425\t0.16938156\t-0.06528123\t-0.26491165\t-0.081054345\t-0.09560867\t0.028082352\t0.34035102\t-0.04799219\t0.11325914\t0.014073298\t-0.080603085\n",
      "0.08652766\t-0.39055791\t0.005901253\t-0.08694631\t0.13468572\t0.03239003\t-0.02805933\t-0.1619909\t0.083798364\t0.038011134\t0.2928028\t-0.11319572\t0.1157053\t-0.07367327\t-0.11674586\t-0.021238863\t0.06156595\t-0.42078292\t-0.04264714\t0.008873979\t0.13839468\t-0.014691604\t-0.040983938\t-0.0957499\t-0.08991451\t0.078777716\t0.0034232032\t-0.11210909\t0.11108986\t0.2019077\t-0.015593931\t0.010148359\t0.1866549\t0.095131986\t-0.27996594\t-0.18439728\t0.078640364\t-0.1599579\t-0.2063244\t-0.05791412\t0.04818456\t-0.17434826\t-0.0046780324\t-0.2956601\t0.13635594\t0.030754177\t-0.2281832\t0.110590585\t0.3602513\t0.055550907\t-0.098578155\t-0.09671815\t0.0037202293\t0.09416378\t0.032767393\t-0.06656333\t-0.039397653\t0.090717725\t-0.37008438\t0.04268903\t0.117432244\t-0.06323881\t0.07967258\t0.006330191\t-0.0093627805\t-0.4657356\t0.0093479585\t0.1860867\t-0.1503099\t-0.066925995\t0.09297484\t-0.07011409\t-0.017834112\t-0.12006363\t0.091708794\t0.059344657\t-0.0905084\t-0.04901036\t-0.036334228\t0.090041526\t-0.25923744\t-0.00085980154\t0.07478794\t0.016169487\t0.12020246\t0.16946049\t-0.057334192\t-0.3757683\t0.07025268\t0.16869228\t0.20338573\t0.37620944\t0.45607963\t-0.051206756\t-0.02356027\t0.09152537\n",
      "0.12692745\t-0.47852126\t-0.08467758\t-0.022317506\t-0.16660433\t-0.0703846\t0.024954563\t-0.16664179\t-0.12863395\t0.005147639\t0.3052958\t0.19711307\t0.096604146\t0.03198639\t0.03348229\t-0.2642531\t0.040352046\t-0.03413074\t-0.5630334\t-0.06831751\t-0.1405234\t-0.023797428\t-0.038195387\t0.20050412\t0.08178988\t-0.17780305\t0.053510014\t-0.2119069\t0.11006562\t0.14307025\t-0.2315975\t0.013208276\t-0.0115218535\t0.15720038\t0.14326395\t0.1463991\t0.17797221\t-0.27194595\t-0.108624175\t0.04390043\t-0.09582961\t0.13361786\t0.01677009\t-0.2564737\t-0.16374843\t0.0676541\t0.26507112\t0.13372198\t0.31050977\t-0.26225117\t0.019970004\t-0.12073854\t0.046732306\t-0.024933416\t-0.10764273\t-0.09747851\t-0.023741595\t-0.029113848\t0.011074449\t-0.2682784\t0.03145637\t-0.053316176\t0.024233382\t0.06229564\t-0.010819875\t0.052638955\t-0.039035153\t0.07768457\t-0.18482758\t0.123447895\t-0.17290562\t-0.08623247\t-0.010391287\t0.06416339\t0.133576\t-0.0020169434\t-0.5224862\t0.21968322\t-0.24965566\t-0.10071099\t0.10158561\t0.036959752\t0.022054711\t-0.0011847356\t-0.09060268\t-0.036087863\t-0.017455777\t-0.33037636\t-0.16921128\t0.14087993\t0.04789498\t0.46407112\t-0.16579406\t-0.20432584\t0.033522353\t0.11947806\n",
      "0.031021224\t0.24817309\t0.056879234\t0.019479422\t0.06947817\t-0.012691677\t0.1439498\t-0.23564596\t-0.15497296\t0.014908998\t0.2100712\t0.07562948\t0.07049525\t0.07540542\t-0.09312089\t-0.32401305\t-0.31928432\t-0.17781532\t-0.6477292\t0.18201311\t-0.021280747\t0.004780959\t0.03481927\t-0.01754843\t-0.16903095\t-0.057870068\t-0.1530075\t0.044157524\t-0.17929773\t-0.18843311\t-0.09769207\t-0.091339074\t0.14896204\t-0.090677656\t0.024404244\t0.04836101\t0.07150749\t-0.37972945\t0.13494207\t0.16375571\t0.007359947\t0.22942479\t0.05335423\t-0.01751266\t0.014273136\t-0.079529636\t-0.11239347\t0.040443793\t-0.1719121\t0.14440252\t0.058684852\t-0.092006944\t0.17127214\t0.07693352\t-0.17085457\t0.4456744\t-0.086984865\t0.0040759873\t-0.041125104\t-0.0653714\t-0.0722409\t-0.7586776\t-0.16161913\t-0.056133986\t-0.03735155\t-0.31766397\t0.13971505\t0.15796588\t-0.34245187\t-0.14596514\t-0.3670548\t0.21119744\t0.043269176\t-0.019159596\t-0.005887493\t-0.0006365123\t0.33026847\t0.12706861\t-0.25792086\t-0.019925456\t-0.02024626\t-0.015515993\t-0.14204055\t0.0021393038\t0.038795993\t-0.108372346\t-0.06991556\t-0.0025855522\t0.044808265\t0.03248632\t-0.17283328\t0.18136902\t0.08811671\t-0.022232868\t-0.028847288\t-0.16905786\n",
      "-0.3189844\t0.030731749\t0.05877463\t-0.16757862\t-0.05775658\t-0.036497205\t0.080455266\t-0.2712354\t0.23940948\t0.09719566\t-0.027799593\t-0.0068201018\t0.1655407\t-0.15171525\t-0.023124574\t0.2704427\t-0.08830668\t-0.20414728\t-0.30207562\t0.07830901\t-0.25387058\t-0.012832876\t-0.15748036\t0.18825887\t0.018776624\t0.37645984\t0.04491076\t-0.24961308\t-0.013548061\t-0.2811549\t-0.03056293\t0.08880647\t-0.04376103\t0.003687281\t0.012260931\t-0.26365277\t0.14352807\t-0.33590907\t-0.035019483\t0.06147166\t0.09476\t0.0015053888\t0.062493518\t-0.21347006\t-0.06116788\t-0.03113633\t-0.12079473\t-0.1007449\t0.32020524\t7.4731404e-05\t-0.05025197\t0.060833205\t-0.12353797\t-0.072438024\t0.0432374\t-0.38978273\t0.22508961\t0.011083829\t-0.061689455\t-0.32547024\t-0.08417253\t-0.09040624\t-0.064581454\t-0.111284204\t-0.035245884\t-0.31312913\t-0.044117883\t0.16844188\t-0.5356891\t0.12205845\t0.27568132\t0.4349199\t0.052529044\t0.050721183\t-0.028293118\t-0.00770595\t-0.49412113\t0.003915706\t0.12764715\t-0.053388927\t0.01908533\t-0.019231044\t0.15728146\t0.044873968\t-0.1224406\t-0.12028454\t0.123649485\t-0.43544132\t0.04245646\t0.065929554\t-0.035847053\t-0.0031723932\t0.0018153455\t0.13186395\t0.13323084\t-0.07737052\n",
      "0.1095786\t-0.45395955\t0.09247102\t0.048700403\t0.014398855\t-0.009130581\t0.061781686\t-0.18288808\t0.054102737\t0.013639104\t0.20430388\t-0.020880772\t-0.16856122\t0.3274191\t-0.009078322\t0.29641515\t-0.058150005\t-0.3885289\t-0.49459872\t-0.03992089\t-0.064313844\t-0.0043834774\t0.13850959\t0.28021118\t-0.202393\t0.23329799\t-0.11302236\t-0.057812616\t-0.039052624\t0.07919826\t-0.2774029\t0.015525061\t0.15015793\t0.15811303\t0.38271394\t-0.39535183\t-0.11286079\t0.21901567\t-0.075468026\t-0.010635355\t0.12648213\t-0.035762258\t-0.0011620778\t-0.1594512\t-0.027075937\t-0.01460081\t0.26431766\t-0.18850984\t0.015852189\t0.2519099\t0.125492\t-0.06631305\t-0.011553742\t0.06922146\t-0.33302587\t-0.6657016\t0.06935355\t-0.016512528\t-0.102089114\t-0.2087821\t0.10355373\t-0.0054475027\t9.433701e-05\t-0.020402737\t0.101868756\t0.14227214\t0.00951343\t0.2524512\t-0.15733168\t-0.122417875\t0.031118631\t0.07316639\t-0.072098345\t-0.076584235\t-0.0035127227\t-0.10785648\t0.3765955\t-0.14959851\t-0.09039188\t-0.0023853888\t-0.02522026\t-0.038846854\t0.039106827\t-0.044163115\t-0.34798577\t-0.27108678\t0.09388156\t-0.09268647\t-0.051996283\t0.084818736\t-0.1882209\t0.08823159\t0.21488015\t-0.030146094\t-0.017505886\t0.0043771607\n",
      "-0.34602222\t-0.05880536\t0.08623038\t0.0019571986\t-0.04929232\t0.04495577\t0.0299187\t0.031011324\t-0.055279594\t0.18096486\t0.43063173\t-0.08056655\t-0.13968429\t0.12322007\t-0.016745195\t0.16423199\t-0.06566462\t-0.24609855\t-0.60682046\t0.10037387\t0.14810303\t0.0144417025\t-0.014315663\t-0.013265372\t-0.044916485\t0.06737932\t0.09295022\t-0.26394767\t-0.19539283\t-0.19454052\t-0.3341336\t0.056028683\t0.27311072\t-0.016925735\t-0.15459526\t-0.13857423\t-0.03557452\t-0.03395637\t-0.033185318\t0.01449129\t-0.044901095\t-0.0248149\t0.014755512\t-0.16294281\t-0.004309544\t0.05744927\t0.29291865\t0.04658341\t0.32608148\t0.2516462\t-0.02257615\t0.025278645\t-0.03426923\t-0.063605145\t0.178156\t-0.073114015\t0.034952402\t0.010217232\t0.1200718\t0.27680886\t0.40426672\t0.055216327\t0.037443828\t-0.09274716\t-0.08697465\t-0.07496696\t0.0060789725\t0.1856965\t0.28733438\t-0.1479011\t0.1516303\t0.19752651\t-0.07957475\t-0.08086676\t-0.005247619\t-0.16609904\t-0.04201981\t0.00032966255\t-0.1508826\t0.01910823\t0.4211636\t0.075615734\t0.12983163\t-0.089287564\t-0.26490235\t-0.18777454\t-0.040921617\t0.096972995\t-0.04260056\t-0.05090201\t0.13111013\t0.36919853\t0.13820255\t-0.1599181\t-0.2215211\t-0.0121681765\n",
      "-0.035187628\t0.098427564\t0.08324111\t-0.0604899\t0.08838261\t0.13202418\t0.024897221\t0.39145005\t0.035278123\t0.026238555\t0.20742525\t0.009801693\t-0.0806364\t-0.078149624\t0.055828627\t-0.19960716\t0.1921316\t-0.32152227\t-0.6434152\t-0.045610905\t-0.22014885\t-0.0026313877\t-0.096998684\t0.039266706\t0.21892247\t0.08889106\t-0.11358384\t0.5363149\t0.198903\t-0.15798382\t0.003697504\t-0.098120354\t-0.041718494\t-0.1261157\t0.13183917\t-0.24168405\t-0.14782213\t-0.27344418\t-0.10954044\t-0.08487505\t-0.054655667\t-0.08121129\t0.04081026\t0.15969427\t-0.081478916\t-0.2475772\t0.06335931\t-0.4183028\t0.5979867\t-0.08415446\t-0.034400187\t0.105855346\t0.0061323973\t-0.05126254\t-0.30119467\t-0.06599778\t0.15456136\t-0.013810761\t0.14240472\t0.13244905\t0.0712722\t0.16254967\t0.078732476\t0.00894854\t-0.13679112\t-0.09132956\t0.14264208\t0.21942146\t0.05863956\t-0.012232378\t0.095589735\t0.02783515\t-0.04351035\t0.06799228\t0.077532075\t-0.06552054\t0.09975924\t0.16941333\t-0.22056563\t-0.010461518\t-0.061711144\t0.030160183\t-0.07131363\t-0.15765548\t0.2336939\t0.022510836\t-0.0806884\t-0.20877334\t-0.008255553\t0.061727945\t-0.012461966\t0.36488703\t0.10605631\t0.11646177\t0.036306925\t0.086818576\n",
      "-0.1425919\t-0.030883567\t-0.10006852\t0.08883151\t-0.07223869\t-0.12560366\t0.022886077\t-0.3563693\t0.0036359949\t0.021977603\t0.38315225\t0.076359406\t-0.13977501\t0.05699276\t-0.0041304566\t-0.059705902\t-0.23105209\t-0.19003418\t0.08380405\t0.012031331\t-0.310215\t-0.01609689\t-0.059598476\t-0.1435005\t0.00941261\t0.27769983\t0.03316941\t0.29351196\t-0.10069673\t-0.0040853065\t-0.32814315\t0.033498533\t0.10372704\t0.17485939\t-0.007639137\t-0.32468516\t0.0036416338\t-0.08606428\t0.17775641\t-0.038714293\t-0.015995702\t0.32753286\t-0.06775425\t-0.46458575\t0.04063373\t0.08362224\t0.5021631\t-0.122841604\t0.43723774\t0.16442601\t-0.02269511\t-0.006535922\t0.18533719\t-0.020776931\t-0.10445163\t-0.34266993\t-0.043767028\t-0.008485248\t0.089375615\t-0.06309638\t0.45590377\t-0.073568024\t0.047095336\t0.12751113\t-0.1347661\t-0.37953115\t0.1327785\t-0.039366495\t-0.02593417\t0.0056660846\t-0.00012535116\t0.04017172\t0.049203668\t-0.15566194\t-0.008794343\t-0.14390293\t0.16302265\t-0.023378724\t-0.16892916\t-0.04314314\t0.22804764\t-0.043335263\t0.0057108114\t-0.0417785\t0.29122832\t-0.05019139\t-0.06624692\t-0.23599534\t0.1573163\t0.008127015\t0.00026119413\t-0.1530659\t0.010501461\t-0.49107867\t0.24235219\t-0.03384667\n",
      "-0.11964457\t-0.40508983\t-0.09502622\t0.16981284\t0.010230354\t-0.020641416\t-0.07381039\t-0.05268211\t-0.076806866\t-0.017210394\t0.25831142\t-0.17699634\t-0.01884187\t-0.2200288\t0.0926135\t0.10849413\t0.20243937\t-0.21428385\t-0.32563004\t-0.036586337\t0.25650117\t-0.012783239\t-0.19797824\t-0.11335656\t-0.14424884\t0.26217723\t-0.13975228\t0.3132651\t-0.0033176946\t0.062742315\t-0.2063015\t0.01033935\t0.62831676\t0.019164275\t-0.047819454\t-0.050990373\t-0.045359064\t-0.37632537\t-0.033139285\t-0.07620985\t-0.2537065\t-0.23681517\t0.08731647\t0.061214503\t-0.13700636\t0.12045231\t0.20026304\t-0.0037620524\t-0.017159663\t-0.43374175\t0.04554905\t-0.104976535\t-0.06079627\t0.05675623\t-0.042337235\t-0.28528455\t-0.054070834\t-0.022916837\t0.054806806\t-0.08528401\t0.04715939\t-0.35358757\t-0.06462238\t-0.08689104\t-0.14282925\t-0.040716063\t-0.0019202677\t0.0464973\t-0.11526023\t0.16325244\t0.1169898\t0.27748752\t0.058315415\t0.016826503\t-0.02474087\t-0.0074846684\t0.026174756\t0.13621826\t0.028423643\t0.079833135\t0.5534376\t-0.032083303\t0.029343713\t0.10288432\t0.022235552\t-0.1720392\t0.042123333\t-0.48780215\t-0.08950594\t-0.03434403\t-0.17858791\t-0.018505638\t0.10430922\t0.13482095\t0.012578045\t0.07193285\n",
      "-0.16790678\t-0.18936111\t0.03591206\t0.20018692\t-0.12154439\t-0.028486986\t0.031300444\t0.07250229\t0.22980493\t-0.20342658\t-0.09989109\t0.060876515\t0.11430752\t0.31727913\t-0.030718088\t0.15224351\t0.06978096\t-0.28495365\t-0.47276428\t0.030845998\t-0.005314887\t0.011167564\t-0.093114324\t-0.10631724\t0.04194404\t-0.009786188\t-0.09281094\t0.11975386\t0.19446184\t0.19772887\t0.011267789\t0.17407644\t-0.16620788\t-0.0009362208\t-0.24633954\t0.12477498\t0.039721407\t0.054796513\t-0.04581223\t0.028663076\t0.22219613\t0.31997398\t-0.02385458\t0.21398608\t-0.09050023\t-0.023012973\t-0.10115346\t0.3386452\t0.5000578\t0.26130363\t0.03855349\t-0.07330172\t-0.09950119\t-0.09653015\t-0.28636888\t-0.38900945\t-0.0017036373\t-0.019335572\t-0.10751561\t-0.053272076\t0.065216504\t-0.10010598\t-0.06486834\t0.05603603\t-0.08732911\t-0.09127554\t0.05309761\t-0.17380993\t-0.52222085\t0.105961956\t0.13815878\t0.20903847\t-0.008522237\t-0.21015318\t-0.3330438\t-0.080736816\t-0.17492457\t-0.114182845\t-0.20529191\t-0.0047709546\t0.38845542\t0.115273565\t0.05317124\t0.12092088\t0.2629301\t-0.09363092\t-0.12237641\t-0.29058167\t0.09270932\t0.13822782\t-0.37033543\t0.10398501\t0.22073166\t-0.14056534\t-0.17131698\t0.031262964\n",
      "0.10224256\t0.23123308\t0.3861333\t0.0044740457\t0.053218756\t0.02502553\t-0.041775994\t0.1899437\t0.1286571\t0.018379357\t0.023458226\t0.023439009\t-0.17920983\t0.076392785\t-0.39665058\t-0.16456912\t0.029093625\t0.10158304\t-0.0045705624\t-0.03789055\t0.423421\t-0.008881774\t0.014671392\t0.21484765\t0.21379137\t0.16860087\t-0.21690352\t0.0034595118\t-0.03325907\t0.1932483\t-0.098232836\t0.002173928\t-0.06479983\t0.14904906\t-0.34510237\t0.22776921\t0.0124431765\t-0.017033426\t-0.055802092\t0.060455125\t0.11786825\t-0.48441917\t-0.0423733\t0.026451403\t-0.14316012\t0.015980672\t0.08792334\t-0.10841103\t0.21576825\t0.04939449\t0.18840437\t0.10332446\t-0.10964116\t-0.16970704\t-0.10498559\t0.26804602\t0.01146376\t-0.0012881238\t0.091397755\t-0.36288163\t-0.25806072\t-0.31400207\t-0.02395237\t-0.0054385434\t-0.018406486\t-0.17013197\t0.24299508\t0.09180546\t0.035927437\t0.17310934\t0.2078326\t-0.15817577\t0.056467902\t0.0015307431\t0.17144147\t0.049840312\t-0.13676892\t-0.2528662\t0.5105463\t0.016629275\t-0.05483367\t0.037131812\t0.086543866\t-0.20214625\t0.1515032\t-0.85418385\t-0.09915386\t0.11313926\t-0.00784249\t0.17423382\t0.13815516\t-0.1489069\t-0.27554667\t-0.5661852\t-0.010721247\t0.19054732\n",
      "-0.19052562\t0.099111184\t-0.13359456\t-0.0069123595\t-0.05579288\t-0.07968469\t-0.04832822\t0.054035794\t-0.031586867\t0.03614684\t0.013948122\t0.08142286\t-0.033182457\t0.019191498\t-0.12128152\t-0.26693735\t0.18251416\t-0.31634218\t-0.407207\t-0.02664449\t0.0250741\t0.05538424\t-0.13811328\t0.3433948\t-0.035665106\t-0.28995183\t-0.029091675\t-0.2700941\t-0.17901161\t-0.12644967\t0.19182935\t0.20099434\t0.076961584\t0.20177686\t-0.1400369\t-0.19409856\t-0.17651232\t-0.5230349\t0.08359487\t-0.04820059\t0.0777527\t0.27837703\t0.21483044\t-0.06476437\t-0.04369893\t-0.086388856\t-0.20315635\t0.04157073\t-0.04070782\t-0.008969608\t0.047988433\t0.013811585\t-0.18023837\t0.10591698\t-0.6457576\t-0.09365279\t0.018726109\t0.016332395\t-0.0848928\t0.27474055\t0.4307299\t-0.6473215\t0.11947296\t-0.20043457\t0.17976364\t0.12014406\t0.08655473\t0.052802347\t-0.027261853\t0.05899781\t-0.11223718\t-0.019594764\t-0.111846305\t0.03141032\t0.015217286\t0.10666955\t0.27533293\t-0.07597066\t0.30309516\t-0.080590256\t0.21220294\t0.0017837496\t-0.034278017\t-0.026218228\t0.35981166\t0.22663237\t-0.15326828\t-0.15836269\t-0.19689068\t-0.16147465\t0.20154858\t-0.13346112\t-0.18712376\t0.13119319\t0.025499964\t0.031104451\n",
      "0.010231284\t0.12832262\t-0.14609045\t0.069381975\t-0.17177996\t-0.01697412\t-0.091835245\t-0.011068696\t0.15265457\t0.11602859\t-0.08147311\t-0.022041477\t0.10543066\t-0.1936996\t-0.013954548\t0.26768497\t-0.21105988\t-0.53077203\t-0.16375008\t0.14212328\t0.09370401\t0.005849655\t0.24976361\t-0.057158064\t-0.2724731\t0.07291844\t-0.14542508\t0.23224065\t0.083152674\t-0.48058617\t0.19077119\t0.074663356\t-0.27743796\t0.21493013\t-0.19102477\t0.06408923\t0.021898087\t-0.06029915\t0.006537951\t-0.11038377\t0.003715378\t-0.42823535\t-0.07943603\t-0.2058747\t-0.06343399\t-0.1584429\t0.112465635\t0.067078725\t0.145079\t-0.43199673\t0.075089164\t-0.1707446\t-0.15773599\t0.059600167\t-0.50112164\t0.37236896\t-0.059739262\t0.02874918\t0.035040498\t0.040891703\t0.36917645\t-0.2499782\t-0.048201874\t0.03298266\t0.014455465\t0.09040962\t-0.14719874\t0.33811224\t-0.29405177\t0.005387864\t-0.24409911\t0.03134403\t-0.15166621\t0.0074952315\t-0.07115958\t0.116532475\t0.061935008\t0.07779852\t0.21568222\t0.07084359\t0.21186937\t0.060578026\t-0.20591153\t-0.09670179\t-0.118789025\t0.23655239\t-0.017813325\t-0.2830816\t0.104351245\t-0.13575795\t0.01689835\t0.24603993\t-0.14451824\t-0.1677347\t-0.03045635\t0.050782815\n",
      "0.08866599\t0.1811031\t0.1425786\t-0.08648244\t-0.14873824\t-0.040188845\t-0.042651445\t-0.1950348\t-0.014369875\t-0.16441464\t0.2885007\t-0.03275722\t-0.035974625\t-0.12448017\t0.14421216\t-0.04097132\t0.16835248\t-0.75309587\t-0.13159941\t0.027340828\t-0.10977463\t-0.06861528\t0.011949197\t0.21608713\t0.30310255\t0.013414504\t0.071339756\t0.14061359\t0.0047722566\t-0.24702738\t0.037384436\t0.019046778\t0.24830803\t0.44646722\t-0.116919525\t0.13185051\t-0.022785652\t0.032040197\t-0.11708318\t-0.13227218\t0.12322697\t0.18111591\t0.024756568\t-0.13098489\t-0.029039025\t-0.0068400563\t0.009740383\t0.11991888\t0.06611622\t0.26366577\t0.060124755\t0.12461769\t-0.1261426\t0.12540478\t-0.0044994694\t-0.18176743\t-0.097764716\t0.02991744\t-0.0775206\t0.20731546\t-0.42220727\t-0.2565225\t0.016076773\t0.0380316\t-0.047703877\t0.027794048\t-0.082645774\t-0.26617688\t0.31022984\t-0.011345292\t0.089726515\t0.122446954\t-0.16994345\t-0.021986011\t-0.113541506\t-0.1506358\t-0.11297718\t0.21755591\t0.032662313\t0.19099653\t0.3437024\t0.03274571\t0.030763723\t0.09289556\t0.026405575\t-0.10926029\t0.06366522\t-0.46958998\t-0.18913673\t0.011269817\t-0.09193879\t0.29345542\t0.19116127\t-0.28439713\t0.22434802\t-0.04240087\n",
      "-0.3955692\t0.15983199\t-0.24753909\t-0.009937028\t0.0158618\t0.014410891\t0.007680651\t-0.20113729\t0.01722076\t-0.07789576\t0.0050882394\t-0.0068692667\t0.17100619\t-0.08983133\t0.013497634\t0.06207023\t0.0014264883\t-0.40034458\t-0.4372704\t-0.027180266\t0.017377364\t-0.03210358\t0.005290886\t-0.07041112\t0.10866342\t0.289464\t0.00952688\t0.03107982\t0.07313951\t0.2763862\t0.088711925\t0.15337543\t0.40016046\t-0.07011155\t0.07334457\t0.2905379\t-0.0054988987\t0.049210887\t0.01577927\t0.013184531\t-0.16585095\t-0.18507336\t0.00061121414\t-0.16838852\t0.008079135\t0.011490976\t-0.023770016\t-0.095433995\t0.2914558\t0.50077635\t-0.088271335\t-0.0033575317\t0.20905012\t-0.044897642\t-0.2726394\t-0.15692522\t0.020367285\t0.040768307\t-0.103817455\t-0.18655515\t0.2837479\t0.14935865\t-0.0025631858\t0.021674158\t0.048409406\t-0.100321196\t-0.06924437\t0.18682446\t-0.071428165\t0.042308528\t-0.14274108\t-0.10623497\t-0.009390936\t0.015190404\t0.05026927\t-0.053253703\t-0.28527427\t0.1364515\t0.17685826\t-0.026953313\t0.08892166\t-0.019261396\t0.026553834\t-0.06967706\t-0.03705431\t0.032997806\t0.03564492\t-0.035736322\t-0.02623431\t0.0035281747\t-0.5110409\t0.31573725\t-0.23366205\t-0.073834926\t0.017908538\t0.14149013\n",
      "-0.23224854\t-0.29255974\t-0.2068053\t0.060316436\t0.20179865\t0.066802695\t0.4003389\t0.4154007\t-0.015893942\t-0.034926403\t0.096765675\t-0.0067535215\t-0.37336475\t-0.12362988\t-0.06248164\t-0.3176096\t-0.011272207\t-0.521268\t-0.13162175\t0.019229818\t-0.50902784\t-0.02751569\t0.14444731\t0.14295344\t-0.15808362\t0.027237052\t-0.2160442\t0.29736775\t-0.046274364\t0.037382524\t-0.0017559502\t0.3989586\t0.25519612\t0.25241607\t-0.5449439\t0.32386974\t-0.07532296\t-0.26699394\t0.17250827\t0.0921723\t0.41915348\t-0.15998949\t-0.040913243\t-0.18896659\t0.0061530666\t0.090490386\t0.2544627\t-0.02677929\t0.056862157\t0.01913238\t-0.14485803\t0.30133358\t-0.085289516\t-0.076994784\t-0.17639874\t-0.1796742\t-0.08596774\t0.010248633\t-0.021599414\t0.39113134\t0.19125581\t0.04954788\t0.026949227\t0.06260568\t-0.22281943\t-0.1867397\t-0.04333304\t0.00022381738\t-0.2755801\t0.08365132\t0.07142379\t0.35642377\t0.05319995\t0.021744177\t0.0006002933\t0.071037225\t-0.4043332\t0.019514019\t-0.31511483\t0.045828093\t-0.3391565\t-0.0029259608\t-0.15740986\t0.108742245\t-0.2966651\t-0.21426634\t0.007342644\t-0.37900597\t-0.2160249\t-0.13208912\t-0.22671644\t-0.019422686\t0.05289714\t-0.051956728\t-0.014528147\t0.16030794\n",
      "-0.14124352\t-0.012498926\t-0.2810194\t0.06467479\t0.19123472\t-0.015078365\t-0.023807604\t-0.097933024\t0.216877\t-0.04551619\t-0.75377613\t-0.093058996\t-0.29012963\t0.26467696\t0.40692133\t-0.2248811\t0.1065868\t-0.2863888\t0.12894127\t0.118560374\t0.37224156\t-0.03613562\t-0.005840815\t0.16912268\t-0.45506483\t-0.37270156\t0.11892801\t0.22777523\t-0.432958\t-0.18431138\t-0.0994611\t-0.29551992\t0.2639346\t0.09450813\t0.09118852\t0.19160244\t-0.087206766\t-0.36883813\t-0.32211152\t-0.08045624\t-0.12306581\t-0.17705363\t-0.045950357\t-0.09444395\t-0.25126404\t-0.006790378\t0.35783088\t0.15846238\t0.32628077\t0.36358547\t-0.03683878\t0.2569797\t-0.3078665\t-0.16417561\t-0.2647976\t0.09658008\t0.0654794\t-0.02105568\t-0.42447904\t0.116064906\t0.16696565\t0.3169468\t0.08069001\t0.011244033\t-0.0052163596\t-0.3703378\t-0.22213787\t-0.068323754\t-0.580627\t0.015165657\t-0.037246834\t0.12712665\t0.014992873\t0.19937144\t-0.052380797\t-0.38157874\t-0.03417434\t0.32345724\t0.19138002\t-0.00560084\t0.23264736\t-0.03248481\t-0.39423588\t-0.09449797\t0.28571704\t-0.014675793\t0.18542658\t-0.20425804\t0.050503764\t0.3824035\t0.15003599\t0.06577005\t-0.46066806\t0.04612202\t-0.014581942\t0.19415893\n",
      "-0.113298506\t-0.11712393\t0.13862172\t-0.14754349\t0.14803194\t-0.068467684\t0.0030314142\t0.10076267\t0.10687526\t-0.092076614\t-0.3252015\t0.023223197\t-0.044530544\t0.280075\t-0.05041732\t0.06825328\t0.26023382\t-0.2607812\t-0.16811293\t-0.07134885\t-0.2308589\t-0.004084484\t0.12068905\t-0.30046582\t-0.26347905\t0.1165979\t-0.10103863\t0.1478036\t-0.10979724\t-0.021374708\t-0.11850929\t0.049941666\t0.48223487\t-0.24922538\t-0.17455319\t-0.1047341\t0.38804\t0.03389758\t-0.1546976\t-0.21550503\t0.19966178\t0.32634872\t0.13713326\t-0.63615113\t0.116279505\t-0.06597017\t-0.13967164\t-0.6299352\t0.112239435\t-0.06532558\t0.17137352\t0.0052542225\t-0.06495252\t-0.11193699\t-0.42022586\t-0.028542543\t-0.2901036\t-0.009259032\t0.107454985\t0.124280766\t-0.20469116\t-0.02227269\t0.010663835\t-0.0053515406\t-0.09669267\t-0.05854377\t-0.1028957\t-0.11988301\t-0.09747188\t0.1644918\t-0.12787418\t0.008644787\t-0.035903838\t-0.02738298\t0.11748604\t-0.28173193\t-0.18606524\t0.014152863\t0.018958388\t0.034740895\t0.6101353\t-0.018931251\t0.09529294\t0.025329478\t-0.006807464\t0.027508559\t0.17020272\t-0.30737254\t0.08336104\t-0.3081634\t0.113437876\t0.45244431\t-0.060499955\t-0.10618666\t-0.11477361\t0.030679129\n",
      "0.33126128\t0.029581023\t-0.22414653\t-0.024693564\t-0.06324647\t-0.032092668\t-0.19638006\t0.0029766685\t-0.09718607\t0.026278041\t-0.022139292\t0.093432605\t0.0036180003\t0.05494555\t0.14716224\t-0.026038744\t0.072213605\t-0.7843358\t0.062620886\t0.16536938\t-0.52167994\t0.008973795\t-0.012245834\t0.2048723\t-0.005716205\t-0.30751273\t-0.07451023\t0.15238255\t0.28114122\t0.1734392\t-0.5049866\t-0.009916696\t0.39010364\t-0.2583993\t-0.10955255\t-0.2889538\t-0.099960625\t0.17847557\t-0.070325\t0.34011364\t-0.14679487\t0.06889566\t-0.04673903\t0.24108183\t-0.5818238\t0.0029327595\t0.012453786\t0.004987324\t0.049983688\t0.06345405\t-0.1410194\t0.13045385\t-0.2547137\t-0.11928408\t-0.1884786\t0.098032825\t-0.18921871\t0.014660723\t-0.10391898\t-0.12399874\t0.081189826\t0.056059398\t-0.0924309\t-0.052490074\t-0.24433227\t-0.6674685\t-0.16052888\t0.14944424\t-0.049482152\t-0.22280408\t0.10198368\t0.00082501606\t0.034823716\t0.2765854\t0.011499562\t0.15114328\t-0.019269109\t-0.24906301\t0.22080262\t-0.038502753\t0.47190288\t0.051155824\t0.07090072\t0.21703206\t-0.2225064\t-0.28709623\t-0.13786292\t-0.06422205\t0.15205412\t-0.42087173\t0.18205395\t0.23495491\t-0.09663068\t-0.01718173\t0.043901186\t0.110539086\n",
      "-0.1767497\t0.017452035\t0.26766264\t0.20849572\t-0.111127615\t0.021306314\t-0.22732806\t-0.03015202\t0.13131964\t0.003538644\t-0.17217082\t-0.009807099\t-0.76190937\t-0.10728568\t0.49226457\t-0.05143904\t0.3036787\t0.4119517\t-0.121820875\t-0.083884016\t0.10510546\t-0.007102902\t0.2308477\t0.17186968\t0.09479173\t-0.11011173\t0.12106115\t0.05560491\t0.31766883\t0.010662312\t-0.19277689\t0.10992607\t-0.30959812\t0.356776\t-0.2847299\t0.04781397\t0.38072404\t-0.4999711\t0.37997445\t-0.0793361\t0.03427797\t-0.16211766\t0.030844245\t0.2929691\t-0.13843083\t0.0013654123\t0.12539022\t-0.1488375\t0.3603133\t0.04622588\t-0.07955385\t-0.071092084\t0.26743284\t0.44451332\t0.33660617\t0.33146515\t0.072929226\t0.029808814\t-1.0002419\t-0.029011725\t-0.1476175\t-0.19366232\t-0.07715602\t-0.0740447\t-0.1574352\t-0.14826433\t0.3142702\t-0.060148172\t-0.17419475\t0.66512954\t-0.24694532\t-0.1535604\t0.06323076\t0.056014445\t0.5079485\t-0.25267872\t0.30663487\t-0.37491068\t-0.10813947\t0.050187856\t0.36239147\t0.032911073\t0.061553907\t-0.5604761\t-0.4082103\t0.14669889\t-0.1321811\t0.10408781\t-0.090142466\t-0.541729\t-0.14113186\t-0.058035027\t-0.113566406\t0.07126263\t-0.0067162425\t-0.20903364\n",
      "-0.054326683\t-0.18061563\t0.426644\t-0.152852\t-0.20042804\t0.03708071\t-0.0380424\t0.2705647\t-0.41263863\t0.20596628\t-0.3006268\t0.091775216\t0.19214219\t-0.2606982\t0.023924533\t0.3401984\t0.035480283\t0.15267122\t0.09118202\t-0.021256303\t-0.32568017\t0.016724657\t-0.12683143\t0.19757806\t0.160425\t-0.49210218\t-0.19779466\t0.13612044\t0.09483246\t-0.24225274\t-0.25549147\t-0.22345339\t0.04129014\t-0.28672403\t-0.31765348\t-0.09158188\t-0.33322752\t-0.622497\t-0.30430338\t0.09596434\t0.08112633\t-0.19266015\t-0.08483786\t-0.034733962\t0.43145677\t-0.019988755\t0.15723133\t-0.00077253\t0.22765306\t0.4706628\t0.247825\t-0.22606955\t-0.31655496\t-0.26038292\t0.24508671\t-0.04560823\t-0.5423034\t-0.029478243\t-0.34054628\t-0.227278\t0.06860089\t-0.16181868\t-0.022453917\t-0.010069599\t0.14171596\t-0.014344926\t0.04569161\t0.34511477\t0.14847504\t0.7854453\t0.226315\t-0.5650027\t0.067232884\t-0.5729346\t-0.22444978\t-0.24431595\t0.12840079\t0.15946943\t0.05920516\t-0.004302031\t-0.08093908\t-0.07021326\t-0.08165387\t-0.3981109\t-0.5604587\t-0.072441705\t0.103935935\t-0.015253739\t-0.016998576\t-0.17452501\t-0.26262447\t-0.33492705\t-0.13468894\t0.06460607\t0.04682491\t-0.030480389\n",
      "0.17472027\t-0.41115102\t0.46831474\t0.058506638\t0.57579285\t-0.033205025\t-0.24737294\t0.22577237\t-0.07877286\t-0.40779474\t-0.019293135\t0.025157202\t-0.0915754\t0.04786909\t-0.1419751\t0.27884787\t0.74186885\t0.14160556\t-0.12029839\t0.29913935\t0.3860289\t0.028640714\t-0.0070655174\t0.5289334\t0.29294562\t0.1963078\t-0.22481771\t0.40497583\t-0.28656998\t-0.5449014\t0.050998904\t-0.27338412\t-0.54886377\t0.10763448\t-0.48759604\t0.5330529\t-0.282146\t-0.6156195\t-0.63808703\t0.25363645\t-0.09050549\t0.12008581\t0.09866289\t-0.8413292\t0.101348825\t0.062011268\t0.33456856\t0.4799943\t0.41404372\t0.4134876\t-0.27769563\t-0.033363506\t0.28520563\t-0.0717074\t0.017244807\t-0.27445132\t0.2363864\t0.00018138858\t-0.027264748\t-0.35020605\t0.017304193\t-0.11434039\t-0.29502186\t-0.06555549\t0.08887361\t-0.028394658\t-0.4585224\t-0.07976671\t0.014442285\t0.06920625\t-0.4182903\t0.14033529\t-0.15799451\t0.16597411\t0.29340845\t0.03118404\t0.37805253\t-0.35635144\t-0.13568453\t-0.1535331\t-0.122808516\t-0.006868806\t0.51156133\t0.23720232\t-0.044233702\t0.17275487\t-0.356607\t0.016611341\t0.25828177\t-0.64299595\t-0.020813555\t-0.18032885\t-0.43154618\t0.10557828\t0.12149663\t-0.0067821387\n",
      "-0.83854014\t0.04598425\t0.08508799\t-0.12859376\t-0.031953137\t0.017294543\t-0.56461173\t-0.32912648\t-0.072645076\t-0.34422538\t0.30690646\t0.06125628\t-0.7044363\t0.0705478\t0.07827678\t-0.21516946\t-0.15893722\t-0.3278259\t-0.21110812\t0.018566694\t0.44482374\t0.008828514\t-0.11606944\t-0.28708902\t-0.2214868\t-0.17674014\t-0.092696324\t0.13743404\t0.10372072\t-0.06859815\t0.34737763\t-0.31694013\t-0.11161085\t-0.047234125\t0.56490344\t-0.21195534\t-0.048161548\t-0.27775273\t-0.32710212\t0.21169825\t0.6888596\t0.5852201\t0.014933125\t-0.4043153\t0.26961398\t0.035342135\t0.0005145192\t0.5467169\t0.231678\t-0.5435373\t0.37212837\t-0.0015510158\t0.3093902\t-0.5430672\t-0.046098955\t-0.38217154\t-0.13223365\t-0.025775902\t-0.5912835\t-0.12257672\t0.11674201\t0.47638834\t0.02327277\t0.005310935\t-0.14058442\t-0.1760314\t0.10446081\t-0.16293396\t0.51818866\t-0.18980469\t0.4743429\t-0.366389\t-0.031512633\t0.17567281\t0.3269696\t0.9315601\t0.2152034\t0.02761954\t-0.16436319\t-0.013618408\t0.2795877\t0.008041435\t-0.19626863\t-0.035929307\t-0.210771\t-0.43008795\t0.5500237\t0.13753726\t-0.05856077\t-0.30846936\t-0.19587857\t-0.27159396\t-0.22406314\t0.19083871\t0.04884852\t0.17524384\n",
      "-0.07906298\t0.042277083\t-0.40068766\t-0.10597781\t-0.6159972\t0.012143269\t0.73978394\t0.82909244\t-0.541599\t0.6687806\t0.32034707\t0.105706975\t0.28393507\t0.028653897\t0.2465339\t0.4689463\t0.3515771\t-0.37482992\t0.10120615\t-0.5090214\t-0.46566862\t-0.025606466\t0.017939901\t-0.19324358\t0.09529309\t0.34772837\t-0.48877823\t0.5758621\t-0.7645168\t0.42842588\t0.20305638\t-0.9730878\t-0.09155052\t0.07534443\t0.23432392\t1.032221\t0.05440284\t-0.3479488\t-0.6461037\t-0.20110755\t1.2289045\t-0.13984394\t0.087949835\t0.16121304\t0.4825498\t-0.03366511\t0.2974692\t0.16983135\t0.34715098\t0.14900357\t0.18019399\t-0.5065292\t-0.57651126\t0.20189488\t0.811142\t-0.41561675\t-0.041904725\t-0.08713668\t-0.50961536\t-0.43536568\t0.06178973\t0.2401321\t-0.1072916\t-0.029417975\t-0.43026644\t-0.6689792\t0.69645566\t0.21917987\t0.48635623\t0.3429342\t-0.802591\t0.2028837\t-0.0706978\t1.2002156\t-0.05238107\t0.27417165\t0.6866129\t-0.33098233\t0.34827435\t0.043499567\t0.29074922\t-0.035065074\t0.5182287\t0.01668526\t0.14833479\t0.40274292\t-0.14522788\t0.5652615\t0.13751462\t-0.138997\t0.112510055\t-0.26058054\t-0.2386515\t-0.07945679\t-0.092982106\t0.17757165\n",
      "0.35748512\t0.11599698\t0.12743883\t0.6503373\t0.28271094\t-0.43148705\t0.1375667\t-0.030584943\t0.18852358\t0.23449743\t-0.1365124\t0.021321133\t0.09051789\t-0.040454183\t0.58743733\t0.014985397\t0.021252565\t0.44140163\t-0.21454756\t-0.007904481\t-0.23109692\t-0.056426242\t0.037857637\t-0.22942561\t0.3081463\t-0.014839642\t0.21619564\t0.13614303\t0.719815\t-0.015466626\t0.22412881\t-0.59408045\t0.018896084\t0.03354066\t-0.41795996\t0.21494223\t0.032669257\t-0.3580737\t-0.10591594\t0.53756845\t0.56763506\t-0.40714172\t0.613673\t0.31840584\t0.8172491\t0.11025272\t0.15408239\t0.06534544\t0.36475825\t0.61425245\t0.57998866\t-0.28628302\t0.09336432\t0.6381348\t-0.30410805\t-0.11047032\t0.38338336\t0.016964963\t0.21533272\t-0.16988482\t-0.026056837\t-0.24005446\t0.04625519\t-0.9013959\t-0.18152536\t-0.09864238\t0.0124822045\t-0.15002826\t-0.055085618\t0.036721718\t0.46255463\t0.0740066\t0.35181946\t-0.31427518\t0.37963706\t0.058163106\t0.32730424\t0.38393158\t-0.013658418\t0.0035574879\t0.109882936\t0.042843442\t-0.22018021\t0.42672762\t-0.19708133\t-0.14750698\t0.21434858\t0.37155697\t0.11468998\t-0.33555347\t0.45702386\t-0.031899307\t-0.22967683\t-0.52102125\t0.19155703\t1.0849929\n",
      "-0.18344715\t0.207292\t0.59617794\t0.30464515\t0.46745667\t0.081287324\t-0.57477295\t-0.21961665\t-0.62078327\t0.030623566\t0.1177936\t0.04000816\t0.47248706\t0.5387429\t0.42284617\t-0.21275331\t0.45344344\t-0.5198872\t0.17042826\t-0.056232885\t0.015474608\t-0.06318298\t0.4239341\t-0.1799678\t0.27349028\t-0.08979557\t-0.15940215\t0.21637166\t-0.37664253\t-0.17099392\t0.1461759\t-0.31755853\t0.031124618\t-0.0520691\t-0.23764902\t0.20109634\t0.108846225\t0.43339968\t0.115599945\t0.1578261\t0.11869858\t-0.44280478\t-0.013246466\t-0.27459592\t-0.61305344\t0.047380842\t0.25853628\t0.0227654\t0.0732928\t0.28508422\t-0.90968627\t-0.32217336\t0.13694477\t-0.38717243\t-0.33597493\t-0.06644415\t0.1903399\t-0.0053340187\t0.001508266\t-0.6927975\t0.32067406\t-0.37866324\t0.18898232\t-0.37250572\t-0.28989008\t0.47344604\t-0.02975962\t-0.009876942\t0.010967771\t0.7723422\t0.3026817\t0.5556643\t-0.08054664\t-0.11000532\t0.079852246\t0.529645\t-0.030250886\t-0.15784405\t-0.19326197\t-0.223713\t0.07988792\t0.023142848\t-0.052286793\t0.10725072\t-0.004584047\t0.19860697\t0.25956315\t0.31693506\t-0.0022988582\t0.22757998\t0.305976\t0.011017885\t0.3431725\t0.10118165\t0.20648488\t0.23506308\n",
      "0.029474098\t-0.26261488\t0.16737032\t-0.124920234\t-0.2558755\t-0.007390224\t-0.52290803\t-0.3604683\t-0.29121414\t0.41924846\t0.06626464\t0.042597104\t0.008045622\t0.35736817\t-0.71552753\t-0.057223562\t0.28201717\t0.3423259\t0.13490589\t-0.014258914\t-0.004161887\t0.026957113\t-0.0008991953\t0.5208798\t0.2098293\t0.55235374\t0.08035965\t-0.107425995\t0.018489622\t-0.18591979\t0.19731826\t-0.19866157\t-0.3083123\t-0.033015937\t-0.4983894\t0.2787506\t-0.054504953\t0.10003065\t-0.23184365\t0.056481928\t0.17784642\t-0.49852735\t-0.2094486\t0.10010009\t-0.18862951\t-0.048312705\t0.32349852\t0.043242782\t-0.08741209\t0.11388066\t0.040366095\t0.27057743\t-0.6206088\t0.04630078\t-0.07377559\t0.005239055\t-0.3014027\t0.02120088\t-0.02463597\t-0.40581644\t-0.050724126\t-0.33465663\t0.2400682\t0.12889546\t-0.34539685\t-0.074389376\t0.56494004\t0.13219996\t-0.09218148\t-0.48568922\t0.026694203\t0.3085346\t0.1438703\t-0.2549863\t0.40645877\t-0.7671832\t-0.26500973\t-0.01388476\t-0.19216809\t-0.1372369\t0.11507089\t0.010792904\t-0.28480992\t0.6207089\t0.53118473\t0.11909738\t0.36814693\t0.3190536\t-0.009789686\t-0.90733457\t-0.679106\t0.0783345\t-0.12048571\t0.04269996\t-0.15069255\t0.4461425\n",
      "-0.79372656\t-0.3292592\t0.36596897\t0.15772803\t0.028356295\t0.015580466\t-0.14114712\t0.51460826\t0.42766562\t0.04006169\t0.05444265\t-0.07067488\t-0.7139845\t-0.34376773\t-0.37463787\t-0.04270433\t1.164851\t0.36770117\t-0.18255366\t0.17883992\t-0.6492788\t0.0066788644\t-0.019642314\t-0.5094371\t0.34938765\t-0.97606665\t0.11748209\t0.36350325\t-0.21085274\t0.26983625\t-0.66780263\t-0.29256937\t-0.6041736\t-0.11996331\t0.18910491\t-0.22677962\t-0.059132095\t-0.68600714\t0.10351927\t-0.010041451\t0.24475977\t-1.1892897\t0.024830079\t0.5701738\t0.22824454\t0.052680694\t0.123839885\t-0.17863576\t0.09405084\t0.47909394\t-0.36281013\t0.046457246\t0.7032511\t-0.4325548\t0.02223433\t-0.15845898\t-0.6443093\t-0.0010122389\t-0.7747326\t-0.7143285\t-0.056005552\t-0.5686379\t-0.02794792\t0.026476374\t0.435986\t0.7841745\t-0.09562762\t0.33522302\t0.17973232\t-0.69609314\t0.15626705\t1.083563\t-0.10817751\t-0.26599586\t0.021434179\t-0.12673871\t-0.027250314\t0.19495119\t0.81984013\t-0.00068980805\t0.031390183\t-0.009990802\t-0.054246634\t1.3437709\t-0.24238275\t0.64765006\t0.18979082\t-0.25035378\t-0.028751902\t0.2018121\t-0.6250478\t0.3622747\t-0.63168204\t-1.1391308\t0.008826732\t-0.10755943\n",
      "0.5137351\t0.28275526\t-0.21640748\t-0.6523648\t0.81450313\t-0.124790646\t-0.32584935\t0.15366662\t0.00053552655\t0.44590777\t-0.27781594\t0.0816179\t-0.59568644\t1.0613232\t-0.30334076\t0.22833565\t0.29517323\t0.08213201\t-0.21115804\t-0.35090142\t0.31068733\t-0.094693996\t-0.99763346\t0.24634585\t-0.050036557\t0.06813668\t-0.9918398\t-0.36589274\t0.3920513\t-0.25654876\t-0.48314273\t-0.13578235\t-0.054520328\t0.2155787\t-0.44091776\t0.44241408\t0.4914431\t-0.4753769\t-0.5252009\t0.55867994\t-0.675927\t-0.06831388\t-0.19329824\t0.09553189\t0.4084094\t-0.39578655\t0.29251766\t0.087473676\t0.058685552\t0.44258535\t-0.6137205\t-0.11032346\t0.4059249\t0.9963029\t-0.33153498\t0.023578862\t0.089842126\t-0.041734736\t-0.19844261\t0.040402535\t0.33064705\t0.22906065\t0.8240665\t0.6127235\t0.24411997\t-0.25109276\t0.06619339\t-0.116042815\t-0.19282454\t0.51748455\t0.23979938\t0.33020434\t-0.56940484\t0.48252878\t-1.0948346\t0.9532332\t0.2061151\t0.91073525\t0.50426567\t-0.08198162\t0.09305221\t0.08062476\t0.024322186\t-0.15898348\t-0.3289292\t0.011932166\t0.75166184\t0.43740055\t-0.010563793\t-1.0276548\t0.3911618\t-0.15726224\t0.08305412\t-0.78633535\t0.07929293\t-0.054282922\n",
      "0.22213557\t-0.30550417\t-0.0908824\t-0.91086555\t0.17658792\t0.02508938\t-0.19660898\t-0.30360836\t-0.8664869\t-0.45655042\t-0.37156838\t-0.10628856\t-0.53791\t0.7082891\t-0.039948978\t-0.17622063\t-0.14526911\t0.03771059\t-0.13130115\t0.3648589\t-0.08896848\t0.06774415\t-0.17434058\t-0.19200523\t0.1649806\t-0.0020165953\t0.2063953\t-0.29321915\t0.122108\t-0.395177\t0.032645117\t-0.108629666\t0.05096659\t-0.15513022\t-0.12549375\t0.12771165\t-0.69861454\t-0.20922932\t0.2356927\t-0.44533107\t0.23843095\t-0.78409517\t-0.18271337\t0.030506229\t-0.013011558\t-0.53078765\t0.161733\t0.43382913\t0.19994861\t0.14711265\t-0.10196285\t-0.14145502\t0.28577343\t0.46936095\t-0.22904314\t-0.19366322\t-0.026240464\t-0.018013647\t0.058696255\t-0.1640196\t-0.115728006\t-0.10818659\t-0.17303003\t0.39032844\t-0.10649472\t-0.19977576\t-0.43302232\t0.027001692\t-0.034406375\t0.8933044\t0.525153\t0.686262\t0.24835262\t0.092913516\t0.32469037\t0.25241238\t-0.012456054\t-0.43828762\t0.13447167\t-0.13960162\t0.2500923\t0.07170039\t0.40473467\t0.3948577\t0.00028112915\t0.12387907\t-0.15432984\t0.23182994\t0.10291542\t0.16692834\t0.12314711\t0.25914806\t-0.060974006\t-0.5941678\t-0.19163375\t0.28623113\n",
      "0.2008653\t-0.22097714\t-0.36308625\t0.35290515\t0.45644906\t0.035161182\t0.27011675\t0.19073297\t0.14791755\t0.2153251\t0.16524293\t0.28232995\t0.4345523\t0.12871872\t-0.64446586\t0.48961863\t-0.33880705\t-0.82733667\t-0.32722387\t-0.3633756\t0.3227753\t0.06905198\t0.1643136\t0.7157037\t0.12528661\t-0.778826\t0.9004844\t0.2160367\t-0.2898751\t-0.46557194\t-0.12284735\t-0.7038048\t-0.45765236\t0.01515836\t-0.38739434\t0.26038542\t0.098905\t-0.28132\t-0.79592663\t-1.0846996\t0.1569404\t-0.40215912\t-0.030652089\t-0.2758166\t-1.1771684\t-0.33636904\t0.09043453\t0.059340525\t0.3152115\t0.2539231\t0.06700286\t0.8337583\t1.688275\t0.60428905\t0.26407874\t-0.20395376\t-0.32982886\t-0.030442838\t0.062729836\t-0.34407982\t0.43620488\t-0.10507508\t-0.17408757\t-0.22190952\t-0.79421943\t-0.017733809\t0.08386058\t0.3811358\t0.14186575\t0.007860438\t0.41717112\t0.49325755\t0.74089146\t-0.59695715\t-0.07999955\t0.38995484\t0.036765747\t-0.08612076\t0.29807973\t0.23538613\t0.12891388\t0.11685642\t0.45543632\t-0.30499214\t-0.527227\t0.038693555\t0.45260987\t-0.04886635\t-0.11776088\t-0.6019264\t-0.21565785\t-0.16123283\t-0.25984544\t-0.038126044\t-0.0062576043\t0.060293153\n",
      "-0.12457097\t-0.083179474\t-0.5644277\t0.12513229\t0.27786186\t0.82326734\t-0.08449592\t0.24128662\t-0.6747074\t-0.6439868\t-0.69245166\t0.58145833\t-0.08052077\t0.3400978\t-0.44935775\t0.23538066\t-0.10992891\t-0.20903923\t-0.07969677\t0.43166792\t0.02411403\t-0.24017806\t0.3577664\t0.20199008\t-0.092830345\t0.044903196\t0.17127141\t-0.38183352\t0.009421421\t-0.18835354\t-0.20640352\t-0.5865618\t-0.09527486\t-0.50707835\t0.123119\t-0.12473265\t0.16430683\t-0.7664622\t-0.18093348\t-0.20251827\t0.24400526\t-0.38342488\t0.30199063\t-0.010506098\t0.35231867\t0.4233298\t0.34914285\t0.0709625\t0.08079778\t-0.17195828\t-0.25032586\t0.07404311\t0.07671982\t0.4248648\t0.067712665\t0.031703398\t0.9767252\t0.09395532\t-0.4830569\t-0.21506871\t-0.14725856\t-0.0005167721\t0.41788623\t-0.12884599\t-0.14728044\t-0.07686159\t0.26692185\t-0.041099206\t0.074338034\t0.47326767\t0.3702031\t-0.11135691\t-0.6061356\t-0.4845522\t-0.07961827\t-0.08404477\t0.2810501\t0.21868567\t0.25574496\t0.13855903\t0.13852997\t0.6860447\t0.2960005\t0.50944465\t0.13265048\t-0.43642297\t-0.19530204\t-0.08937019\t0.49499485\t-0.5166161\t-0.121662036\t-0.048231244\t-0.00948975\t-0.68549836\t0.1822456\t-0.15750955\n",
      "-0.20104043\t0.08427133\t-0.21047372\t0.12609597\t0.14033169\t0.35768276\t-0.2787634\t-0.074390545\t0.108805485\t0.14936568\t-0.6230665\t0.12542306\t0.1143398\t0.5232185\t0.3567264\t0.015136111\t0.1556369\t-0.22131863\t-0.24467598\t-0.5645459\t0.31341103\t-0.21981916\t0.034880657\t0.29832256\t0.08481046\t-0.28011194\t0.40468088\t-0.008829655\t-0.5356739\t-0.4444552\t0.1421202\t-0.42490235\t-0.31349218\t-0.53082436\t-0.089055225\t-0.35918707\t-0.08953035\t-0.5039979\t-0.23674841\t0.6866481\t0.31072125\t-0.23515214\t-0.1122398\t-0.42848313\t0.19542414\t0.05341125\t0.42578033\t0.21513106\t0.19673257\t0.096415274\t-0.34623447\t-0.6319968\t0.62716484\t0.17622603\t-0.044007067\t-0.09764752\t0.1552239\t0.014796582\t0.012859618\t-0.33658212\t-0.13866141\t0.07519718\t-0.14185295\t0.8250194\t-0.2518041\t0.017216966\t0.3248231\t-0.09118262\t0.009396197\t0.38052836\t0.33021963\t-0.1175114\t-0.2510502\t-0.17255269\t0.123500176\t-0.14015025\t0.15970503\t0.25275993\t0.24442726\t1.0185812\t-0.008235644\t-0.30454415\t0.5283922\t0.32036942\t-0.0827805\t-0.29244867\t-0.8064931\t-0.42987353\t-0.42477107\t-0.65141344\t-0.41666394\t-0.24474628\t-0.012883604\t-0.15449941\t-0.0689807\t0.34857047\n",
      "0.039631967\t-0.25464094\t-0.30685705\t-0.2513021\t0.5736444\t-1.0031228\t-0.03369773\t0.33993262\t-1.0537373\t-0.75094223\t-0.20350613\t-0.47619405\t0.34561586\t-0.2565012\t-0.08687288\t0.3696206\t0.15181\t-0.23065238\t-0.07638599\t-0.38339427\t-0.21023542\t0.06815742\t0.027650531\t0.38509437\t0.027860329\t-0.07727533\t0.15286854\t0.07181027\t-0.2666172\t-0.1645695\t0.040460814\t-0.3446127\t-0.30531254\t-0.58565116\t-0.15322989\t0.15842739\t0.2783903\t-0.7257071\t-0.20043917\t0.35693604\t0.68026584\t-0.3813248\t-0.38047227\t-0.13568497\t-0.2644097\t-0.25534222\t0.47783327\t0.03549357\t0.20618276\t-0.054217596\t-0.20557493\t-0.42754576\t0.3055564\t-0.25245467\t-0.013760032\t-0.23288004\t0.89372474\t0.028943641\t-0.50781095\t-0.49032\t-0.07273014\t-0.2275614\t0.8223026\t-0.119717434\t-0.15502065\t0.0018289178\t0.10216266\t0.08884832\t0.2662766\t-0.13183062\t0.2204809\t-0.18088189\t-0.42444742\t-0.1792323\t0.15532751\t-0.30815586\t0.31402823\t-0.28514484\t0.08618822\t0.39304513\t0.12206512\t0.4149701\t0.0047773747\t0.11916422\t0.11692142\t-0.468953\t-0.33691627\t-0.030094925\t0.05757104\t-0.4155607\t-0.12733966\t-0.08977051\t-0.24170092\t-0.2945425\t-0.063672565\t-0.45712894\n",
      "0.30119252\t0.05073257\t0.30387267\t-0.10233817\t0.3142438\t0.1281418\t-0.96914685\t0.3465629\t0.30664277\t0.19101399\t0.18585902\t0.44005945\t0.3461222\t0.42050692\t-0.49949902\t0.046034254\t-0.24863827\t-0.02492108\t-0.021212157\t0.09973984\t-0.1118032\t0.0008590786\t-0.022384387\t0.24587941\t0.44182426\t-0.15524058\t-0.26749545\t-0.3851512\t-0.24495475\t-0.1557767\t-0.65130097\t0.333121\t0.011899546\t0.34464347\t-0.05288856\t0.34731686\t-0.21521647\t0.1016298\t-0.48657423\t0.1296236\t-0.19168864\t-0.54054284\t0.117163755\t0.3103388\t0.094126254\t0.21995527\t0.4210061\t-0.44690663\t0.057366665\t0.3243353\t1.1417971\t-0.42519593\t0.1974492\t-0.109275006\t0.3615452\t-0.08191896\t0.8354144\t0.017048439\t-0.4807098\t-0.01685451\t0.041087817\t-0.28600118\t0.39929092\t0.0031285698\t-0.9674168\t0.046929866\t-0.77847856\t0.07297224\t0.43911538\t0.37757048\t-0.07346031\t0.31881765\t1.0334066\t0.33534244\t0.27603647\t0.4994534\t-0.12642471\t-0.29531726\t0.14909948\t0.4600171\t0.06795883\t0.23544799\t-0.78114325\t0.31129953\t0.34247425\t0.54935765\t-0.25402334\t0.4909195\t-0.6905427\t-0.085513525\t-0.12801176\t-0.077363335\t-0.05661274\t-0.025986047\t0.11834629\t-0.72770166\n",
      "0.4876727\t-0.016661419\t0.5305154\t0.38178498\t-0.12259076\t0.06411523\t0.12049359\t-0.57713675\t0.0739672\t0.28726694\t0.120477214\t-0.24689895\t0.5808707\t-0.6118085\t-0.5598675\t0.811696\t0.08503718\t-0.15618058\t0.21382889\t0.07927473\t0.068201564\t-0.012434154\t0.04258044\t-0.2745455\t-0.12518075\t-0.20918454\t0.6126222\t-0.21156695\t-0.2640659\t-0.08268947\t0.09387116\t1.1513867\t-0.4470585\t-0.5132584\t-0.38537857\t-0.29151034\t-0.29971647\t-0.20271672\t-0.43851984\t-0.120466575\t0.45322096\t0.036560304\t-0.10572201\t0.30794188\t-0.62023115\t0.16167341\t0.9032813\t-0.7917853\t-0.29048777\t0.18867584\t0.40133718\t0.0027943682\t0.764989\t0.23152845\t-0.7358555\t-0.43827766\t-0.09304371\t0.0064206347\t-1.1631129\t-0.18467115\t0.14666979\t-0.5677491\t0.0014069942\t0.015262396\t-0.118102685\t0.21249844\t0.10111696\t-0.48553705\t0.5596557\t0.5064248\t0.63824\t-0.32733813\t-0.02854104\t0.87637675\t-0.5592978\t-0.3438023\t0.376419\t0.69511175\t-0.6709641\t-0.09607392\t-0.055989772\t0.044744957\t-0.08182291\t0.85847706\t0.64701414\t-0.8176444\t0.28772458\t0.67634183\t0.22701284\t-0.31689835\t0.7491886\t0.78475964\t-0.44636294\t0.24804339\t-0.0343805\t0.60522944\n",
      "-0.21854892\t0.3277965\t-0.032337207\t-0.23811929\t0.18319218\t-0.32208064\t-0.08556566\t-0.0627802\t-0.44017208\t0.7744965\t-0.053055305\t-0.44998923\t-0.31182516\t0.34139064\t-0.75713956\t-0.017105503\t-0.0016839323\t0.3615333\t-0.15390354\t-1.6352577\t0.2310345\t0.22347605\t0.45007288\t0.08333306\t0.24795917\t-0.20772609\t-0.1773326\t-0.1985805\t-0.09222182\t-0.051791217\t-0.13122796\t-0.22215146\t-0.15734205\t0.052320816\t-0.28894505\t-0.09592582\t0.0015897912\t-0.35154393\t0.06056062\t-0.05000116\t-0.12971587\t-0.3613459\t-0.017063677\t0.11658304\t0.18493052\t0.28574556\t-0.07143496\t0.05243508\t0.03252776\t0.26571745\t0.26928863\t0.14440934\t-0.27827373\t0.03242569\t-0.09944377\t0.20368107\t0.81207097\t-0.009474486\t-0.48508576\t-0.09587801\t-0.28953773\t-0.0052763466\t-1.4899653\t-0.1779975\t-1.0880508\t0.05417594\t-0.8066737\t-0.19957933\t-0.08543749\t0.13582689\t0.33470935\t-0.20442103\t-0.8042948\t-0.38531396\t0.06183995\t0.04453976\t0.13276897\t0.40824065\t0.007818483\t-0.6092093\t0.108089484\t-0.08054362\t-0.5003907\t0.2764256\t-0.063632235\t0.005674203\t-0.7345637\t-0.22619297\t0.2472986\t-0.3705398\t-0.34106842\t-0.07759766\t0.024132647\t-0.591463\t0.48546654\t0.1648766\n",
      "0.0076370253\t0.24614413\t0.10372929\t-0.13617894\t0.21633501\t-0.47667217\t0.11158534\t0.15380618\t-0.6378625\t0.04292749\t0.14630051\t0.80972266\t0.2854881\t0.015548571\t0.09135387\t0.049059473\t0.5578351\t0.023678755\t0.0337977\t-0.6580455\t-0.3484652\t-0.792789\t-0.40833783\t-0.13948774\t-0.0035985396\t-0.17404851\t-0.034617096\t0.24316157\t0.021867484\t-0.0985759\t-0.12986325\t0.14345092\t-0.32198286\t-0.11627051\t-0.37535977\t0.05250613\t-0.35315543\t-0.071714714\t0.1153665\t-0.5934471\t0.17449674\t-0.42450055\t0.0912523\t0.20075795\t0.0149850035\t0.5474146\t0.24903026\t0.060940575\t0.11773002\t0.24936993\t-0.32484624\t-0.3598686\t-0.046302594\t-0.16629228\t-0.35016063\t0.0010147624\t0.907058\t0.114167325\t-0.70954764\t-0.49543512\t-0.053131897\t-0.32593116\t-0.49823833\t0.024273803\t-0.6079973\t0.41582373\t-0.29422763\t-0.02639729\t-0.053767066\t-0.29092294\t0.1671563\t-0.08705981\t-0.08952213\t-0.5868455\t0.39375412\t-0.14438331\t0.292876\t0.07660084\t0.31956792\t-0.043579914\t0.08798687\t-0.36116382\t-0.111609496\t0.04255897\t-0.10431137\t-0.33781552\t0.2765527\t0.002043229\t0.2385902\t-0.6099354\t0.33889335\t-0.16301374\t-0.10009381\t-0.27909786\t-0.7202193\t0.17040466\n",
      "-0.42906955\t0.536354\t-0.36701593\t0.5190763\t0.17949611\t0.27604285\t0.7696544\t0.13130032\t0.030813953\t-0.4750367\t-0.37464178\t-1.2654592\t0.5978319\t0.70038986\t-0.31467235\t0.26971665\t0.03246152\t-0.44093972\t0.053115174\t1.0888091\t0.24384354\t-0.607794\t0.23320113\t0.73607755\t0.32015222\t-0.64566046\t0.6997648\t0.099768765\t-0.4203358\t0.19051498\t-0.18008682\t0.2718316\t-0.13443309\t-0.217392\t-0.45407006\t0.017479256\t-0.006249093\t-0.2232043\t-1.016341\t0.41910368\t-0.20873244\t-0.7861511\t0.13798065\t0.01613804\t-0.23729725\t0.054936823\t0.51211655\t-0.20175688\t0.081773266\t0.4768558\t0.7985301\t-0.82519805\t0.5460855\t0.3557328\t0.17025599\t0.120144375\t-0.056146275\t0.12814617\t-0.34032696\t-0.45566306\t-0.55375177\t0.048303183\t0.8960789\t0.083003074\t-1.9446348\t-0.22397602\t-0.0017670735\t0.09876263\t-0.012552632\t0.45019192\t-0.0706667\t-0.3165044\t-1.0242354\t-0.5016506\t0.0324309\t0.5347577\t-0.14811605\t-0.103151254\t0.12189976\t-2.1685088\t0.19512917\t-1.0351323\t0.14368458\t0.57016903\t-0.059413068\t-0.43838087\t0.007818491\t-0.41491824\t-0.6591955\t-0.88181955\t0.183927\t-0.4481599\t0.031026112\t-0.5377966\t-0.058123358\t-0.21159916\n",
      "-0.16976206\t0.58938926\t-0.18593813\t0.12388759\t-0.5377172\t-0.5187584\t-0.3614206\t0.98993033\t-0.23103926\t0.6162698\t0.5867203\t-0.09882522\t0.6145759\t0.07420482\t0.16926433\t0.54373604\t0.35314143\t-1.3112707\t-0.21793823\t0.08162031\t0.57150316\t0.08459843\t-0.11298687\t-0.13069126\t0.094962224\t-0.2941528\t-0.5488058\t0.22064517\t-0.05636918\t0.705982\t-0.41164833\t-0.92334\t-0.4458401\t0.72606707\t-0.490922\t0.24967787\t-0.45356372\t0.5716891\t0.08654888\t0.8202005\t0.39330453\t0.4822381\t-0.4212128\t-0.12933394\t-0.09334497\t0.26909304\t-0.31579643\t-0.18768528\t0.38264605\t0.23998013\t0.6743823\t1.231902\t0.86855066\t0.5541322\t0.2424007\t-0.03466981\t0.6852269\t0.023611616\t-0.34655768\t0.03853833\t0.10612154\t-0.029412968\t0.07894442\t0.8457792\t0.11963044\t0.16295144\t-0.20303287\t0.20288742\t0.3753258\t1.6139593\t-0.39853263\t0.7826926\t-0.13335863\t-0.96739185\t1.3277497\t-0.58549047\t0.62530035\t0.60508853\t0.15444121\t-0.09964582\t-0.33639762\t0.017366098\t0.16896433\t1.1801234\t-0.3716254\t0.1979524\t0.4914757\t-0.22376724\t0.4803148\t-0.00025176146\t0.7516825\t0.12577666\t-0.6633945\t0.75036\t-0.8013322\t-0.6951775\n",
      "0.25058335\t-0.5877059\t0.64613044\t-1.0112029\t-0.16212122\t0.12025781\t0.987409\t0.10619069\t0.3325855\t-0.6202684\t-0.17267597\t0.25921246\t0.3945257\t0.054944392\t0.61882883\t0.46120322\t1.3211657\t-0.22279908\t0.11208204\t0.4596316\t-0.12368577\t0.101801924\t-0.49048218\t0.6477312\t-0.4568258\t1.2370883\t1.1761432\t0.5003653\t-0.33325645\t0.14597952\t-0.24230035\t-1.3450733\t-0.081053674\t-0.38193387\t-0.084151626\t0.6121793\t0.49426797\t-0.13019943\t1.7067082\t0.39820772\t-1.2691898\t0.1850022\t0.069433205\t0.35519296\t0.73396885\t-0.16006285\t0.47125894\t0.051774494\t-0.09262695\t-0.18292534\t0.72934467\t0.7160255\t0.9081821\t-0.5259459\t-0.8745424\t-0.4566217\t-0.3113942\t0.03602909\t-1.1664126\t-0.22200105\t0.67179865\t-0.27294424\t0.014911056\t0.2532745\t-1.4143304\t0.5647087\t-0.097643144\t0.28168187\t0.18098141\t0.51038694\t-0.026249612\t0.2328214\t-0.48287833\t-0.46313462\t-0.5301773\t0.22052\t0.5299353\t-0.52220297\t0.40033457\t-0.2129871\t0.0395388\t0.25460666\t-0.6419103\t0.4057777\t0.060586445\t-0.4906184\t-0.42905164\t0.5898404\t-0.5572063\t-0.57166594\t1.512657\t0.13302647\t0.7314665\t-0.2272243\t-0.2567375\t0.7615927\n",
      "-0.12061039\t0.046638228\t-0.042656578\t0.06874846\t-0.47393203\t0.86774194\t-0.14909223\t0.11442052\t-0.5341739\t-0.72582024\t-0.26918924\t0.118689895\t-0.22308391\t0.16050686\t-0.38528988\t0.20340171\t0.065227546\t-0.14698294\t-0.13096939\t-0.51404804\t0.17039053\t0.14156975\t0.6999785\t-0.111597046\t0.093327366\t-0.08715477\t-0.1273887\t0.03563462\t-0.4799642\t-0.3461172\t-0.00027841603\t-0.6134474\t-0.26149428\t-0.25862503\t-0.051554848\t0.17039683\t0.02419911\t-0.72925526\t-0.09927451\t0.2254351\t-0.013839678\t-0.26710728\t0.37288025\t-0.4495197\t0.09183069\t-0.39548033\t0.22090824\t0.05700366\t0.19116117\t-0.147434\t-0.1304553\t0.39937925\t-0.05179158\t0.34410465\t-0.18731128\t-0.10821859\t0.42949945\t-0.06783754\t-0.46467936\t-0.31043395\t0.094131306\t-0.11680129\t0.91860294\t-0.1834344\t-0.2971505\t-0.14964145\t-0.6808427\t-0.14009176\t0.08117503\t0.3763671\t0.37755463\t-0.07111943\t0.7883294\t-0.47788024\t-0.26361173\t-0.042404413\t0.27969685\t0.34252632\t0.08002345\t-0.07574305\t0.01762862\t-0.633523\t0.7484621\t0.53375846\t-0.12940578\t-0.29355192\t-0.5417314\t-0.09324938\t0.29941884\t-0.8049611\t-0.054555614\t-0.08297986\t-0.02480084\t-0.5105752\t-0.40179348\t0.14420074\n",
      "-0.13764259\t0.19982685\t0.045619726\t-0.6594246\t-0.21892042\t0.32673445\t0.5568715\t0.06364235\t-0.999075\t0.3739844\t0.038620416\t-0.29339737\t-0.36913282\t0.23919672\t-0.051466335\t-0.066439815\t0.9145917\t-0.13348217\t0.13537924\t0.15686564\t-0.006928485\t0.7163289\t-0.2286304\t-0.056562934\t-0.081870325\t0.21842535\t0.39704895\t0.46524698\t-0.024988474\t0.39873022\t-0.38194624\t0.44143975\t-0.32948273\t-0.043425247\t-0.37076172\t0.39966792\t-0.050542206\t-0.13462935\t0.039885327\t0.47283882\t0.12847187\t-0.33312097\t1.9875755\t0.361639\t-0.43822712\t0.2792656\t0.3659124\t0.17864852\t0.14865781\t0.26131815\t-0.14305869\t-0.3124786\t-0.20607233\t0.13970467\t-0.35329667\t0.012757999\t0.568256\t-0.09932407\t-0.5546368\t-0.7724999\t-0.3707384\t-0.18942036\t0.14148314\t1.1722686\t-0.29058194\t0.26102614\t-0.26500785\t-0.20180517\t-0.0596023\t-0.4006233\t-0.3898831\t-0.017337149\t0.2881362\t-1.0426714\t0.22608447\t0.28199384\t0.09173845\t-0.15173706\t0.21977627\t0.4190007\t0.04155591\t-0.008035794\t-0.28019682\t-0.3569049\t0.19767581\t-0.47641638\t0.74039096\t0.2426815\t0.56135064\t-0.57347065\t0.6325141\t-0.0026937926\t-0.18542774\t-0.10766509\t0.025336945\t-0.22962928\n",
      "0.25489438\t-0.14443547\t0.041433293\t-0.010518484\t-1.0679884\t-0.3862527\t0.95530057\t0.32452315\t-0.21306665\t-0.2173975\t-0.6815147\t-0.6566934\t0.3287104\t0.83640915\t-0.6580493\t-0.036534812\t0.18070884\t0.10862265\t-0.29582936\t0.26807475\t0.67561513\t-0.28399232\t0.692145\t0.84026057\t0.18535113\t-0.43565777\t-0.7452294\t-0.41600496\t0.057406675\t-0.23134272\t-0.8269224\t-0.21808982\t-0.12680428\t-0.16165845\t-0.51552457\t-0.7875309\t-0.2604876\t-0.19617182\t0.07717695\t0.020903056\t-1.0546297\t0.061411586\t0.19369319\t0.099547304\t1.0532906\t-0.12962298\t0.5430275\t0.24689558\t-0.12606391\t0.9881293\t-0.63390577\t0.13400844\t1.1501194\t-1.2959008\t-0.7128712\t0.102044694\t0.91710037\t-0.010505519\t-0.6307496\t0.5165993\t-0.23733942\t0.11638334\t-0.18837613\t-0.29079074\t-1.4185818\t0.28374213\t0.59065914\t-0.2586183\t-0.49641937\t0.46188998\t0.6116882\t-0.29591215\t0.5118578\t0.6776013\t0.4855355\t0.35404807\t0.30249646\t0.35502103\t0.30244306\t0.5298654\t-0.093347974\t0.032138992\t-0.020442544\t0.71663606\t-0.42631954\t0.75274026\t1.2875794\t-0.7838088\t0.20026289\t-0.2787367\t0.139006\t0.032567903\t-0.67498577\t-0.021265645\t0.45962393\t0.33484438\n",
      "0.28927898\t0.19238058\t-0.50806165\t0.89976704\t0.29546958\t0.3602513\t-0.24577726\t0.2832448\t-0.7788233\t0.1355495\t-0.34714767\t-0.6191677\t0.29320732\t0.23564634\t0.019803142\t0.12480445\t0.22446229\t0.031565323\t-0.16255637\t0.7216372\t-0.102440886\t0.026372256\t0.07969848\t-0.17357779\t-0.04258456\t0.12797211\t0.023858825\t-0.23133542\t-0.06329668\t0.13976966\t-0.5258114\t0.12926888\t0.08474925\t0.30046624\t0.16461517\t0.13756612\t0.32656208\t-0.2795257\t-0.25221792\t0.031440526\t0.19561721\t0.011422134\t-0.25712252\t0.429873\t0.6949452\t-0.5651607\t0.48949307\t-0.2301661\t0.34779933\t0.10282063\t0.035729837\t-0.2693129\t-0.42370892\t0.12437388\t8.167216e-05\t-0.04077774\t1.0158397\t-0.35931778\t-0.6604959\t-0.031060256\t-0.17720851\t0.10197307\t-1.3529751\t1.3028865\t-0.14884163\t-0.12240141\t-0.4044463\t-0.25702727\t0.15890741\t-0.09884777\t-0.30270612\t-0.24038562\t0.2687077\t-0.65443873\t0.17095475\t0.2372525\t0.30812\t-0.13294558\t0.12976222\t-0.95342135\t-0.028782705\t0.13455822\t0.17973703\t0.054244068\t0.35024837\t-0.2008716\t0.67238736\t0.19291174\t-1.382734\t-0.7258273\t0.5915125\t0.23083468\t-0.53337544\t-0.4784731\t-0.00041648478\t0.07519917\n",
      "-0.044414256\t0.36783338\t-0.045990176\t0.7614426\t-0.3584152\t-0.06215826\t0.25485542\t-0.06764448\t-0.6137732\t-0.22715576\t-0.38226882\t0.31606105\t0.38946134\t0.5306919\t-0.08283765\t0.14056467\t0.30327946\t-0.16042744\t0.064462714\t0.33147445\t0.044257235\t1.105015\t-0.7773539\t0.10320382\t0.1902507\t-0.13013627\t0.08779142\t-0.16020668\t0.270958\t-0.066939406\t-0.4401569\t-0.21445583\t0.13036259\t-0.11712447\t-0.14010337\t-0.16401015\t0.38967484\t-0.23538555\t-0.34876367\t-0.2031739\t0.29615176\t-0.5675202\t-0.6021749\t0.3596163\t0.38268012\t-0.3776177\t0.43319216\t-0.19873963\t0.08764637\t0.62769145\t-0.4328911\t-0.1777219\t-0.2862456\t-0.08956186\t-0.22340263\t0.026889015\t1.0075017\t-0.04205449\t-0.18316002\t-0.32572305\t-0.13609993\t0.05418116\t-0.025003294\t-0.2617049\t-0.92505217\t0.22024031\t-0.36007085\t-0.2808717\t-0.14531395\t0.3431597\t0.084788576\t-0.20992841\t-1.0659069\t-0.35854834\t0.8309952\t0.23340352\t0.3244625\t0.2651147\t-0.18582433\t0.3647819\t0.07494845\t-1.6125035\t-0.32856336\t0.31759515\t0.24870941\t-0.1146761\t0.28257793\t0.11443167\t-0.18585625\t-0.68722737\t0.29726797\t0.10880223\t-0.18426841\t-0.51113635\t-0.5315386\t-0.297072\n",
      "0.19897614\t0.27605492\t-0.4538591\t-0.2187054\t-0.9595579\t0.9042032\t0.3924129\t-0.2370264\t0.19071664\t-0.34646726\t-0.34955618\t-0.7138757\t0.66316086\t0.48592386\t0.4698197\t0.32504696\t0.42113638\t-0.121811986\t-0.2146791\t-0.35015878\t0.13239352\t-0.16246122\t-0.623752\t0.1653257\t0.2049419\t-0.24152775\t-0.4289428\t0.3042827\t-0.6039206\t-0.17405498\t0.2233617\t0.24581225\t-0.13877776\t-0.4194794\t-0.52002966\t-0.10091939\t0.13428326\t-0.24787559\t-0.16842677\t-0.6056353\t0.4917332\t-0.45725164\t-0.14254391\t-0.08942168\t0.06882245\t0.25435507\t0.5723155\t0.26811883\t-2.1540123e-05\t0.513435\t-0.4903711\t-0.482097\t0.53421265\t0.054374285\t-0.56655324\t-0.380235\t-0.31040287\t-0.010231424\t-0.35718855\t-0.45782602\t0.18648544\t-0.2114398\t0.030093675\t0.017049361\t0.025783505\t0.24659273\t-0.40411195\t-0.05085623\t0.09967797\t-0.2553334\t0.32548648\t0.08146341\t0.22707666\t-0.6427674\t1.7130886\t0.1083378\t0.4706153\t0.41959473\t-0.10781032\t-0.21486123\t0.23456414\t0.6008945\t-0.5937474\t0.21715866\t-0.1565499\t-1.0314205\t-0.23720649\t0.07923523\t0.19888374\t-0.83161956\t0.7266104\t0.07742476\t-0.047209263\t-0.1865373\t0.37450036\t-0.6285026\n",
      "-0.3738361\t0.7788859\t-0.2559383\t-0.4684283\t0.17501602\t0.016332189\t0.40913776\t0.17709272\t-0.13521758\t-0.10351965\t-0.075350724\t0.6632844\t0.0415929\t0.5280159\t0.30501992\t0.23640446\t0.56432986\t-0.38190442\t-0.078229494\t0.6059943\t0.2946068\t0.7676819\t-0.022326963\t-0.4380341\t0.042675026\t-0.13953187\t0.038058527\t0.22720484\t-0.32860783\t0.15395173\t-0.238736\t-0.011322057\t-0.2889092\t-0.17981079\t-0.1536358\t0.03900328\t-0.06782189\t-0.3959485\t-0.28232214\t-0.2903027\t-0.19420125\t-0.26059306\t-0.6744505\t0.13070586\t0.27942306\t0.19951266\t0.4265194\t0.055845216\t-0.092096515\t0.18591182\t-0.65683776\t-0.413891\t-0.2526603\t0.4944651\t-0.5568209\t-0.07031933\t0.5193172\t0.05502325\t-0.61346304\t-0.45209983\t0.0027293167\t-0.03547377\t-0.018719656\t-0.19826226\t-0.65782493\t0.117204435\t-0.3866718\t-0.37722126\t-0.0043113823\t-0.34951073\t0.15155332\t-0.035921358\t0.6335067\t-0.9919863\t0.19703062\t0.4609988\t0.26881328\t1.0105382\t0.06651439\t-0.4152031\t0.030627858\t0.2382359\t0.6940815\t0.5688452\t0.05820613\t-0.74194336\t0.3699661\t-0.14812544\t-0.5129344\t-1.0794325\t0.5546014\t0.007248219\t-0.1209046\t-0.52680826\t-0.08744255\t0.23589723\n",
      "0.2364142\t-0.33910435\t0.047783993\t-0.01896961\t0.94286597\t0.56730783\t-0.3516034\t0.43171543\t0.23419344\t0.62686205\t-0.16821392\t1.602684\t-0.3793417\t0.7355259\t-0.8031222\t0.39225954\t0.6034207\t-0.6257686\t-0.21580067\t-0.6374008\t-0.4847311\t-2.1874626\t-0.2940213\t0.31039757\t-0.17370799\t-0.045569737\t0.3571541\t0.096918575\t-0.25103423\t-0.45188335\t-0.35003597\t0.7967908\t0.32880312\t-0.90625685\t0.0925709\t0.30811515\t0.33041674\t-0.3216746\t0.026528796\t-0.5617277\t-0.16799122\t-0.14039779\t-0.20640689\t0.0043932805\t1.0968007\t-0.24954517\t0.110519476\t0.5591334\t-0.11605953\t0.36312848\t-1.145102\t0.524812\t0.025293952\t-0.8341709\t-0.28775892\t-0.25184447\t0.32985628\t0.68790066\t-0.988969\t-0.3084715\t0.44130066\t0.4224107\t0.8997691\t-0.79558253\t0.7312109\t0.013882721\t-0.24983718\t0.11187049\t0.474377\t1.3233309\t0.2869312\t0.9975701\t0.16854733\t-0.43782374\t0.036907867\t0.21290512\t-0.19886369\t-0.05318128\t-0.21691018\t-0.9445221\t-0.06057899\t0.71284413\t0.29898116\t0.29592252\t-0.0657941\t0.70512295\t0.73484176\t0.16840248\t0.717613\t-0.5709762\t0.561342\t-0.19355766\t-0.20748362\t-0.19715653\t-1.2019986\t0.066275455\n"
     ]
    }
   ],
   "source": [
    "!cat password_v2_tf_vectors.tsv"
   ]
  },
  {
   "cell_type": "code",
   "execution_count": null,
   "metadata": {},
   "outputs": [],
   "source": []
  }
 ],
 "metadata": {
  "accelerator": "GPU",
  "colab": {
   "background_execution": "on",
   "collapsed_sections": [],
   "machine_shape": "hm",
   "name": "Password_GPU_GRU",
   "provenance": []
  },
  "gpuClass": "standard",
  "kernelspec": {
   "display_name": "Python 3",
   "language": "python",
   "name": "python3"
  },
  "language_info": {
   "codemirror_mode": {
    "name": "ipython",
    "version": 3
   },
   "file_extension": ".py",
   "mimetype": "text/x-python",
   "name": "python",
   "nbconvert_exporter": "python",
   "pygments_lexer": "ipython3",
   "version": "3.8.10"
  }
 },
 "nbformat": 4,
 "nbformat_minor": 4
}
