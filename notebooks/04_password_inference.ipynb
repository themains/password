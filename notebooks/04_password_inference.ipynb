{
 "cells": [
  {
   "cell_type": "code",
   "execution_count": 2,
   "id": "1e4b7574-6ef9-4675-aedb-2872d5079f43",
   "metadata": {},
   "outputs": [],
   "source": [
    "import tensorflow as tf"
   ]
  },
  {
   "cell_type": "markdown",
   "id": "c4140ee6-c5c5-4c11-b9b2-9d186464392a",
   "metadata": {},
   "source": [
    "## Build Vocab"
   ]
  },
  {
   "cell_type": "code",
   "execution_count": 12,
   "id": "53752f88-18ca-4a42-a8b1-eac74c43dd3e",
   "metadata": {},
   "outputs": [],
   "source": [
    "test_passwds = tf.io.gfile.GFile('passwd_db_test').read().split(\"\\n\")"
   ]
  },
  {
   "cell_type": "code",
   "execution_count": 13,
   "id": "324a0a2e-7c13-41be-bcb4-e08a1b989e6a",
   "metadata": {},
   "outputs": [],
   "source": [
    "tokenizer = tf.keras.preprocessing.text.Tokenizer(filters='', char_level=True, lower=False)\n",
    "tokenizer.fit_on_texts(test_passwds)"
   ]
  },
  {
   "cell_type": "code",
   "execution_count": 14,
   "id": "59c9b064-a35b-49c4-8a4e-536a735cea3b",
   "metadata": {},
   "outputs": [],
   "source": [
    "vocab_size = len(tokenizer.index_word) + 1"
   ]
  },
  {
   "cell_type": "markdown",
   "id": "846fea9f-a217-48fe-9b31-0c64a4749c07",
   "metadata": {},
   "source": [
    "## Define Model"
   ]
  },
  {
   "cell_type": "code",
   "execution_count": 7,
   "id": "a50aacdb-1828-49e9-b7bd-d5d5720cc144",
   "metadata": {},
   "outputs": [],
   "source": [
    "embedding_dim = vocab_size\n",
    "rnn_units = 256 # was 1024\n",
    "\n",
    "class MyModel(tf.keras.Model):\n",
    "  def __init__(self, vocab_size, embedding_dim, rnn_units):\n",
    "    super().__init__(self)\n",
    "    self.embedding = tf.keras.layers.Embedding(vocab_size, embedding_dim)\n",
    "    self.gru = tf.keras.layers.GRU(rnn_units,\n",
    "                                   return_sequences=True,\n",
    "                                   return_state=True)\n",
    "    self.dense = tf.keras.layers.Dense(vocab_size)\n",
    "\n",
    "  def call(self, inputs, states=None, return_state=False, training=False):\n",
    "    x = inputs\n",
    "    x = self.embedding(x, training=training)\n",
    "    if states is None:\n",
    "      states = self.gru.get_initial_state(x)\n",
    "    x, states = self.gru(x, initial_state=states, training=training)\n",
    "    x = self.dense(x, training=training)\n",
    "\n",
    "    if return_state:\n",
    "      return x, states\n",
    "    else:\n",
    "      return x"
   ]
  },
  {
   "cell_type": "markdown",
   "id": "dbbe5534-69b9-4d50-a936-929e50f71842",
   "metadata": {},
   "source": [
    "## Load trained model weights"
   ]
  },
  {
   "cell_type": "code",
   "execution_count": 8,
   "id": "84865742-71ae-4cc2-a19e-c2ac917f88ff",
   "metadata": {},
   "outputs": [],
   "source": [
    "prediction_model = MyModel(\n",
    "    vocab_size=vocab_size,\n",
    "    embedding_dim=embedding_dim,\n",
    "    rnn_units=rnn_units)"
   ]
  },
  {
   "cell_type": "code",
   "execution_count": 9,
   "id": "e518705c-abe0-46ff-8c60-25a68aca1ebb",
   "metadata": {},
   "outputs": [
    {
     "data": {
      "text/plain": [
       "<tensorflow.python.training.tracking.util.CheckpointLoadStatus at 0x7f20a42c35b0>"
      ]
     },
     "execution_count": 9,
     "metadata": {},
     "output_type": "execute_result"
    }
   ],
   "source": [
    "prediction_model.load_weights('gpu_password_gru')"
   ]
  },
  {
   "cell_type": "markdown",
   "id": "a3854a49-a357-4f2e-bab5-2528dccf8b02",
   "metadata": {},
   "source": [
    "## Methods to generate passwords using model"
   ]
  },
  {
   "cell_type": "code",
   "execution_count": 15,
   "id": "8601baf1-a5d0-4129-9415-b234e91aef28",
   "metadata": {},
   "outputs": [],
   "source": [
    "class OneStep(tf.keras.Model):\n",
    "  def __init__(self, model, tokenizer, temperature=1.0):\n",
    "    super().__init__()\n",
    "    self.temperature = temperature\n",
    "    self.model = model\n",
    "    self.tokenizer = tokenizer\n",
    "\n",
    "  #@tf.function\n",
    "  def generate_one_step(self, input_chars, states=None):\n",
    "    #import pdb; pdb.set_trace()\n",
    "    # Convert strings to token IDs.\n",
    "    # input_chars = tf.strings.unicode_split(inputs, 'UTF-8')\n",
    "    if input_chars[0] == '':\n",
    "      input_chars = ' '\n",
    "    input_ids = self.tokenizer.texts_to_sequences(input_chars)\n",
    "    #print(input_chars)\n",
    "    input_ids = tf.keras.preprocessing.sequence.pad_sequences(input_ids, padding='post')\n",
    "\n",
    "    # Run the model.\n",
    "    # predicted_logits.shape is [batch, char, next_char_logits]\n",
    "    predicted_logits, states = self.model(inputs=input_ids, states=states,\n",
    "                                          return_state=True)\n",
    "    # Only use the last prediction.\n",
    "    predicted_logits = predicted_logits[:, -1, :]\n",
    "    predicted_logits = predicted_logits/self.temperature\n",
    "\n",
    "    # Sample the output logits to generate token IDs.\n",
    "    predicted_ids = tf.random.categorical(predicted_logits, num_samples=1)\n",
    "    predicted_ids = tf.squeeze(predicted_ids, axis=-1)\n",
    "\n",
    "    # Convert from token ids to characters\n",
    "    predicted_chars = self.tokenizer.sequences_to_texts([predicted_ids.numpy()])\n",
    "\n",
    "    # Return the characters and model state.\n",
    "    return predicted_chars, states"
   ]
  },
  {
   "cell_type": "code",
   "execution_count": 16,
   "id": "bf8f2b9d-4113-4875-88dc-1018826966ca",
   "metadata": {},
   "outputs": [],
   "source": [
    "one_step_model = OneStep(prediction_model, tokenizer)"
   ]
  },
  {
   "cell_type": "code",
   "execution_count": 19,
   "id": "ec6766e4-80b7-475f-acbb-eae8bd9979f7",
   "metadata": {},
   "outputs": [],
   "source": [
    "def pwds_from_chars(model, start_char, len):\n",
    "  states = None\n",
    "  next_char = [start_char]\n",
    "  result = [next_char]\n",
    "\n",
    "  for n in range(len-1):\n",
    "    next_char, states = model.generate_one_step(next_char, states=states)\n",
    "    result.append(next_char)\n",
    "\n",
    "  result = tf.strings.join(result)\n",
    "  return result[0].numpy().decode('utf-8')"
   ]
  },
  {
   "cell_type": "code",
   "execution_count": 20,
   "id": "05fff0db-7879-4313-93d7-8ae9e87f40c1",
   "metadata": {},
   "outputs": [],
   "source": [
    "def gen_passwords(model, num, pass_len=5, seq_len=3, start_char=None):\n",
    "  passwords = []\n",
    "  gen_char = False\n",
    "  if start_char is None:\n",
    "    gen_char = True\n",
    "  for i in range(num):\n",
    "    # if start char is none, then randomly pick start_char\n",
    "    if gen_char:\n",
    "      start_char = tokenizer.index_word[random.randint(1, len(tokenizer.index_word) - 1)]\n",
    "    passwords.append(pwds_from_chars(model, start_char, pass_len))\n",
    "  return passwords"
   ]
  },
  {
   "cell_type": "code",
   "execution_count": 50,
   "id": "b7b7ba1f-7183-45e6-86ba-8dbf37272b75",
   "metadata": {},
   "outputs": [],
   "source": [
    "def gen_passwords_not_in_training(model, num, pass_len=5, seq_len=3, start_char=None):\n",
    "  passwords = []\n",
    "  gen_char = False\n",
    "  if start_char is None:\n",
    "    gen_char = True\n",
    "  i = 0\n",
    "  while i <= num:\n",
    "    # if start char is none, then randomly pick start_char\n",
    "    if gen_char:\n",
    "      start_char = tokenizer.index_word[random.randint(1, len(tokenizer.index_word) - 1)]\n",
    "    password = pwds_from_chars(model, start_char, pass_len)\n",
    "    if password not in top_10_passwds[start_char]:\n",
    "        passwords.append(password)\n",
    "        i += 1\n",
    "  return passwords"
   ]
  },
  {
   "cell_type": "code",
   "execution_count": 62,
   "id": "d4e4dc59-fcf6-4be2-9f97-db1381c60284",
   "metadata": {},
   "outputs": [],
   "source": [
    "import random\n",
    "\n",
    "def gen_passwords_random(num, pass_len=5, start_char=None):\n",
    "  passwords = []\n",
    "  gen_char = False\n",
    "  if start_char is None:\n",
    "    gen_char = True\n",
    "  for i in range(num):\n",
    "    # if start char is none, then randomly pick start_char\n",
    "    if gen_char:\n",
    "      start_char = tokenizer.index_word[random.randint(1, len(tokenizer.index_word) - 1)]\n",
    "\n",
    "    password = start_char\n",
    "    for j in range(pass_len - 1):\n",
    "      password += tokenizer.index_word[random.randint(1, len(tokenizer.index_word) - 1)]\n",
    "    passwords.append(password)\n",
    "  return passwords"
   ]
  },
  {
   "cell_type": "markdown",
   "id": "04ae1b4d-e455-4c12-86f1-76778f7a5cc7",
   "metadata": {},
   "source": [
    "## Get top 10 starting chars which have high password distribution"
   ]
  },
  {
   "cell_type": "code",
   "execution_count": 31,
   "id": "073f2d8a-81f5-4925-ae26-618677fc9537",
   "metadata": {},
   "outputs": [],
   "source": [
    "import json\n",
    "\n",
    "f = open('passwd_dist.json')\n",
    "data_dist = json.load(f)\n",
    "\n",
    "total_passwds = 0\n",
    "for k in data_dist:\n",
    "    total_passwds += data_dist[k]\n",
    "    \n",
    "prob_pass_start_chars = dict([(k, data_dist[k]/total_passwds) for k in data_dist])"
   ]
  },
  {
   "cell_type": "code",
   "execution_count": 32,
   "id": "72b91d3d-04ef-4bb4-96cd-ad372d5ab472",
   "metadata": {},
   "outputs": [
    {
     "data": {
      "text/plain": [
       "[('k', 0.030112092511078912),\n",
       " ('t', 0.03019875298476047),\n",
       " ('l', 0.03200024618607084),\n",
       " ('d', 0.034974911596357544),\n",
       " ('c', 0.03615092217770743),\n",
       " ('b', 0.036440602438896755),\n",
       " ('m', 0.04673549531688035),\n",
       " ('a', 0.04689793719340077),\n",
       " ('1', 0.04736622677456893),\n",
       " ('s', 0.04979685375899136)]"
      ]
     },
     "execution_count": 32,
     "metadata": {},
     "output_type": "execute_result"
    }
   ],
   "source": [
    "sorted_num_pass_w_char = sorted(prob_pass_start_chars.items(), key=lambda x:x[1])\n",
    "sorted_num_pass_w_char[-10:]"
   ]
  },
  {
   "cell_type": "code",
   "execution_count": 34,
   "id": "8812cbf5-49d1-49ff-9dec-0a6bd51034cf",
   "metadata": {},
   "outputs": [],
   "source": [
    "top_10 = [i for i,j in sorted_num_pass_w_char[-10:]]"
   ]
  },
  {
   "cell_type": "code",
   "execution_count": 35,
   "id": "4164bc19-70ef-48d5-8c96-3e0a9233b2cb",
   "metadata": {},
   "outputs": [
    {
     "data": {
      "text/plain": [
       "['k', 't', 'l', 'd', 'c', 'b', 'm', 'a', '1', 's']"
      ]
     },
     "execution_count": 35,
     "metadata": {},
     "output_type": "execute_result"
    }
   ],
   "source": [
    "top_10"
   ]
  },
  {
   "cell_type": "markdown",
   "id": "fc3e9cba-2671-4610-b947-bcf8ed9baf13",
   "metadata": {},
   "source": [
    "## Grab all passwords starting with these chars with length 5"
   ]
  },
  {
   "cell_type": "code",
   "execution_count": 43,
   "id": "81e9009d-d565-4475-ab77-91b6d370df7d",
   "metadata": {},
   "outputs": [],
   "source": [
    "top_10_passwds = {}\n",
    "\n",
    "for t in top_10:\n",
    "    top_10_passwds[t] = !grep -E '^{t}....$' passwd_db_train"
   ]
  },
  {
   "cell_type": "code",
   "execution_count": 45,
   "id": "5832e314-d78a-4609-bca8-7ce07b1554f1",
   "metadata": {},
   "outputs": [
    {
     "data": {
      "text/plain": [
       "['ssehm',\n",
       " 'soxeZ',\n",
       " 's-nix',\n",
       " 'sh904',\n",
       " 'ssmq4',\n",
       " 'sZ7wk',\n",
       " 'sonya',\n",
       " 'sEzW1',\n",
       " 'spb-0',\n",
       " 'slid5']"
      ]
     },
     "execution_count": 45,
     "metadata": {},
     "output_type": "execute_result"
    }
   ],
   "source": [
    "top_10_passwds['s'][:10]"
   ]
  },
  {
   "cell_type": "markdown",
   "id": "9ed75090-5462-45be-9c95-fc7734587f1a",
   "metadata": {},
   "source": [
    "## Generate passwords not in training set"
   ]
  },
  {
   "cell_type": "code",
   "execution_count": 51,
   "id": "a7ed784a-ccda-48bb-b4bb-0b494360b3b0",
   "metadata": {},
   "outputs": [
    {
     "data": {
      "text/plain": [
       "['mad#r', 'mgpri', 'meirc', 'mywog', 'macra']"
      ]
     },
     "execution_count": 51,
     "metadata": {},
     "output_type": "execute_result"
    }
   ],
   "source": [
    "gen_passwords_not_in_training(one_step_model, 4, pass_len=5, start_char='m')"
   ]
  },
  {
   "cell_type": "code",
   "execution_count": 53,
   "id": "5359c71f-3410-459f-8f2c-71b95afca03c",
   "metadata": {},
   "outputs": [],
   "source": [
    "!grep -E '^macra$' passwd_db_train"
   ]
  },
  {
   "cell_type": "markdown",
   "id": "b9aa1a4d-7c4a-41de-92f5-c61152a5d11b",
   "metadata": {},
   "source": [
    "## Method to check haveibeenpwned database"
   ]
  },
  {
   "cell_type": "code",
   "execution_count": 56,
   "id": "0fed729f-43f4-427c-a043-6e5bfe7a2eb5",
   "metadata": {},
   "outputs": [],
   "source": [
    "import hashlib\n",
    "import requests\n",
    "\n",
    "def check_pwned(passes):\n",
    "  headers = {\n",
    "    \"User-Agent\": \"Mozilla/5.0 (Windows; U; Windows NT 5.1; en-US; rv:1.9.2.8) Gecko/20100722 Firefox/3.6.8 GTB7.1 (.NET CLR 3.5.30729)\", \n",
    "    \"Referer\": \"https://haveibeenpwned.com/\"\n",
    "  }\n",
    "  found_passwds = {}\n",
    "  pwned_api = 'https://api.pwnedpasswords.com/range/'\n",
    "  for p in passes:\n",
    "    hash_object = hashlib.sha1(p.encode())\n",
    "    pbHash = hash_object.hexdigest().upper()\n",
    "    try:\n",
    "      res = requests.get(pwned_api + pbHash[:5],  headers=headers, timeout=10)\n",
    "      range_hashes = res.text.split('\\r\\n')\n",
    "      for h in range_hashes:\n",
    "        h_c = h.split(':')\n",
    "        if h_c[0] == pbHash[5:]:\n",
    "          found_passwds[p] = h_c[1]\n",
    "    except Exception as e:\n",
    "      print(f'request timed out for pass {p}')\n",
    "  return found_passwds"
   ]
  },
  {
   "cell_type": "markdown",
   "id": "2f582d61-ba6c-40c8-90d0-7761a70f00de",
   "metadata": {},
   "source": [
    "## Generate passwords with top 10 chars and check haveibeenpwned"
   ]
  },
  {
   "cell_type": "code",
   "execution_count": 58,
   "id": "7d904a52-a59d-4830-96a8-f73f404bf927",
   "metadata": {},
   "outputs": [
    {
     "name": "stdout",
     "output_type": "stream",
     "text": [
      "char 'k' - model password prob: 0.76\n",
      "char 't' - model password prob: 0.63\n",
      "char 'l' - model password prob: 0.61\n",
      "char 'd' - model password prob: 0.64\n",
      "char 'c' - model password prob: 0.56\n",
      "char 'b' - model password prob: 0.69\n",
      "char 'm' - model password prob: 0.71\n",
      "char 'a' - model password prob: 0.63\n",
      "char '1' - model password prob: 0.67\n",
      "char 's' - model password prob: 0.66\n"
     ]
    }
   ],
   "source": [
    "model_preds = {}\n",
    "\n",
    "total_num_pass = 100\n",
    "pass_length = 5\n",
    "\n",
    "for i in top_10_passwds:\n",
    "    gen_pass = gen_passwords(one_step_model, total_num_pass, pass_len=pass_length, start_char=i)\n",
    "    model_preds[i] = len(check_pwned(gen_pass))/total_num_pass\n",
    "    print(f\"char '{i}' - model password prob: {model_preds[i]}\")"
   ]
  },
  {
   "cell_type": "markdown",
   "id": "d13cdb95-2616-446d-8940-8a1e4ad566aa",
   "metadata": {},
   "source": [
    "## Generate passwords with top 10 chars NOT in training set and check haveibeenpwned"
   ]
  },
  {
   "cell_type": "code",
   "execution_count": 57,
   "id": "ac1d8882-614f-4007-8678-244206fa8859",
   "metadata": {},
   "outputs": [
    {
     "name": "stdout",
     "output_type": "stream",
     "text": [
      "char 'k' - model password prob: 0.12\n",
      "char 't' - model password prob: 0.11\n",
      "char 'l' - model password prob: 0.09\n",
      "char 'd' - model password prob: 0.04\n",
      "char 'c' - model password prob: 0.1\n",
      "char 'b' - model password prob: 0.04\n",
      "char 'm' - model password prob: 0.09\n",
      "char 'a' - model password prob: 0.09\n",
      "char '1' - model password prob: 0.12\n",
      "char 's' - model password prob: 0.11\n"
     ]
    }
   ],
   "source": [
    "model_preds = {}\n",
    "\n",
    "total_num_pass = 100\n",
    "pass_length = 5\n",
    "\n",
    "for i in top_10_passwds:\n",
    "    gen_pass = gen_passwords_not_in_training(one_step_model, total_num_pass, pass_len=pass_length, start_char=i)\n",
    "    model_preds[i] = len(check_pwned(gen_pass))/total_num_pass\n",
    "    print(f\"char '{i}' - model password prob: {model_preds[i]}\")"
   ]
  },
  {
   "cell_type": "markdown",
   "id": "157af698-91e0-4e32-ba98-165d9a3f161d",
   "metadata": {},
   "source": [
    "## Generate random passwords with top 10 chars without using model"
   ]
  },
  {
   "cell_type": "code",
   "execution_count": 65,
   "id": "a4d836e3-6e0b-4489-a820-431534c7f60b",
   "metadata": {},
   "outputs": [
    {
     "name": "stdout",
     "output_type": "stream",
     "text": [
      "char 'k' - model password prob: 0.0\n",
      "char 't' - model password prob: 0.0\n",
      "char 'l' - model password prob: 0.0\n",
      "char 'd' - model password prob: 0.0\n",
      "char 'c' - model password prob: 0.0\n",
      "char 'b' - model password prob: 0.0\n",
      "char 'm' - model password prob: 0.01\n",
      "char 'a' - model password prob: 0.0\n",
      "char '1' - model password prob: 0.0\n",
      "char 's' - model password prob: 0.01\n"
     ]
    }
   ],
   "source": [
    "rand_preds = {}\n",
    "\n",
    "total_num_pass = 100\n",
    "pass_length = 5\n",
    "\n",
    "for i in top_10_passwds:\n",
    "    gen_pass = gen_passwords_random(total_num_pass, pass_len=pass_length, start_char=i)\n",
    "    rand_preds[i] = len(check_pwned(gen_pass))/total_num_pass\n",
    "    print(f\"char '{i}' - model password prob: {rand_preds[i]}\")"
   ]
  },
  {
   "cell_type": "code",
   "execution_count": null,
   "id": "a8d0b55a-7967-4464-b77d-0687ee0fa430",
   "metadata": {},
   "outputs": [],
   "source": []
  }
 ],
 "metadata": {
  "kernelspec": {
   "display_name": "Python 3",
   "language": "python",
   "name": "python3"
  },
  "language_info": {
   "codemirror_mode": {
    "name": "ipython",
    "version": 3
   },
   "file_extension": ".py",
   "mimetype": "text/x-python",
   "name": "python",
   "nbconvert_exporter": "python",
   "pygments_lexer": "ipython3",
   "version": "3.8.10"
  }
 },
 "nbformat": 4,
 "nbformat_minor": 5
}
